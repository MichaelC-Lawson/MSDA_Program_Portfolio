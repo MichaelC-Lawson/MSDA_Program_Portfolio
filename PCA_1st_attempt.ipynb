{
 "cells": [
  {
   "cell_type": "code",
   "execution_count": 2,
   "id": "0380906b",
   "metadata": {},
   "outputs": [
    {
     "name": "stdout",
     "output_type": "stream",
     "text": [
      "Requirement already satisfied: pandas in c:\\users\\mlaws\\anaconda3\\lib\\site-packages (1.2.4)\n",
      "Requirement already satisfied: pytz>=2017.3 in c:\\users\\mlaws\\anaconda3\\lib\\site-packages (from pandas) (2021.1)\n",
      "Requirement already satisfied: numpy>=1.16.5 in c:\\users\\mlaws\\appdata\\roaming\\python\\python38\\site-packages (from pandas) (1.21.2)\n",
      "Requirement already satisfied: python-dateutil>=2.7.3 in c:\\users\\mlaws\\anaconda3\\lib\\site-packages (from pandas) (2.8.1)\n",
      "Requirement already satisfied: six>=1.5 in c:\\users\\mlaws\\anaconda3\\lib\\site-packages (from python-dateutil>=2.7.3->pandas) (1.15.0)\n",
      "Requirement already satisfied: numpy in c:\\users\\mlaws\\appdata\\roaming\\python\\python38\\site-packages (1.21.2)\n",
      "Requirement already satisfied: scipy in c:\\users\\mlaws\\anaconda3\\lib\\site-packages (1.6.2)\n",
      "Requirement already satisfied: numpy<1.23.0,>=1.16.5 in c:\\users\\mlaws\\appdata\\roaming\\python\\python38\\site-packages (from scipy) (1.21.2)\n",
      "Requirement already satisfied: sklearn in c:\\users\\mlaws\\anaconda3\\lib\\site-packages (0.0)\n",
      "Requirement already satisfied: scikit-learn in c:\\users\\mlaws\\anaconda3\\lib\\site-packages (from sklearn) (0.24.1)\n",
      "Requirement already satisfied: numpy>=1.13.3 in c:\\users\\mlaws\\appdata\\roaming\\python\\python38\\site-packages (from scikit-learn->sklearn) (1.21.2)\n",
      "Requirement already satisfied: joblib>=0.11 in c:\\users\\mlaws\\anaconda3\\lib\\site-packages (from scikit-learn->sklearn) (1.0.1)\n",
      "Requirement already satisfied: threadpoolctl>=2.0.0 in c:\\users\\mlaws\\anaconda3\\lib\\site-packages (from scikit-learn->sklearn) (2.1.0)\n",
      "Requirement already satisfied: scipy>=0.19.1 in c:\\users\\mlaws\\anaconda3\\lib\\site-packages (from scikit-learn->sklearn) (1.6.2)\n",
      "Requirement already satisfied: matplotlib in c:\\users\\mlaws\\anaconda3\\lib\\site-packages (3.3.4)\n",
      "Requirement already satisfied: kiwisolver>=1.0.1 in c:\\users\\mlaws\\anaconda3\\lib\\site-packages (from matplotlib) (1.3.1)\n",
      "Requirement already satisfied: python-dateutil>=2.1 in c:\\users\\mlaws\\anaconda3\\lib\\site-packages (from matplotlib) (2.8.1)\n",
      "Requirement already satisfied: numpy>=1.15 in c:\\users\\mlaws\\appdata\\roaming\\python\\python38\\site-packages (from matplotlib) (1.21.2)\n",
      "Requirement already satisfied: cycler>=0.10 in c:\\users\\mlaws\\anaconda3\\lib\\site-packages (from matplotlib) (0.10.0)\n",
      "Requirement already satisfied: pyparsing!=2.0.4,!=2.1.2,!=2.1.6,>=2.0.3 in c:\\users\\mlaws\\anaconda3\\lib\\site-packages (from matplotlib) (2.4.7)\n",
      "Requirement already satisfied: pillow>=6.2.0 in c:\\users\\mlaws\\anaconda3\\lib\\site-packages (from matplotlib) (8.2.0)\n",
      "Requirement already satisfied: six in c:\\users\\mlaws\\anaconda3\\lib\\site-packages (from cycler>=0.10->matplotlib) (1.15.0)\n",
      "Requirement already satisfied: missingno in c:\\users\\mlaws\\anaconda3\\lib\\site-packages (0.5.0)\n",
      "Requirement already satisfied: matplotlib in c:\\users\\mlaws\\anaconda3\\lib\\site-packages (from missingno) (3.3.4)\n",
      "Requirement already satisfied: numpy in c:\\users\\mlaws\\appdata\\roaming\\python\\python38\\site-packages (from missingno) (1.21.2)\n",
      "Requirement already satisfied: seaborn in c:\\users\\mlaws\\anaconda3\\lib\\site-packages (from missingno) (0.11.1)\n",
      "Requirement already satisfied: scipy in c:\\users\\mlaws\\anaconda3\\lib\\site-packages (from missingno) (1.6.2)\n",
      "Requirement already satisfied: pyparsing!=2.0.4,!=2.1.2,!=2.1.6,>=2.0.3 in c:\\users\\mlaws\\anaconda3\\lib\\site-packages (from matplotlib->missingno) (2.4.7)\n",
      "Requirement already satisfied: cycler>=0.10 in c:\\users\\mlaws\\anaconda3\\lib\\site-packages (from matplotlib->missingno) (0.10.0)\n",
      "Requirement already satisfied: python-dateutil>=2.1 in c:\\users\\mlaws\\anaconda3\\lib\\site-packages (from matplotlib->missingno) (2.8.1)\n",
      "Requirement already satisfied: pillow>=6.2.0 in c:\\users\\mlaws\\anaconda3\\lib\\site-packages (from matplotlib->missingno) (8.2.0)\n",
      "Requirement already satisfied: kiwisolver>=1.0.1 in c:\\users\\mlaws\\anaconda3\\lib\\site-packages (from matplotlib->missingno) (1.3.1)\n",
      "Requirement already satisfied: six in c:\\users\\mlaws\\anaconda3\\lib\\site-packages (from cycler>=0.10->matplotlib->missingno) (1.15.0)\n",
      "Requirement already satisfied: pandas>=0.23 in c:\\users\\mlaws\\anaconda3\\lib\\site-packages (from seaborn->missingno) (1.2.4)\n",
      "Requirement already satisfied: pytz>=2017.3 in c:\\users\\mlaws\\anaconda3\\lib\\site-packages (from pandas>=0.23->seaborn->missingno) (2021.1)\n"
     ]
    }
   ],
   "source": [
    "#Install needed packages\n",
    "!pip install pandas\n",
    "!pip install numpy\n",
    "!pip install scipy\n",
    "!pip install sklearn\n",
    "!pip install matplotlib\n",
    "!pip install missingno\n",
    "\n",
    "#import full packages or separate tools needed from packages\n",
    "import numpy as np\n",
    "import pandas as pd\n",
    "import matplotlib\n",
    "import matplotlib.pyplot as pp\n",
    "%matplotlib inline\n",
    "import missingno as msno\n",
    "from sklearn.preprocessing import scale\n",
    "from sklearn.decomposition import PCA\n",
    "import scipy.stats as stats"
   ]
  },
  {
   "cell_type": "code",
   "execution_count": 4,
   "id": "9e74d5c9",
   "metadata": {},
   "outputs": [],
   "source": [
    "#Import data from hard drive\n",
    "med = pd.read_csv(r\"C:\\Users\\mlaws\\OneDrive - Western Governors University\\Documents\\WGU\\D206\\medical_raw_data.csv\")"
   ]
  },
  {
   "cell_type": "code",
   "execution_count": 134,
   "id": "668e1a58",
   "metadata": {},
   "outputs": [
    {
     "name": "stdout",
     "output_type": "stream",
     "text": [
      "(10000, 53)\n"
     ]
    }
   ],
   "source": [
    "#Display the number of records and columns in data set\n",
    "print (med.shape)"
   ]
  },
  {
   "cell_type": "code",
   "execution_count": 135,
   "id": "648080e5",
   "metadata": {},
   "outputs": [
    {
     "name": "stdout",
     "output_type": "stream",
     "text": [
      "<class 'pandas.core.frame.DataFrame'>\n",
      "RangeIndex: 10000 entries, 0 to 9999\n",
      "Data columns (total 53 columns):\n",
      " #   Column              Non-Null Count  Dtype  \n",
      "---  ------              --------------  -----  \n",
      " 0   Unnamed: 0          10000 non-null  int64  \n",
      " 1   CaseOrder           10000 non-null  int64  \n",
      " 2   Customer_id         10000 non-null  object \n",
      " 3   Interaction         10000 non-null  object \n",
      " 4   UID                 10000 non-null  object \n",
      " 5   City                10000 non-null  object \n",
      " 6   State               10000 non-null  object \n",
      " 7   County              10000 non-null  object \n",
      " 8   Zip                 10000 non-null  int64  \n",
      " 9   Lat                 10000 non-null  float64\n",
      " 10  Lng                 10000 non-null  float64\n",
      " 11  Population          10000 non-null  int64  \n",
      " 12  Area                10000 non-null  object \n",
      " 13  Timezone            10000 non-null  object \n",
      " 14  Job                 10000 non-null  object \n",
      " 15  Children            7412 non-null   float64\n",
      " 16  Age                 7586 non-null   float64\n",
      " 17  Education           10000 non-null  object \n",
      " 18  Employment          10000 non-null  object \n",
      " 19  Income              7536 non-null   float64\n",
      " 20  Marital             10000 non-null  object \n",
      " 21  Gender              10000 non-null  object \n",
      " 22  ReAdmis             10000 non-null  object \n",
      " 23  VitD_levels         10000 non-null  float64\n",
      " 24  Doc_visits          10000 non-null  int64  \n",
      " 25  Full_meals_eaten    10000 non-null  int64  \n",
      " 26  VitD_supp           10000 non-null  int64  \n",
      " 27  Soft_drink          7533 non-null   object \n",
      " 28  Initial_admin       10000 non-null  object \n",
      " 29  HighBlood           10000 non-null  object \n",
      " 30  Stroke              10000 non-null  object \n",
      " 31  Complication_risk   10000 non-null  object \n",
      " 32  Overweight          9018 non-null   float64\n",
      " 33  Arthritis           10000 non-null  object \n",
      " 34  Diabetes            10000 non-null  object \n",
      " 35  Hyperlipidemia      10000 non-null  object \n",
      " 36  BackPain            10000 non-null  object \n",
      " 37  Anxiety             9016 non-null   float64\n",
      " 38  Allergic_rhinitis   10000 non-null  object \n",
      " 39  Reflux_esophagitis  10000 non-null  object \n",
      " 40  Asthma              10000 non-null  object \n",
      " 41  Services            10000 non-null  object \n",
      " 42  Initial_days        8944 non-null   float64\n",
      " 43  TotalCharge         10000 non-null  float64\n",
      " 44  Additional_charges  10000 non-null  float64\n",
      " 45  Item1               10000 non-null  int64  \n",
      " 46  Item2               10000 non-null  int64  \n",
      " 47  Item3               10000 non-null  int64  \n",
      " 48  Item4               10000 non-null  int64  \n",
      " 49  Item5               10000 non-null  int64  \n",
      " 50  Item6               10000 non-null  int64  \n",
      " 51  Item7               10000 non-null  int64  \n",
      " 52  Item8               10000 non-null  int64  \n",
      "dtypes: float64(11), int64(15), object(27)\n",
      "memory usage: 4.0+ MB\n",
      "None\n"
     ]
    }
   ],
   "source": [
    "# View column names & data types\n",
    "print (med.info())"
   ]
  },
  {
   "cell_type": "code",
   "execution_count": 136,
   "id": "8516907d",
   "metadata": {},
   "outputs": [
    {
     "data": {
      "text/plain": [
       "Unnamed: 0               0\n",
       "CaseOrder                0\n",
       "Customer_id              0\n",
       "Interaction              0\n",
       "UID                      0\n",
       "City                     0\n",
       "State                    0\n",
       "County                   0\n",
       "Zip                      0\n",
       "Lat                      0\n",
       "Lng                      0\n",
       "Population               0\n",
       "Area                     0\n",
       "Timezone                 0\n",
       "Job                      0\n",
       "Children              2588\n",
       "Age                   2414\n",
       "Education                0\n",
       "Employment               0\n",
       "Income                2464\n",
       "Marital                  0\n",
       "Gender                   0\n",
       "ReAdmis                  0\n",
       "VitD_levels              0\n",
       "Doc_visits               0\n",
       "Full_meals_eaten         0\n",
       "VitD_supp                0\n",
       "Soft_drink            2467\n",
       "Initial_admin            0\n",
       "HighBlood                0\n",
       "Stroke                   0\n",
       "Complication_risk        0\n",
       "Overweight             982\n",
       "Arthritis                0\n",
       "Diabetes                 0\n",
       "Hyperlipidemia           0\n",
       "BackPain                 0\n",
       "Anxiety                984\n",
       "Allergic_rhinitis        0\n",
       "Reflux_esophagitis       0\n",
       "Asthma                   0\n",
       "Services                 0\n",
       "Initial_days          1056\n",
       "TotalCharge              0\n",
       "Additional_charges       0\n",
       "Item1                    0\n",
       "Item2                    0\n",
       "Item3                    0\n",
       "Item4                    0\n",
       "Item5                    0\n",
       "Item6                    0\n",
       "Item7                    0\n",
       "Item8                    0\n",
       "dtype: int64"
      ]
     },
     "execution_count": 136,
     "metadata": {},
     "output_type": "execute_result"
    }
   ],
   "source": [
    "#Examine total nulls in each column\n",
    "med.isnull().sum()"
   ]
  },
  {
   "cell_type": "code",
   "execution_count": 137,
   "id": "4f11051f",
   "metadata": {},
   "outputs": [
    {
     "data": {
      "text/plain": [
       "array([nan, 'No', 'Yes'], dtype=object)"
      ]
     },
     "execution_count": 137,
     "metadata": {},
     "output_type": "execute_result"
    }
   ],
   "source": [
    "#histograms will be generated for columns with nulls to assess how to treat.\n",
    "#'Soft_drink' column created an error because the values are not numerical.\n",
    "#The .unique command shows variables in the column.\n",
    "med['Soft_drink'].unique()"
   ]
  },
  {
   "cell_type": "code",
   "execution_count": 138,
   "id": "8654d516",
   "metadata": {},
   "outputs": [],
   "source": [
    "#Replace yes/no variables with 1/0 similar to True/False boolean.\n",
    "med.Soft_drink.replace(('Yes','No'),(1,0),inplace=True)"
   ]
  },
  {
   "cell_type": "code",
   "execution_count": 139,
   "id": "548bcc7d",
   "metadata": {},
   "outputs": [
    {
     "data": {
      "text/plain": [
       "array([nan,  0.,  1.])"
      ]
     },
     "execution_count": 139,
     "metadata": {},
     "output_type": "execute_result"
    }
   ],
   "source": [
    "#Check that values were changed\n",
    "med['Soft_drink'].unique()"
   ]
  },
  {
   "cell_type": "code",
   "execution_count": 140,
   "id": "7a09ca1b",
   "metadata": {},
   "outputs": [],
   "source": [
    "#Due to the error with 'Soft_drink', the analyst decided to re-express categorical values first.\n",
    "\n",
    "#Convert the remaining yes/no columns to avoid similar issues for other columns.\n",
    "med.ReAdmis.replace(('Yes','No'),(1,0),inplace=True)\n",
    "med.HighBlood.replace(('Yes','No'),(1,0),inplace=True)\n",
    "med.Stroke.replace(('Yes','No'),(1,0),inplace=True)\n",
    "med.Arthritis.replace(('Yes','No'),(1,0),inplace=True)\n",
    "med.Diabetes.replace(('Yes','No'),(1,0),inplace=True)\n",
    "med.Hyperlipidemia.replace(('Yes','No'),(1,0),inplace=True)\n",
    "med.BackPain.replace(('Yes','No'),(1,0),inplace=True)\n",
    "med.Allergic_rhinitis.replace(('Yes','No'),(1,0),inplace=True)\n",
    "med.Reflux_esophagitis.replace(('Yes','No'),(1,0),inplace=True)\n",
    "med.Asthma.replace(('Yes','No'),(1,0),inplace=True)"
   ]
  },
  {
   "cell_type": "code",
   "execution_count": 141,
   "id": "85ac7f68",
   "metadata": {},
   "outputs": [],
   "source": [
    "#Rename survey answer columns to better represent data.\n",
    "med.rename(columns ={'Item1':'S1_Timely_admission', 'Item2':'S2_Timely_Treatment', 'Item3':'S3_Timely_Visits', 'Item4':'S4_Reliability', 'Item5':'S5_Options', 'Item6':'S6_Hours_of_Treatment', 'Item7':'S7_Courteous_staff', 'Item8':'S8_Dr_Actively_Listened'}, inplace=True)"
   ]
  },
  {
   "cell_type": "code",
   "execution_count": 142,
   "id": "f7ac9dfc",
   "metadata": {},
   "outputs": [
    {
     "data": {
      "text/plain": [
       "array(['Some College, Less than 1 Year',\n",
       "       'Some College, 1 or More Years, No Degree',\n",
       "       'GED or Alternative Credential', 'Regular High School Diploma',\n",
       "       \"Bachelor's Degree\", \"Master's Degree\",\n",
       "       'Nursery School to 8th Grade',\n",
       "       '9th Grade to 12th Grade, No Diploma', 'Doctorate Degree',\n",
       "       \"Associate's Degree\", 'Professional School Degree',\n",
       "       'No Schooling Completed'], dtype=object)"
      ]
     },
     "execution_count": 142,
     "metadata": {},
     "output_type": "execute_result"
    }
   ],
   "source": [
    "#Display each unique value in 'Education' column\n",
    "med.Education.unique()"
   ]
  },
  {
   "cell_type": "code",
   "execution_count": 143,
   "id": "2dc13f98",
   "metadata": {},
   "outputs": [],
   "source": [
    "#Create a new education_numeric column to convert 'Education' to ranked numeric.\n",
    "med['education_numeric']= med['Education']\n",
    "dict_edu = {'education_numeric':{'No Schooling Completed':0, 'Nursery School to 8th Grade':8, '9th Grade to 12th Grade, No Diploma':10, 'GED or Alternative Credential':12, 'Regular High School Diploma':12, 'Some College, Less than 1 Year':13, 'Some College, 1 or More Years, No Degree':13, \"Associate's Degree\" : 14, \"Bachelor's Degree\": 16, \"Master's Degree\": 20, 'Professional School Degree':20, 'Doctorate Degree':22, \"unknown\":np.NaN}}\n",
    "med.replace(dict_edu, inplace=True)"
   ]
  },
  {
   "cell_type": "code",
   "execution_count": 144,
   "id": "db8b84cd",
   "metadata": {},
   "outputs": [
    {
     "data": {
      "text/plain": [
       "array([13, 12, 16, 20,  8, 10, 22, 14,  0], dtype=int64)"
      ]
     },
     "execution_count": 144,
     "metadata": {},
     "output_type": "execute_result"
    }
   ],
   "source": [
    "#Verify that all values were converted to numbers.\n",
    "med.education_numeric.unique()"
   ]
  },
  {
   "cell_type": "code",
   "execution_count": 145,
   "id": "cf9b17d0",
   "metadata": {},
   "outputs": [
    {
     "data": {
      "text/plain": [
       "array(['Medium', 'High', 'Low'], dtype=object)"
      ]
     },
     "execution_count": 145,
     "metadata": {},
     "output_type": "execute_result"
    }
   ],
   "source": [
    "#Display each unique value in 'Complication_risk' column.\n",
    "med.Complication_risk.unique()"
   ]
  },
  {
   "cell_type": "code",
   "execution_count": 146,
   "id": "8fddb285",
   "metadata": {},
   "outputs": [],
   "source": [
    "#Replace ordinal values with numbers\n",
    "med.Complication_risk.replace(('Low','Medium', 'High'),(0,1,2),inplace=True)"
   ]
  },
  {
   "cell_type": "code",
   "execution_count": 147,
   "id": "2351d65c",
   "metadata": {},
   "outputs": [
    {
     "data": {
      "text/plain": [
       "array([1, 2, 0], dtype=int64)"
      ]
     },
     "execution_count": 147,
     "metadata": {},
     "output_type": "execute_result"
    }
   ],
   "source": [
    "#Verify that all values are now numeric.\n",
    "med.Complication_risk.unique()"
   ]
  },
  {
   "cell_type": "code",
   "execution_count": 148,
   "id": "219d7ce5",
   "metadata": {},
   "outputs": [
    {
     "data": {
      "text/plain": [
       "array(['Suburban', 'Urban', 'Rural'], dtype=object)"
      ]
     },
     "execution_count": 148,
     "metadata": {},
     "output_type": "execute_result"
    }
   ],
   "source": [
    "#Display Unique Values of 'Area' column.\n",
    "med.Area.unique()"
   ]
  },
  {
   "cell_type": "code",
   "execution_count": 149,
   "id": "6d23be27",
   "metadata": {},
   "outputs": [],
   "source": [
    "#Rank 'Area' in respect to higher population.\n",
    "med.Area.replace(('Rural','Suburban', 'Urban'),(0,1,2),inplace=True)"
   ]
  },
  {
   "cell_type": "code",
   "execution_count": 150,
   "id": "25e88d90",
   "metadata": {},
   "outputs": [],
   "source": [
    "#Replace 'Timezone' values with numbers according to the relation to GMT. \n",
    "med['timezone_numeric'] = med['Timezone']\n",
    "dict_time = {'timezone_numeric':{'America/Chicago': -6, 'America/New_York': -5, 'America/Los_Angeles':-8,\n",
    "       'America/Indiana/Indianapolis': -5, 'America/Detroit': -5,\n",
    "       'America/Denver': -7 , 'America/Nome': -9, 'America/Anchorage': -9,\n",
    "       'America/Phoenix': -7, 'America/Boise': -7, 'America/Puerto_Rico': -4,\n",
    "       'America/Yakutat': -9, 'Pacific/Honolulu': -10, 'America/Menominee': -6,\n",
    "       'America/Kentucky/Louisville': -5, 'America/Indiana/Vincennes': -5,\n",
    "       'America/Toronto': -5, 'America/Indiana/Marengo': -5,\n",
    "       'America/Indiana/Winamac': -5, 'America/Indiana/Tell_City': -6,\n",
    "       'America/Sitka': -9, 'America/Indiana/Knox': -6,\n",
    "       'America/North_Dakota/New_Salem': -6, 'America/Indiana/Vevay': -5,\n",
    "       'America/Adak': -10, 'America/North_Dakota/Beulah': -6}}\n",
    "med.replace(dict_time, inplace=True)"
   ]
  },
  {
   "cell_type": "code",
   "execution_count": 151,
   "id": "9374f829",
   "metadata": {},
   "outputs": [
    {
     "data": {
      "text/plain": [
       "array([ -6,  -5,  -8,  -7,  -9,  -4, -10], dtype=int64)"
      ]
     },
     "execution_count": 151,
     "metadata": {},
     "output_type": "execute_result"
    }
   ],
   "source": [
    "#Verify 'Timezone' is numeric.\n",
    "med.timezone_numeric.unique()"
   ]
  },
  {
   "cell_type": "code",
   "execution_count": 152,
   "id": "43c8fe0b",
   "metadata": {},
   "outputs": [
    {
     "data": {
      "text/plain": [
       "array([[<AxesSubplot:title={'center':'Age'}>]], dtype=object)"
      ]
     },
     "execution_count": 152,
     "metadata": {},
     "output_type": "execute_result"
    },
    {
     "data": {
      "image/png": "[encoded data removed]",
      "text/plain": [
       "<Figure size 432x288 with 1 Axes>"
      ]
     },
     "metadata": {
      "needs_background": "light"
     },
     "output_type": "display_data"
    }
   ],
   "source": [
    "#Create histograms for missing value fields. \n",
    "med.hist(['Age'])"
   ]
  },
  {
   "cell_type": "code",
   "execution_count": 153,
   "id": "e3d216ef",
   "metadata": {},
   "outputs": [
    {
     "data": {
      "text/plain": [
       "array([[<AxesSubplot:title={'center':'Children'}>]], dtype=object)"
      ]
     },
     "execution_count": 153,
     "metadata": {},
     "output_type": "execute_result"
    },
    {
     "data": {
      "image/png": "[encoded data removed]",
      "text/plain": [
       "<Figure size 432x288 with 1 Axes>"
      ]
     },
     "metadata": {
      "needs_background": "light"
     },
     "output_type": "display_data"
    }
   ],
   "source": [
    "med.hist(['Children'])"
   ]
  },
  {
   "cell_type": "code",
   "execution_count": 154,
   "id": "5577f9b2",
   "metadata": {},
   "outputs": [
    {
     "data": {
      "text/plain": [
       "array([[<AxesSubplot:title={'center':'Income'}>]], dtype=object)"
      ]
     },
     "execution_count": 154,
     "metadata": {},
     "output_type": "execute_result"
    },
    {
     "data": {
      "image/png": "[encoded data removed]",
      "text/plain": [
       "<Figure size 432x288 with 1 Axes>"
      ]
     },
     "metadata": {
      "needs_background": "light"
     },
     "output_type": "display_data"
    }
   ],
   "source": [
    "med.hist(['Income'])"
   ]
  },
  {
   "cell_type": "code",
   "execution_count": 155,
   "id": "9729aaeb",
   "metadata": {},
   "outputs": [
    {
     "data": {
      "text/plain": [
       "array([[<AxesSubplot:title={'center':'Overweight'}>]], dtype=object)"
      ]
     },
     "execution_count": 155,
     "metadata": {},
     "output_type": "execute_result"
    },
    {
     "data": {
      "image/png": "[encoded data removed]",
      "text/plain": [
       "<Figure size 432x288 with 1 Axes>"
      ]
     },
     "metadata": {
      "needs_background": "light"
     },
     "output_type": "display_data"
    }
   ],
   "source": [
    "med.hist(['Overweight'])"
   ]
  },
  {
   "cell_type": "code",
   "execution_count": 156,
   "id": "364fc9dc",
   "metadata": {},
   "outputs": [
    {
     "data": {
      "text/plain": [
       "array([[<AxesSubplot:title={'center':'Anxiety'}>]], dtype=object)"
      ]
     },
     "execution_count": 156,
     "metadata": {},
     "output_type": "execute_result"
    },
    {
     "data": {
      "image/png": "[encoded data removed]",
      "text/plain": [
       "<Figure size 432x288 with 1 Axes>"
      ]
     },
     "metadata": {
      "needs_background": "light"
     },
     "output_type": "display_data"
    }
   ],
   "source": [
    "med.hist(['Anxiety'])"
   ]
  },
  {
   "cell_type": "code",
   "execution_count": 157,
   "id": "4ef5d75e",
   "metadata": {},
   "outputs": [
    {
     "data": {
      "text/plain": [
       "array([[<AxesSubplot:title={'center':'Initial_days'}>]], dtype=object)"
      ]
     },
     "execution_count": 157,
     "metadata": {},
     "output_type": "execute_result"
    },
    {
     "data": {
      "image/png": "[encoded data removed]",
      "text/plain": [
       "<Figure size 432x288 with 1 Axes>"
      ]
     },
     "metadata": {
      "needs_background": "light"
     },
     "output_type": "display_data"
    }
   ],
   "source": [
    "med.hist(['Initial_days'])"
   ]
  },
  {
   "cell_type": "code",
   "execution_count": 158,
   "id": "43615622",
   "metadata": {},
   "outputs": [
    {
     "data": {
      "text/plain": [
       "array([[<AxesSubplot:title={'center':'Soft_drink'}>]], dtype=object)"
      ]
     },
     "execution_count": 158,
     "metadata": {},
     "output_type": "execute_result"
    },
    {
     "data": {
      "image/png": "[encoded data removed]",
      "text/plain": [
       "<Figure size 432x288 with 1 Axes>"
      ]
     },
     "metadata": {
      "needs_background": "light"
     },
     "output_type": "display_data"
    }
   ],
   "source": [
    "med.hist(['Soft_drink'])"
   ]
  },
  {
   "cell_type": "code",
   "execution_count": 159,
   "id": "0d0f4eee",
   "metadata": {},
   "outputs": [
    {
     "data": {
      "text/plain": [
       "<AxesSubplot:>"
      ]
     },
     "execution_count": 159,
     "metadata": {},
     "output_type": "execute_result"
    },
    {
     "data": {
      "image/png": "[encoded data removed]",
      "text/plain": [
       "<Figure size 1800x1080 with 1 Axes>"
      ]
     },
     "metadata": {
      "needs_background": "light"
     },
     "output_type": "display_data"
    }
   ],
   "source": [
    "#Create a dendrogram to see if there is any correlation in missing data that might change how missing values are treated.\n",
    "msno.dendrogram(med)"
   ]
  },
  {
   "cell_type": "code",
   "execution_count": 160,
   "id": "2a0858f4",
   "metadata": {},
   "outputs": [
    {
     "name": "stdout",
     "output_type": "stream",
     "text": [
      "<class 'pandas.core.frame.DataFrame'>\n",
      "RangeIndex: 10000 entries, 0 to 9999\n",
      "Data columns (total 55 columns):\n",
      " #   Column                   Non-Null Count  Dtype  \n",
      "---  ------                   --------------  -----  \n",
      " 0   Unnamed: 0               10000 non-null  int64  \n",
      " 1   CaseOrder                10000 non-null  int64  \n",
      " 2   Customer_id              10000 non-null  object \n",
      " 3   Interaction              10000 non-null  object \n",
      " 4   UID                      10000 non-null  object \n",
      " 5   City                     10000 non-null  object \n",
      " 6   State                    10000 non-null  object \n",
      " 7   County                   10000 non-null  object \n",
      " 8   Zip                      10000 non-null  int64  \n",
      " 9   Lat                      10000 non-null  float64\n",
      " 10  Lng                      10000 non-null  float64\n",
      " 11  Population               10000 non-null  int64  \n",
      " 12  Area                     10000 non-null  int64  \n",
      " 13  Timezone                 10000 non-null  object \n",
      " 14  Job                      10000 non-null  object \n",
      " 15  Children                 7412 non-null   float64\n",
      " 16  Age                      7586 non-null   float64\n",
      " 17  Education                10000 non-null  object \n",
      " 18  Employment               10000 non-null  object \n",
      " 19  Income                   7536 non-null   float64\n",
      " 20  Marital                  10000 non-null  object \n",
      " 21  Gender                   10000 non-null  object \n",
      " 22  ReAdmis                  10000 non-null  int64  \n",
      " 23  VitD_levels              10000 non-null  float64\n",
      " 24  Doc_visits               10000 non-null  int64  \n",
      " 25  Full_meals_eaten         10000 non-null  int64  \n",
      " 26  VitD_supp                10000 non-null  int64  \n",
      " 27  Soft_drink               7533 non-null   float64\n",
      " 28  Initial_admin            10000 non-null  object \n",
      " 29  HighBlood                10000 non-null  int64  \n",
      " 30  Stroke                   10000 non-null  int64  \n",
      " 31  Complication_risk        10000 non-null  int64  \n",
      " 32  Overweight               9018 non-null   float64\n",
      " 33  Arthritis                10000 non-null  int64  \n",
      " 34  Diabetes                 10000 non-null  int64  \n",
      " 35  Hyperlipidemia           10000 non-null  int64  \n",
      " 36  BackPain                 10000 non-null  int64  \n",
      " 37  Anxiety                  9016 non-null   float64\n",
      " 38  Allergic_rhinitis        10000 non-null  int64  \n",
      " 39  Reflux_esophagitis       10000 non-null  int64  \n",
      " 40  Asthma                   10000 non-null  int64  \n",
      " 41  Services                 10000 non-null  object \n",
      " 42  Initial_days             8944 non-null   float64\n",
      " 43  TotalCharge              10000 non-null  float64\n",
      " 44  Additional_charges       10000 non-null  float64\n",
      " 45  S1_Timely_admission      10000 non-null  int64  \n",
      " 46  S2_Timely_Treatment      10000 non-null  int64  \n",
      " 47  S3_Timely_Visits         10000 non-null  int64  \n",
      " 48  S4_Reliability           10000 non-null  int64  \n",
      " 49  S5_Options               10000 non-null  int64  \n",
      " 50  S6_Hours_of_Treatment    10000 non-null  int64  \n",
      " 51  S7_Courteous_staff       10000 non-null  int64  \n",
      " 52  S8_Dr_Actively_Listened  10000 non-null  int64  \n",
      " 53  education_numeric        10000 non-null  int64  \n",
      " 54  timezone_numeric         10000 non-null  int64  \n",
      "dtypes: float64(12), int64(29), object(14)\n",
      "memory usage: 4.2+ MB\n"
     ]
    }
   ],
   "source": [
    "#View what columns are still Dtype \"object\" to see if any ordinal value columns remain to be re-expressed. \n",
    "med.info()"
   ]
  },
  {
   "cell_type": "code",
   "execution_count": 161,
   "id": "aaa97cd3",
   "metadata": {},
   "outputs": [],
   "source": [
    "#Fill null values of balances data with mean average\n",
    "med['Age'].fillna(med['Age'].median(), inplace=True)"
   ]
  },
  {
   "cell_type": "code",
   "execution_count": 162,
   "id": "789fb80d",
   "metadata": {},
   "outputs": [],
   "source": [
    "#Fill null values of skewed or bi-modal data with median.\n",
    "med['Children'].fillna(med['Children'].median(), inplace=True)"
   ]
  },
  {
   "cell_type": "code",
   "execution_count": 163,
   "id": "d03ce7ab",
   "metadata": {},
   "outputs": [],
   "source": [
    "med['Income'].fillna(med['Income'].median(), inplace=True)"
   ]
  },
  {
   "cell_type": "code",
   "execution_count": 164,
   "id": "105c0155",
   "metadata": {},
   "outputs": [],
   "source": [
    "med['Overweight'].fillna(med['Overweight'].median(), inplace=True)"
   ]
  },
  {
   "cell_type": "code",
   "execution_count": 165,
   "id": "9f5b04c1",
   "metadata": {},
   "outputs": [],
   "source": [
    "med['Anxiety'].fillna(med['Anxiety'].median(), inplace=True)"
   ]
  },
  {
   "cell_type": "code",
   "execution_count": 166,
   "id": "04db65ef",
   "metadata": {},
   "outputs": [],
   "source": [
    "med['Initial_days'].fillna(med['Initial_days'].median(), inplace=True)"
   ]
  },
  {
   "cell_type": "code",
   "execution_count": 167,
   "id": "533ad8ed",
   "metadata": {},
   "outputs": [],
   "source": [
    "med['Soft_drink'].fillna(med['Soft_drink'].median(), inplace=True)"
   ]
  },
  {
   "cell_type": "code",
   "execution_count": 168,
   "id": "2f8ece9e",
   "metadata": {},
   "outputs": [
    {
     "data": {
      "text/plain": [
       "Unnamed: 0                 0\n",
       "CaseOrder                  0\n",
       "Customer_id                0\n",
       "Interaction                0\n",
       "UID                        0\n",
       "City                       0\n",
       "State                      0\n",
       "County                     0\n",
       "Zip                        0\n",
       "Lat                        0\n",
       "Lng                        0\n",
       "Population                 0\n",
       "Area                       0\n",
       "Timezone                   0\n",
       "Job                        0\n",
       "Children                   0\n",
       "Age                        0\n",
       "Education                  0\n",
       "Employment                 0\n",
       "Income                     0\n",
       "Marital                    0\n",
       "Gender                     0\n",
       "ReAdmis                    0\n",
       "VitD_levels                0\n",
       "Doc_visits                 0\n",
       "Full_meals_eaten           0\n",
       "VitD_supp                  0\n",
       "Soft_drink                 0\n",
       "Initial_admin              0\n",
       "HighBlood                  0\n",
       "Stroke                     0\n",
       "Complication_risk          0\n",
       "Overweight                 0\n",
       "Arthritis                  0\n",
       "Diabetes                   0\n",
       "Hyperlipidemia             0\n",
       "BackPain                   0\n",
       "Anxiety                    0\n",
       "Allergic_rhinitis          0\n",
       "Reflux_esophagitis         0\n",
       "Asthma                     0\n",
       "Services                   0\n",
       "Initial_days               0\n",
       "TotalCharge                0\n",
       "Additional_charges         0\n",
       "S1_Timely_admission        0\n",
       "S2_Timely_Treatment        0\n",
       "S3_Timely_Visits           0\n",
       "S4_Reliability             0\n",
       "S5_Options                 0\n",
       "S6_Hours_of_Treatment      0\n",
       "S7_Courteous_staff         0\n",
       "S8_Dr_Actively_Listened    0\n",
       "education_numeric          0\n",
       "timezone_numeric           0\n",
       "dtype: int64"
      ]
     },
     "execution_count": 168,
     "metadata": {},
     "output_type": "execute_result"
    }
   ],
   "source": [
    "#Check that null values are full\n",
    "med.isnull().sum()"
   ]
  },
  {
   "cell_type": "code",
   "execution_count": 169,
   "id": "59ff20cf",
   "metadata": {},
   "outputs": [
    {
     "data": {
      "text/plain": [
       "array([[<AxesSubplot:title={'center':'Age'}>]], dtype=object)"
      ]
     },
     "execution_count": 169,
     "metadata": {},
     "output_type": "execute_result"
    },
    {
     "data": {
      "image/png": "[encoded data removed]",
      "text/plain": [
       "<Figure size 432x288 with 1 Axes>"
      ]
     },
     "metadata": {
      "needs_background": "light"
     },
     "output_type": "display_data"
    }
   ],
   "source": [
    "#Histograms of columns that have had missing values imputed.\n",
    "#This will display if the distribution of data has greatly varied from the original data set.\n",
    "med.hist(['Age'])"
   ]
  },
  {
   "cell_type": "code",
   "execution_count": 170,
   "id": "18b06fd8",
   "metadata": {},
   "outputs": [
    {
     "data": {
      "text/plain": [
       "array([[<AxesSubplot:title={'center':'Children'}>]], dtype=object)"
      ]
     },
     "execution_count": 170,
     "metadata": {},
     "output_type": "execute_result"
    },
    {
     "data": {
      "image/png": "[encoded data removed]",
      "text/plain": [
       "<Figure size 432x288 with 1 Axes>"
      ]
     },
     "metadata": {
      "needs_background": "light"
     },
     "output_type": "display_data"
    }
   ],
   "source": [
    "med.hist(['Children'])"
   ]
  },
  {
   "cell_type": "code",
   "execution_count": 171,
   "id": "ab5e0cde",
   "metadata": {},
   "outputs": [
    {
     "data": {
      "text/plain": [
       "array([[<AxesSubplot:title={'center':'Income'}>]], dtype=object)"
      ]
     },
     "execution_count": 171,
     "metadata": {},
     "output_type": "execute_result"
    },
    {
     "data": {
      "image/png": "[encoded data removed]",
      "text/plain": [
       "<Figure size 432x288 with 1 Axes>"
      ]
     },
     "metadata": {
      "needs_background": "light"
     },
     "output_type": "display_data"
    }
   ],
   "source": [
    "med.hist(['Income'])"
   ]
  },
  {
   "cell_type": "code",
   "execution_count": 172,
   "id": "d64db93c",
   "metadata": {},
   "outputs": [
    {
     "data": {
      "text/plain": [
       "array([[<AxesSubplot:title={'center':'Overweight'}>]], dtype=object)"
      ]
     },
     "execution_count": 172,
     "metadata": {},
     "output_type": "execute_result"
    },
    {
     "data": {
      "image/png": "[encoded data removed]",
      "text/plain": [
       "<Figure size 432x288 with 1 Axes>"
      ]
     },
     "metadata": {
      "needs_background": "light"
     },
     "output_type": "display_data"
    }
   ],
   "source": [
    "med.hist(['Overweight'])"
   ]
  },
  {
   "cell_type": "code",
   "execution_count": 173,
   "id": "2fc4e5b6",
   "metadata": {},
   "outputs": [
    {
     "data": {
      "text/plain": [
       "array([[<AxesSubplot:title={'center':'Anxiety'}>]], dtype=object)"
      ]
     },
     "execution_count": 173,
     "metadata": {},
     "output_type": "execute_result"
    },
    {
     "data": {
      "image/png": "[encoded data removed]",
      "text/plain": [
       "<Figure size 432x288 with 1 Axes>"
      ]
     },
     "metadata": {
      "needs_background": "light"
     },
     "output_type": "display_data"
    }
   ],
   "source": [
    "med.hist(['Anxiety'])"
   ]
  },
  {
   "cell_type": "code",
   "execution_count": 174,
   "id": "a6fa4eff",
   "metadata": {},
   "outputs": [
    {
     "data": {
      "text/plain": [
       "array([[<AxesSubplot:title={'center':'Initial_days'}>]], dtype=object)"
      ]
     },
     "execution_count": 174,
     "metadata": {},
     "output_type": "execute_result"
    },
    {
     "data": {
      "image/png": "[encoded data removed]",
      "text/plain": [
       "<Figure size 432x288 with 1 Axes>"
      ]
     },
     "metadata": {
      "needs_background": "light"
     },
     "output_type": "display_data"
    }
   ],
   "source": [
    "med.hist(['Initial_days'])"
   ]
  },
  {
   "cell_type": "code",
   "execution_count": 175,
   "id": "3fcb0c55",
   "metadata": {},
   "outputs": [
    {
     "data": {
      "text/plain": [
       "array([[<AxesSubplot:title={'center':'Soft_drink'}>]], dtype=object)"
      ]
     },
     "execution_count": 175,
     "metadata": {},
     "output_type": "execute_result"
    },
    {
     "data": {
      "image/png": "[encoded data removed]",
      "text/plain": [
       "<Figure size 432x288 with 1 Axes>"
      ]
     },
     "metadata": {
      "needs_background": "light"
     },
     "output_type": "display_data"
    }
   ],
   "source": [
    "med.hist(['Soft_drink'])"
   ]
  },
  {
   "cell_type": "code",
   "execution_count": 177,
   "id": "5310d01d",
   "metadata": {},
   "outputs": [],
   "source": [
    "#Create Z-scores for numerical columns to detect outliers.\n",
    "med['children_z'] = stats.zscore(med['Children'])"
   ]
  },
  {
   "cell_type": "code",
   "execution_count": 178,
   "id": "1cb21953",
   "metadata": {},
   "outputs": [],
   "source": [
    "#Separate Z-scores >3 & <-3 to separate outliers from the rest of the data set.\n",
    "children_outliers = med.query('children_z > 3 | children_z < -3')"
   ]
  },
  {
   "cell_type": "code",
   "execution_count": 179,
   "id": "f467822f",
   "metadata": {},
   "outputs": [
    {
     "data": {
      "text/plain": [
       "(array([157.,   0.,   0.,   0.,   0.,  83.,   0.,   0.,   0.,  63.]),\n",
       " array([ 8. ,  8.2,  8.4,  8.6,  8.8,  9. ,  9.2,  9.4,  9.6,  9.8, 10. ]),\n",
       " <BarContainer object of 10 artists>)"
      ]
     },
     "execution_count": 179,
     "metadata": {},
     "output_type": "execute_result"
    },
    {
     "data": {
      "image/png": "[encoded data removed]",
      "text/plain": [
       "<Figure size 432x288 with 1 Axes>"
      ]
     },
     "metadata": {
      "needs_background": "light"
     },
     "output_type": "display_data"
    }
   ],
   "source": [
    "#Display outliers in a histogram\n",
    "#Out of 10,000 patients, it is possible that this number of patients had 8,9, or 10 children. Outliers will be retained.\n",
    "pp.hist(children_outliers['Children'])"
   ]
  },
  {
   "cell_type": "code",
   "execution_count": 180,
   "id": "8083d857",
   "metadata": {},
   "outputs": [],
   "source": [
    "#Zip Z-score\n",
    "med['zip_z'] = stats.zscore(med['Zip'])"
   ]
  },
  {
   "cell_type": "code",
   "execution_count": 181,
   "id": "a56c4dab",
   "metadata": {},
   "outputs": [],
   "source": [
    "zip_outliers = med.query('zip_z > 3 | zip_z < -3')"
   ]
  },
  {
   "cell_type": "code",
   "execution_count": 182,
   "id": "490266e5",
   "metadata": {},
   "outputs": [
    {
     "data": {
      "text/plain": [
       "(array([0., 0., 0., 0., 0., 0., 0., 0., 0., 0.]),\n",
       " array([0. , 0.1, 0.2, 0.3, 0.4, 0.5, 0.6, 0.7, 0.8, 0.9, 1. ]),\n",
       " <BarContainer object of 10 artists>)"
      ]
     },
     "execution_count": 182,
     "metadata": {},
     "output_type": "execute_result"
    },
    {
     "data": {
      "image/png": "[encoded data removed]",
      "text/plain": [
       "<Figure size 432x288 with 1 Axes>"
      ]
     },
     "metadata": {
      "needs_background": "light"
     },
     "output_type": "display_data"
    }
   ],
   "source": [
    "#No outliers detected. No action taken.\n",
    "pp.hist(zip_outliers['Zip'])"
   ]
  },
  {
   "cell_type": "code",
   "execution_count": 183,
   "id": "3f1b1230",
   "metadata": {},
   "outputs": [],
   "source": [
    "#Population Z-score\n",
    "med['pop_z'] = stats.zscore(med['Population'])"
   ]
  },
  {
   "cell_type": "code",
   "execution_count": 184,
   "id": "de8c547d",
   "metadata": {},
   "outputs": [],
   "source": [
    "pop_outliers = med.query('pop_z > 3 | pop_z < -3')"
   ]
  },
  {
   "cell_type": "code",
   "execution_count": 185,
   "id": "71b0b258",
   "metadata": {},
   "outputs": [
    {
     "data": {
      "text/plain": [
       "(array([91., 56., 21., 16., 15.,  7.,  6.,  4.,  0.,  2.]),\n",
       " array([ 54453. ,  61289.1,  68125.2,  74961.3,  81797.4,  88633.5,\n",
       "         95469.6, 102305.7, 109141.8, 115977.9, 122814. ]),\n",
       " <BarContainer object of 10 artists>)"
      ]
     },
     "execution_count": 185,
     "metadata": {},
     "output_type": "execute_result"
    },
    {
     "data": {
      "image/png": "[encoded data removed]",
      "text/plain": [
       "<Figure size 432x288 with 1 Axes>"
      ]
     },
     "metadata": {
      "needs_background": "light"
     },
     "output_type": "display_data"
    }
   ],
   "source": [
    "#These values are realistic populations. These outliers will be retained and adjusted if needed later on in the analysis cycle.\n",
    "pp.hist(pop_outliers['Population'])"
   ]
  },
  {
   "cell_type": "code",
   "execution_count": 186,
   "id": "004a6c4b",
   "metadata": {},
   "outputs": [],
   "source": [
    "#Age Z-scores\n",
    "med['age_z'] = stats.zscore(med['Age'])"
   ]
  },
  {
   "cell_type": "code",
   "execution_count": 187,
   "id": "44b6eacc",
   "metadata": {},
   "outputs": [],
   "source": [
    "age_outliers = med.query('age_z > 3 | age_z < -3')"
   ]
  },
  {
   "cell_type": "code",
   "execution_count": 188,
   "id": "88f2cbf3",
   "metadata": {},
   "outputs": [
    {
     "data": {
      "text/plain": [
       "(array([0., 0., 0., 0., 0., 0., 0., 0., 0., 0.]),\n",
       " array([0. , 0.1, 0.2, 0.3, 0.4, 0.5, 0.6, 0.7, 0.8, 0.9, 1. ]),\n",
       " <BarContainer object of 10 artists>)"
      ]
     },
     "execution_count": 188,
     "metadata": {},
     "output_type": "execute_result"
    },
    {
     "data": {
      "image/png": "[encoded data removed]",
      "text/plain": [
       "<Figure size 432x288 with 1 Axes>"
      ]
     },
     "metadata": {
      "needs_background": "light"
     },
     "output_type": "display_data"
    }
   ],
   "source": [
    "# No outliers detected\n",
    "pp.hist(age_outliers['Age'])"
   ]
  },
  {
   "cell_type": "code",
   "execution_count": 189,
   "id": "c8b50078",
   "metadata": {},
   "outputs": [],
   "source": [
    "#Income Z-scores\n",
    "med['income_z'] = stats.zscore(med['Income'])"
   ]
  },
  {
   "cell_type": "code",
   "execution_count": 190,
   "id": "a008e03d",
   "metadata": {},
   "outputs": [],
   "source": [
    "#Detect outliers\n",
    "income_outliers = med.query('income_z > 3 | income_z < -3')"
   ]
  },
  {
   "cell_type": "code",
   "execution_count": 191,
   "id": "59a2bdd2",
   "metadata": {},
   "outputs": [
    {
     "data": {
      "text/plain": [
       "(array([54., 38., 25., 23., 11., 11.,  6.,  2.,  7.,  3.]),\n",
       " array([114215.99 , 123519.304, 132822.618, 142125.932, 151429.246,\n",
       "        160732.56 , 170035.874, 179339.188, 188642.502, 197945.816,\n",
       "        207249.13 ]),\n",
       " <BarContainer object of 10 artists>)"
      ]
     },
     "execution_count": 191,
     "metadata": {},
     "output_type": "execute_result"
    },
    {
     "data": {
      "image/png": "[encoded data removed]",
      "text/plain": [
       "<Figure size 432x288 with 1 Axes>"
      ]
     },
     "metadata": {
      "needs_background": "light"
     },
     "output_type": "display_data"
    }
   ],
   "source": [
    "#These incomes are possible for the size of the data set. These outliers will be retained.\n",
    "pp.hist(income_outliers['Income'])"
   ]
  },
  {
   "cell_type": "code",
   "execution_count": 192,
   "id": "499cd0aa",
   "metadata": {},
   "outputs": [],
   "source": [
    "#VitD_levels Z-scores.\n",
    "med['VitD_levels_z'] = stats.zscore(med['VitD_levels'])"
   ]
  },
  {
   "cell_type": "code",
   "execution_count": 193,
   "id": "c4df7aa3",
   "metadata": {},
   "outputs": [],
   "source": [
    "vitd_lev_outliers = med.query('VitD_levels_z > 3 | VitD_levels_z < -3')"
   ]
  },
  {
   "cell_type": "code",
   "execution_count": 194,
   "id": "cab66969",
   "metadata": {},
   "outputs": [
    {
     "data": {
      "text/plain": [
       "(array([  6.,  16.,  38.,  90.,  89., 104.,  88.,  42.,  19.,   8.]),\n",
       " array([40.8416712 , 42.0594165 , 43.27716179, 44.49490709, 45.71265238,\n",
       "        46.93039768, 48.14814298, 49.36588827, 50.58363357, 51.80137886,\n",
       "        53.01912416]),\n",
       " <BarContainer object of 10 artists>)"
      ]
     },
     "execution_count": 194,
     "metadata": {},
     "output_type": "execute_result"
    },
    {
     "data": {
      "image/png": "[encoded data removed]",
      "text/plain": [
       "<Figure size 432x288 with 1 Axes>"
      ]
     },
     "metadata": {
      "needs_background": "light"
     },
     "output_type": "display_data"
    }
   ],
   "source": [
    "# A quick Google search revealed vitamin D levels between 25-40 are normal.\n",
    "#The highest recorded vitamin D level is over 200, so these levels and the number of values seem possible.\n",
    "#Outliers will be retained.\n",
    "pp.hist(vitd_lev_outliers['VitD_levels'])"
   ]
  },
  {
   "cell_type": "code",
   "execution_count": 195,
   "id": "783119ad",
   "metadata": {},
   "outputs": [],
   "source": [
    "#Doc_visits Z-scores.\n",
    "med['doc_vis_z'] = stats.zscore(med['Doc_visits'])"
   ]
  },
  {
   "cell_type": "code",
   "execution_count": 196,
   "id": "6d6f6470",
   "metadata": {},
   "outputs": [],
   "source": [
    "doc_vis_outliers = med.query('doc_vis_z > 3 | doc_vis_z < -3')"
   ]
  },
  {
   "cell_type": "code",
   "execution_count": 197,
   "id": "35b863a6",
   "metadata": {},
   "outputs": [
    {
     "data": {
      "text/plain": [
       "(array([6., 0., 0., 0., 0., 0., 0., 0., 0., 2.]),\n",
       " array([1. , 1.8, 2.6, 3.4, 4.2, 5. , 5.8, 6.6, 7.4, 8.2, 9. ]),\n",
       " <BarContainer object of 10 artists>)"
      ]
     },
     "execution_count": 197,
     "metadata": {},
     "output_type": "execute_result"
    },
    {
     "data": {
      "image/png": "[encoded data removed]",
      "text/plain": [
       "<Figure size 432x288 with 1 Axes>"
      ]
     },
     "metadata": {
      "needs_background": "light"
     },
     "output_type": "display_data"
    }
   ],
   "source": [
    "#6 patients had only one doctor visit and 2 had 9 visits. Out of 10,000 patients, this seems completely possible\n",
    "#Outliers will be retained.\n",
    "pp.hist(doc_vis_outliers['Doc_visits'])"
   ]
  },
  {
   "cell_type": "code",
   "execution_count": 198,
   "id": "388a7835",
   "metadata": {},
   "outputs": [],
   "source": [
    "#Full_meals_eaten Z-scores.\n",
    "med['meals_z'] = stats.zscore(med['Full_meals_eaten'])"
   ]
  },
  {
   "cell_type": "code",
   "execution_count": 199,
   "id": "ee71d20c",
   "metadata": {},
   "outputs": [],
   "source": [
    "meals_outliers = med.query('meals_z > 3 | meals_z < -3')"
   ]
  },
  {
   "cell_type": "code",
   "execution_count": 200,
   "id": "5ad0d55c",
   "metadata": {},
   "outputs": [
    {
     "data": {
      "text/plain": [
       "(array([25.,  0.,  0.,  0.,  0.,  6.,  0.,  0.,  0.,  2.]),\n",
       " array([5. , 5.2, 5.4, 5.6, 5.8, 6. , 6.2, 6.4, 6.6, 6.8, 7. ]),\n",
       " <BarContainer object of 10 artists>)"
      ]
     },
     "execution_count": 200,
     "metadata": {},
     "output_type": "execute_result"
    },
    {
     "data": {
      "image/png": "[encoded data removed]",
      "text/plain": [
       "<Figure size 432x288 with 1 Axes>"
      ]
     },
     "metadata": {
      "needs_background": "light"
     },
     "output_type": "display_data"
    }
   ],
   "source": [
    "#The histogram is not clear on the values given.\n",
    "pp.hist(meals_outliers['Full_meals_eaten'])"
   ]
  },
  {
   "cell_type": "code",
   "execution_count": 201,
   "id": "6fd113bb",
   "metadata": {},
   "outputs": [
    {
     "name": "stdout",
     "output_type": "stream",
     "text": [
      "[5 7 6]\n"
     ]
    }
   ],
   "source": [
    "#Unique values of Full_meals_eaten\n",
    "#The column represents meals for the entire stay. the dictionary says patients are allowed to request more than 3 meals per day.\n",
    "#Outliers will be retained.\n",
    "print(meals_outliers['Full_meals_eaten'].unique())"
   ]
  },
  {
   "cell_type": "code",
   "execution_count": 202,
   "id": "8a4303e8",
   "metadata": {},
   "outputs": [],
   "source": [
    "#VitD_supp Z-scores\n",
    "med['vitd_supp_z'] = stats.zscore(med['VitD_supp'])"
   ]
  },
  {
   "cell_type": "code",
   "execution_count": 203,
   "id": "25cafb52",
   "metadata": {},
   "outputs": [],
   "source": [
    "vitd_supp_outliers = med.query('vitd_supp_z > 3 | vitd_supp_z < -3')"
   ]
  },
  {
   "cell_type": "code",
   "execution_count": 204,
   "id": "fcac4486",
   "metadata": {},
   "outputs": [
    {
     "data": {
      "text/plain": [
       "(array([64.,  0.,  0.,  0.,  0.,  5.,  0.,  0.,  0.,  1.]),\n",
       " array([3. , 3.2, 3.4, 3.6, 3.8, 4. , 4.2, 4.4, 4.6, 4.8, 5. ]),\n",
       " <BarContainer object of 10 artists>)"
      ]
     },
     "execution_count": 204,
     "metadata": {},
     "output_type": "execute_result"
    },
    {
     "data": {
      "image/png": "[encoded data removed]",
      "text/plain": [
       "<Figure size 432x288 with 1 Axes>"
      ]
     },
     "metadata": {
      "needs_background": "light"
     },
     "output_type": "display_data"
    }
   ],
   "source": [
    "#The disctionary states this represent total number of vitamin D supplements provided during stay.\n",
    "#Values appear to be plausible. Outliers will be retained.\n",
    "pp.hist(vitd_supp_outliers['VitD_supp'])"
   ]
  },
  {
   "cell_type": "code",
   "execution_count": 205,
   "id": "505ed9ff",
   "metadata": {},
   "outputs": [],
   "source": [
    "#Initial_days Z-scores.\n",
    "med['initial_days_z'] = stats.zscore(med['Initial_days'])"
   ]
  },
  {
   "cell_type": "code",
   "execution_count": 206,
   "id": "40ecaea2",
   "metadata": {},
   "outputs": [],
   "source": [
    "initial_days_outliers = med.query('initial_days_z > 3 | initial_days_z < -3')"
   ]
  },
  {
   "cell_type": "code",
   "execution_count": 207,
   "id": "e8403506",
   "metadata": {},
   "outputs": [
    {
     "data": {
      "text/plain": [
       "(array([0., 0., 0., 0., 0., 0., 0., 0., 0., 0.]),\n",
       " array([0. , 0.1, 0.2, 0.3, 0.4, 0.5, 0.6, 0.7, 0.8, 0.9, 1. ]),\n",
       " <BarContainer object of 10 artists>)"
      ]
     },
     "execution_count": 207,
     "metadata": {},
     "output_type": "execute_result"
    },
    {
     "data": {
      "image/png": "[encoded data removed]",
      "text/plain": [
       "<Figure size 432x288 with 1 Axes>"
      ]
     },
     "metadata": {
      "needs_background": "light"
     },
     "output_type": "display_data"
    }
   ],
   "source": [
    "#No outliers detected.\n",
    "pp.hist(initial_days_outliers['Initial_days'])"
   ]
  },
  {
   "cell_type": "code",
   "execution_count": 208,
   "id": "a8bdd4a0",
   "metadata": {},
   "outputs": [],
   "source": [
    "#TotalCharge Z-scores\n",
    "med['total_charge_z'] = stats.zscore(med['TotalCharge'])"
   ]
  },
  {
   "cell_type": "code",
   "execution_count": 209,
   "id": "b1d3db47",
   "metadata": {},
   "outputs": [],
   "source": [
    "total_charge_outliers = med.query('total_charge_z > 3 | total_charge_z < -3')"
   ]
  },
  {
   "cell_type": "code",
   "execution_count": 210,
   "id": "0ae2401d",
   "metadata": {},
   "outputs": [
    {
     "data": {
      "text/plain": [
       "(array([13.,  8., 14., 28., 52., 66., 46., 39.,  9.,  1.]),\n",
       " array([16053.46288 , 16600.539013, 17147.615146, 17694.691279,\n",
       "        18241.767412, 18788.843545, 19335.919678, 19882.995811,\n",
       "        20430.071944, 20977.148077, 21524.22421 ]),\n",
       " <BarContainer object of 10 artists>)"
      ]
     },
     "execution_count": 210,
     "metadata": {},
     "output_type": "execute_result"
    },
    {
     "data": {
      "image/png": "[encoded data removed]",
      "text/plain": [
       "<Figure size 432x288 with 1 Axes>"
      ]
     },
     "metadata": {
      "needs_background": "light"
     },
     "output_type": "display_data"
    }
   ],
   "source": [
    "#There are enough values at these levels that they may be accurate for multiple day stays. \n",
    "#They will be retained until further investigation in the data analysis cycle.\n",
    "pp.hist(total_charge_outliers['TotalCharge'])"
   ]
  },
  {
   "cell_type": "code",
   "execution_count": 211,
   "id": "0438ef4a",
   "metadata": {},
   "outputs": [],
   "source": [
    "#Additional_charges Z-scores.\n",
    "med['add_charge_z'] = stats.zscore(med['Additional_charges'])"
   ]
  },
  {
   "cell_type": "code",
   "execution_count": 212,
   "id": "6ac0fc45",
   "metadata": {},
   "outputs": [],
   "source": [
    "#Detect Outliers\n",
    "add_charge_outliers = med.query('add_charge_z > 3 | add_charge_z < -3')"
   ]
  },
  {
   "cell_type": "code",
   "execution_count": 213,
   "id": "1f1b4655",
   "metadata": {
    "scrolled": true
   },
   "outputs": [
    {
     "data": {
      "text/plain": [
       "(array([0., 0., 0., 0., 0., 0., 0., 0., 0., 0.]),\n",
       " array([0. , 0.1, 0.2, 0.3, 0.4, 0.5, 0.6, 0.7, 0.8, 0.9, 1. ]),\n",
       " <BarContainer object of 10 artists>)"
      ]
     },
     "execution_count": 213,
     "metadata": {},
     "output_type": "execute_result"
    },
    {
     "data": {
      "image/png": "[encoded data removed]",
      "text/plain": [
       "<Figure size 432x288 with 1 Axes>"
      ]
     },
     "metadata": {
      "needs_background": "light"
     },
     "output_type": "display_data"
    }
   ],
   "source": [
    "#No outliers detected.\n",
    "pp.hist(add_charge_outliers['Additional_charges'])"
   ]
  },
  {
   "cell_type": "code",
   "execution_count": 215,
   "id": "44d20268",
   "metadata": {},
   "outputs": [],
   "source": [
    "# Export cleaned data\n",
    "med.to_csv(r\"C:\\Users\\mlaws\\OneDrive - Western Governors University\\Documents\\WGU\\D206\\medical_clean_data.csv\")"
   ]
  },
  {
   "cell_type": "markdown",
   "id": "21a807c7",
   "metadata": {},
   "source": []
  },
  {
   "cell_type": "code",
   "execution_count": 216,
   "id": "2e1344df",
   "metadata": {},
   "outputs": [
    {
     "name": "stdout",
     "output_type": "stream",
     "text": [
      "<class 'pandas.core.frame.DataFrame'>\n",
      "RangeIndex: 10000 entries, 0 to 9999\n",
      "Data columns (total 67 columns):\n",
      " #   Column                   Non-Null Count  Dtype  \n",
      "---  ------                   --------------  -----  \n",
      " 0   Unnamed: 0               10000 non-null  int64  \n",
      " 1   CaseOrder                10000 non-null  int64  \n",
      " 2   Customer_id              10000 non-null  object \n",
      " 3   Interaction              10000 non-null  object \n",
      " 4   UID                      10000 non-null  object \n",
      " 5   City                     10000 non-null  object \n",
      " 6   State                    10000 non-null  object \n",
      " 7   County                   10000 non-null  object \n",
      " 8   Zip                      10000 non-null  int64  \n",
      " 9   Lat                      10000 non-null  float64\n",
      " 10  Lng                      10000 non-null  float64\n",
      " 11  Population               10000 non-null  int64  \n",
      " 12  Area                     10000 non-null  int64  \n",
      " 13  Timezone                 10000 non-null  object \n",
      " 14  Job                      10000 non-null  object \n",
      " 15  Children                 10000 non-null  float64\n",
      " 16  Age                      10000 non-null  float64\n",
      " 17  Education                10000 non-null  object \n",
      " 18  Employment               10000 non-null  object \n",
      " 19  Income                   10000 non-null  float64\n",
      " 20  Marital                  10000 non-null  object \n",
      " 21  Gender                   10000 non-null  object \n",
      " 22  ReAdmis                  10000 non-null  int64  \n",
      " 23  VitD_levels              10000 non-null  float64\n",
      " 24  Doc_visits               10000 non-null  int64  \n",
      " 25  Full_meals_eaten         10000 non-null  int64  \n",
      " 26  VitD_supp                10000 non-null  int64  \n",
      " 27  Soft_drink               10000 non-null  float64\n",
      " 28  Initial_admin            10000 non-null  object \n",
      " 29  HighBlood                10000 non-null  int64  \n",
      " 30  Stroke                   10000 non-null  int64  \n",
      " 31  Complication_risk        10000 non-null  int64  \n",
      " 32  Overweight               10000 non-null  float64\n",
      " 33  Arthritis                10000 non-null  int64  \n",
      " 34  Diabetes                 10000 non-null  int64  \n",
      " 35  Hyperlipidemia           10000 non-null  int64  \n",
      " 36  BackPain                 10000 non-null  int64  \n",
      " 37  Anxiety                  10000 non-null  float64\n",
      " 38  Allergic_rhinitis        10000 non-null  int64  \n",
      " 39  Reflux_esophagitis       10000 non-null  int64  \n",
      " 40  Asthma                   10000 non-null  int64  \n",
      " 41  Services                 10000 non-null  object \n",
      " 42  Initial_days             10000 non-null  float64\n",
      " 43  TotalCharge              10000 non-null  float64\n",
      " 44  Additional_charges       10000 non-null  float64\n",
      " 45  S1_Timely_admission      10000 non-null  int64  \n",
      " 46  S2_Timely_Treatment      10000 non-null  int64  \n",
      " 47  S3_Timely_Visits         10000 non-null  int64  \n",
      " 48  S4_Reliability           10000 non-null  int64  \n",
      " 49  S5_Options               10000 non-null  int64  \n",
      " 50  S6_Hours_of_Treatment    10000 non-null  int64  \n",
      " 51  S7_Courteous_staff       10000 non-null  int64  \n",
      " 52  S8_Dr_Actively_Listened  10000 non-null  int64  \n",
      " 53  education_numeric        10000 non-null  int64  \n",
      " 54  timezone_numeric         10000 non-null  int64  \n",
      " 55  children_z               10000 non-null  float64\n",
      " 56  zip_z                    10000 non-null  float64\n",
      " 57  pop_z                    10000 non-null  float64\n",
      " 58  age_z                    10000 non-null  float64\n",
      " 59  income_z                 10000 non-null  float64\n",
      " 60  VitD_levels_z            10000 non-null  float64\n",
      " 61  doc_vis_z                10000 non-null  float64\n",
      " 62  meals_z                  10000 non-null  float64\n",
      " 63  vitd_supp_z              10000 non-null  float64\n",
      " 64  initial_days_z           10000 non-null  float64\n",
      " 65  total_charge_z           10000 non-null  float64\n",
      " 66  add_charge_z             10000 non-null  float64\n",
      "dtypes: float64(24), int64(29), object(14)\n",
      "memory usage: 5.1+ MB\n"
     ]
    }
   ],
   "source": [
    "med.info()"
   ]
  },
  {
   "cell_type": "code",
   "execution_count": 217,
   "id": "8105a02d",
   "metadata": {},
   "outputs": [],
   "source": [
    "# reduce data set to relevant columns\n",
    "med_pca = med[['Zip', 'Lat', 'Lng', 'Population', 'Area', 'Children', 'Age', 'education_numeric', 'Income', 'ReAdmis', 'VitD_levels', 'Doc_visits', 'Full_meals_eaten','VitD_supp', 'Soft_drink','HighBlood','Stroke','Complication_risk', 'Overweight','Arthritis', 'Diabetes', 'Hyperlipidemia','BackPain', 'Anxiety', 'Allergic_rhinitis', 'Reflux_esophagitis', 'Asthma', 'Initial_days','TotalCharge','Additional_charges','S1_Timely_admission','S2_Timely_Treatment','S3_Timely_Visits','S4_Reliability', 'S5_Options','S6_Hours_of_Treatment','S7_Courteous_staff','S8_Dr_Actively_Listened', 'timezone_numeric']]"
   ]
  },
  {
   "cell_type": "code",
   "execution_count": 218,
   "id": "9248fe62",
   "metadata": {},
   "outputs": [],
   "source": [
    "#Normalize reduced data set\n",
    "med_normalized = (med_pca - med_pca.mean())/med_pca.std()"
   ]
  },
  {
   "cell_type": "code",
   "execution_count": 219,
   "id": "8da868e5",
   "metadata": {},
   "outputs": [],
   "source": [
    "#Run PCA\n",
    "pca = PCA(n_components = med_pca.shape[1])"
   ]
  },
  {
   "cell_type": "code",
   "execution_count": 220,
   "id": "7bf306fd",
   "metadata": {},
   "outputs": [
    {
     "data": {
      "text/plain": [
       "PCA(n_components=39)"
      ]
     },
     "execution_count": 220,
     "metadata": {},
     "output_type": "execute_result"
    }
   ],
   "source": [
    "#Fit PCA to dataset\n",
    "pca.fit(med_normalized)"
   ]
  },
  {
   "cell_type": "code",
   "execution_count": 221,
   "id": "04fd4d1f",
   "metadata": {},
   "outputs": [
    {
     "data": {
      "text/html": [
       "<div>\n",
       "<style scoped>\n",
       "    .dataframe tbody tr th:only-of-type {\n",
       "        vertical-align: middle;\n",
       "    }\n",
       "\n",
       "    .dataframe tbody tr th {\n",
       "        vertical-align: top;\n",
       "    }\n",
       "\n",
       "    .dataframe thead th {\n",
       "        text-align: right;\n",
       "    }\n",
       "</style>\n",
       "<table border=\"1\" class=\"dataframe\">\n",
       "  <thead>\n",
       "    <tr style=\"text-align: right;\">\n",
       "      <th></th>\n",
       "      <th>PCA1</th>\n",
       "      <th>PCA2</th>\n",
       "      <th>PCA3</th>\n",
       "      <th>PCA4</th>\n",
       "      <th>PCA5</th>\n",
       "      <th>PCA6</th>\n",
       "      <th>PCA7</th>\n",
       "      <th>PCA8</th>\n",
       "      <th>PCA9</th>\n",
       "      <th>PCA10</th>\n",
       "      <th>...</th>\n",
       "      <th>PCA30</th>\n",
       "      <th>PCA31</th>\n",
       "      <th>PCA32</th>\n",
       "      <th>PCA33</th>\n",
       "      <th>PCA34</th>\n",
       "      <th>PCA35</th>\n",
       "      <th>PCA36</th>\n",
       "      <th>PCA37</th>\n",
       "      <th>PCA38</th>\n",
       "      <th>PCA39</th>\n",
       "    </tr>\n",
       "  </thead>\n",
       "  <tbody>\n",
       "    <tr>\n",
       "      <th>Zip</th>\n",
       "      <td>0.029476</td>\n",
       "      <td>0.560759</td>\n",
       "      <td>-0.021798</td>\n",
       "      <td>0.004698</td>\n",
       "      <td>-0.003745</td>\n",
       "      <td>-0.013349</td>\n",
       "      <td>0.072167</td>\n",
       "      <td>0.010282</td>\n",
       "      <td>-0.003834</td>\n",
       "      <td>-0.004694</td>\n",
       "      <td>...</td>\n",
       "      <td>0.015953</td>\n",
       "      <td>0.002993</td>\n",
       "      <td>0.003813</td>\n",
       "      <td>0.010233</td>\n",
       "      <td>-0.014801</td>\n",
       "      <td>-0.018797</td>\n",
       "      <td>-0.780123</td>\n",
       "      <td>0.005174</td>\n",
       "      <td>-0.005761</td>\n",
       "      <td>-0.216765</td>\n",
       "    </tr>\n",
       "    <tr>\n",
       "      <th>Lat</th>\n",
       "      <td>-0.007220</td>\n",
       "      <td>0.063098</td>\n",
       "      <td>-0.021251</td>\n",
       "      <td>-0.005421</td>\n",
       "      <td>0.011829</td>\n",
       "      <td>0.079052</td>\n",
       "      <td>-0.674352</td>\n",
       "      <td>-0.134345</td>\n",
       "      <td>0.041022</td>\n",
       "      <td>0.051978</td>\n",
       "      <td>...</td>\n",
       "      <td>-0.073687</td>\n",
       "      <td>-0.024650</td>\n",
       "      <td>0.017533</td>\n",
       "      <td>0.002248</td>\n",
       "      <td>-0.007472</td>\n",
       "      <td>-0.005387</td>\n",
       "      <td>-0.145624</td>\n",
       "      <td>0.005813</td>\n",
       "      <td>-0.000601</td>\n",
       "      <td>-0.021923</td>\n",
       "    </tr>\n",
       "    <tr>\n",
       "      <th>Lng</th>\n",
       "      <td>-0.026018</td>\n",
       "      <td>-0.585498</td>\n",
       "      <td>0.024753</td>\n",
       "      <td>-0.001166</td>\n",
       "      <td>0.001920</td>\n",
       "      <td>-0.005909</td>\n",
       "      <td>0.013638</td>\n",
       "      <td>0.005995</td>\n",
       "      <td>0.006401</td>\n",
       "      <td>-0.001809</td>\n",
       "      <td>...</td>\n",
       "      <td>0.003187</td>\n",
       "      <td>0.002662</td>\n",
       "      <td>0.002085</td>\n",
       "      <td>0.002365</td>\n",
       "      <td>-0.004569</td>\n",
       "      <td>-0.000748</td>\n",
       "      <td>-0.204046</td>\n",
       "      <td>0.011818</td>\n",
       "      <td>-0.046290</td>\n",
       "      <td>-0.781724</td>\n",
       "    </tr>\n",
       "    <tr>\n",
       "      <th>Population</th>\n",
       "      <td>-0.006952</td>\n",
       "      <td>0.029481</td>\n",
       "      <td>0.023989</td>\n",
       "      <td>-0.007793</td>\n",
       "      <td>0.019774</td>\n",
       "      <td>-0.085344</td>\n",
       "      <td>0.666018</td>\n",
       "      <td>0.105178</td>\n",
       "      <td>-0.034725</td>\n",
       "      <td>-0.061418</td>\n",
       "      <td>...</td>\n",
       "      <td>-0.081840</td>\n",
       "      <td>-0.018672</td>\n",
       "      <td>-0.017394</td>\n",
       "      <td>-0.020674</td>\n",
       "      <td>-0.006573</td>\n",
       "      <td>-0.002240</td>\n",
       "      <td>-0.047506</td>\n",
       "      <td>-0.001013</td>\n",
       "      <td>-0.001486</td>\n",
       "      <td>0.006063</td>\n",
       "    </tr>\n",
       "    <tr>\n",
       "      <th>Area</th>\n",
       "      <td>0.003987</td>\n",
       "      <td>0.008601</td>\n",
       "      <td>0.018393</td>\n",
       "      <td>0.008627</td>\n",
       "      <td>-0.004723</td>\n",
       "      <td>0.029103</td>\n",
       "      <td>0.091460</td>\n",
       "      <td>-0.111395</td>\n",
       "      <td>0.207901</td>\n",
       "      <td>0.212034</td>\n",
       "      <td>...</td>\n",
       "      <td>0.045153</td>\n",
       "      <td>-0.023893</td>\n",
       "      <td>0.042497</td>\n",
       "      <td>-0.019373</td>\n",
       "      <td>-0.000186</td>\n",
       "      <td>-0.002861</td>\n",
       "      <td>0.004255</td>\n",
       "      <td>-0.010711</td>\n",
       "      <td>-0.004838</td>\n",
       "      <td>-0.001432</td>\n",
       "    </tr>\n",
       "    <tr>\n",
       "      <th>Children</th>\n",
       "      <td>-0.001431</td>\n",
       "      <td>0.010987</td>\n",
       "      <td>0.007504</td>\n",
       "      <td>0.008483</td>\n",
       "      <td>0.021078</td>\n",
       "      <td>-0.031178</td>\n",
       "      <td>0.000224</td>\n",
       "      <td>0.386518</td>\n",
       "      <td>0.356508</td>\n",
       "      <td>0.012241</td>\n",
       "      <td>...</td>\n",
       "      <td>0.001927</td>\n",
       "      <td>0.019646</td>\n",
       "      <td>-0.015683</td>\n",
       "      <td>-0.013676</td>\n",
       "      <td>-0.001590</td>\n",
       "      <td>0.004995</td>\n",
       "      <td>-0.003694</td>\n",
       "      <td>0.002820</td>\n",
       "      <td>-0.002502</td>\n",
       "      <td>0.001296</td>\n",
       "    </tr>\n",
       "    <tr>\n",
       "      <th>Age</th>\n",
       "      <td>0.000958</td>\n",
       "      <td>-0.009319</td>\n",
       "      <td>0.037799</td>\n",
       "      <td>0.481014</td>\n",
       "      <td>0.042726</td>\n",
       "      <td>-0.022318</td>\n",
       "      <td>-0.041239</td>\n",
       "      <td>0.129255</td>\n",
       "      <td>-0.090216</td>\n",
       "      <td>0.128597</td>\n",
       "      <td>...</td>\n",
       "      <td>0.006598</td>\n",
       "      <td>0.010863</td>\n",
       "      <td>-0.002294</td>\n",
       "      <td>-0.001512</td>\n",
       "      <td>0.003934</td>\n",
       "      <td>0.010768</td>\n",
       "      <td>-0.000276</td>\n",
       "      <td>0.485247</td>\n",
       "      <td>-0.012387</td>\n",
       "      <td>0.009388</td>\n",
       "    </tr>\n",
       "    <tr>\n",
       "      <th>education_numeric</th>\n",
       "      <td>0.003034</td>\n",
       "      <td>-0.003465</td>\n",
       "      <td>0.003480</td>\n",
       "      <td>-0.014305</td>\n",
       "      <td>0.020256</td>\n",
       "      <td>-0.025286</td>\n",
       "      <td>0.053868</td>\n",
       "      <td>-0.041921</td>\n",
       "      <td>0.033363</td>\n",
       "      <td>-0.140824</td>\n",
       "      <td>...</td>\n",
       "      <td>0.017284</td>\n",
       "      <td>-0.005596</td>\n",
       "      <td>0.008167</td>\n",
       "      <td>-0.016276</td>\n",
       "      <td>-0.007229</td>\n",
       "      <td>-0.001260</td>\n",
       "      <td>0.005418</td>\n",
       "      <td>0.000865</td>\n",
       "      <td>-0.004096</td>\n",
       "      <td>0.000090</td>\n",
       "    </tr>\n",
       "    <tr>\n",
       "      <th>Income</th>\n",
       "      <td>0.002369</td>\n",
       "      <td>0.005407</td>\n",
       "      <td>-0.006385</td>\n",
       "      <td>0.003010</td>\n",
       "      <td>-0.019547</td>\n",
       "      <td>0.004788</td>\n",
       "      <td>0.076453</td>\n",
       "      <td>0.009917</td>\n",
       "      <td>0.167547</td>\n",
       "      <td>0.260305</td>\n",
       "      <td>...</td>\n",
       "      <td>0.006535</td>\n",
       "      <td>-0.005279</td>\n",
       "      <td>0.005765</td>\n",
       "      <td>-0.003142</td>\n",
       "      <td>-0.002297</td>\n",
       "      <td>-0.001620</td>\n",
       "      <td>-0.002571</td>\n",
       "      <td>-0.001131</td>\n",
       "      <td>-0.001040</td>\n",
       "      <td>0.000003</td>\n",
       "    </tr>\n",
       "    <tr>\n",
       "      <th>ReAdmis</th>\n",
       "      <td>0.047448</td>\n",
       "      <td>0.019131</td>\n",
       "      <td>0.522998</td>\n",
       "      <td>-0.050710</td>\n",
       "      <td>0.049674</td>\n",
       "      <td>-0.380217</td>\n",
       "      <td>-0.063246</td>\n",
       "      <td>-0.000071</td>\n",
       "      <td>-0.004609</td>\n",
       "      <td>-0.005207</td>\n",
       "      <td>...</td>\n",
       "      <td>-0.013940</td>\n",
       "      <td>-0.002273</td>\n",
       "      <td>0.014865</td>\n",
       "      <td>0.007308</td>\n",
       "      <td>-0.029629</td>\n",
       "      <td>-0.743474</td>\n",
       "      <td>0.021804</td>\n",
       "      <td>0.026048</td>\n",
       "      <td>0.090255</td>\n",
       "      <td>-0.006274</td>\n",
       "    </tr>\n",
       "    <tr>\n",
       "      <th>VitD_levels</th>\n",
       "      <td>0.019564</td>\n",
       "      <td>0.006817</td>\n",
       "      <td>0.299844</td>\n",
       "      <td>0.013461</td>\n",
       "      <td>-0.046461</td>\n",
       "      <td>0.745675</td>\n",
       "      <td>0.079257</td>\n",
       "      <td>0.014833</td>\n",
       "      <td>-0.010886</td>\n",
       "      <td>-0.020137</td>\n",
       "      <td>...</td>\n",
       "      <td>-0.004892</td>\n",
       "      <td>-0.008267</td>\n",
       "      <td>-0.003844</td>\n",
       "      <td>0.013221</td>\n",
       "      <td>0.002180</td>\n",
       "      <td>-0.121656</td>\n",
       "      <td>0.000885</td>\n",
       "      <td>0.014853</td>\n",
       "      <td>0.555595</td>\n",
       "      <td>-0.034369</td>\n",
       "    </tr>\n",
       "    <tr>\n",
       "      <th>Doc_visits</th>\n",
       "      <td>-0.007155</td>\n",
       "      <td>0.000456</td>\n",
       "      <td>-0.002997</td>\n",
       "      <td>0.014043</td>\n",
       "      <td>-0.004795</td>\n",
       "      <td>-0.000210</td>\n",
       "      <td>0.024754</td>\n",
       "      <td>-0.042948</td>\n",
       "      <td>-0.039822</td>\n",
       "      <td>0.083356</td>\n",
       "      <td>...</td>\n",
       "      <td>-0.019876</td>\n",
       "      <td>-0.024080</td>\n",
       "      <td>0.007380</td>\n",
       "      <td>-0.008361</td>\n",
       "      <td>-0.000716</td>\n",
       "      <td>0.008790</td>\n",
       "      <td>0.003280</td>\n",
       "      <td>-0.000816</td>\n",
       "      <td>-0.001193</td>\n",
       "      <td>0.000677</td>\n",
       "    </tr>\n",
       "    <tr>\n",
       "      <th>Full_meals_eaten</th>\n",
       "      <td>0.000382</td>\n",
       "      <td>0.011823</td>\n",
       "      <td>-0.013949</td>\n",
       "      <td>0.031252</td>\n",
       "      <td>0.022226</td>\n",
       "      <td>0.068026</td>\n",
       "      <td>-0.090768</td>\n",
       "      <td>0.291627</td>\n",
       "      <td>0.058941</td>\n",
       "      <td>-0.111721</td>\n",
       "      <td>...</td>\n",
       "      <td>-0.034288</td>\n",
       "      <td>-0.014023</td>\n",
       "      <td>-0.000665</td>\n",
       "      <td>0.014355</td>\n",
       "      <td>0.001532</td>\n",
       "      <td>0.007781</td>\n",
       "      <td>-0.002176</td>\n",
       "      <td>-0.000081</td>\n",
       "      <td>-0.002780</td>\n",
       "      <td>-0.000415</td>\n",
       "    </tr>\n",
       "    <tr>\n",
       "      <th>VitD_supp</th>\n",
       "      <td>0.005916</td>\n",
       "      <td>0.005046</td>\n",
       "      <td>0.023489</td>\n",
       "      <td>0.010954</td>\n",
       "      <td>0.004173</td>\n",
       "      <td>-0.000767</td>\n",
       "      <td>0.053412</td>\n",
       "      <td>-0.362765</td>\n",
       "      <td>0.230987</td>\n",
       "      <td>0.305322</td>\n",
       "      <td>...</td>\n",
       "      <td>0.030785</td>\n",
       "      <td>0.012666</td>\n",
       "      <td>-0.006874</td>\n",
       "      <td>0.010060</td>\n",
       "      <td>-0.000946</td>\n",
       "      <td>-0.010449</td>\n",
       "      <td>0.005557</td>\n",
       "      <td>0.001835</td>\n",
       "      <td>-0.000614</td>\n",
       "      <td>0.003005</td>\n",
       "    </tr>\n",
       "    <tr>\n",
       "      <th>Soft_drink</th>\n",
       "      <td>-0.006322</td>\n",
       "      <td>0.010564</td>\n",
       "      <td>0.001883</td>\n",
       "      <td>0.000076</td>\n",
       "      <td>0.014426</td>\n",
       "      <td>-0.002523</td>\n",
       "      <td>-0.025114</td>\n",
       "      <td>0.366824</td>\n",
       "      <td>-0.295099</td>\n",
       "      <td>0.315672</td>\n",
       "      <td>...</td>\n",
       "      <td>-0.036360</td>\n",
       "      <td>-0.018211</td>\n",
       "      <td>-0.022943</td>\n",
       "      <td>0.009813</td>\n",
       "      <td>-0.015832</td>\n",
       "      <td>0.003441</td>\n",
       "      <td>0.000322</td>\n",
       "      <td>0.001977</td>\n",
       "      <td>-0.000822</td>\n",
       "      <td>0.002027</td>\n",
       "    </tr>\n",
       "    <tr>\n",
       "      <th>HighBlood</th>\n",
       "      <td>0.005096</td>\n",
       "      <td>0.007152</td>\n",
       "      <td>0.024059</td>\n",
       "      <td>0.510191</td>\n",
       "      <td>0.015043</td>\n",
       "      <td>-0.029269</td>\n",
       "      <td>0.036286</td>\n",
       "      <td>-0.121282</td>\n",
       "      <td>0.096671</td>\n",
       "      <td>-0.122626</td>\n",
       "      <td>...</td>\n",
       "      <td>-0.023817</td>\n",
       "      <td>-0.011114</td>\n",
       "      <td>0.011202</td>\n",
       "      <td>-0.016632</td>\n",
       "      <td>0.008572</td>\n",
       "      <td>0.025509</td>\n",
       "      <td>0.004574</td>\n",
       "      <td>0.510480</td>\n",
       "      <td>0.000319</td>\n",
       "      <td>0.006896</td>\n",
       "    </tr>\n",
       "    <tr>\n",
       "      <th>Stroke</th>\n",
       "      <td>0.002536</td>\n",
       "      <td>0.004521</td>\n",
       "      <td>-0.005503</td>\n",
       "      <td>0.038104</td>\n",
       "      <td>0.019230</td>\n",
       "      <td>-0.040680</td>\n",
       "      <td>-0.002290</td>\n",
       "      <td>-0.016643</td>\n",
       "      <td>-0.049753</td>\n",
       "      <td>0.148261</td>\n",
       "      <td>...</td>\n",
       "      <td>-0.005717</td>\n",
       "      <td>-0.023861</td>\n",
       "      <td>0.006936</td>\n",
       "      <td>0.011575</td>\n",
       "      <td>0.007707</td>\n",
       "      <td>0.001265</td>\n",
       "      <td>0.000750</td>\n",
       "      <td>0.015297</td>\n",
       "      <td>-0.004221</td>\n",
       "      <td>-0.003197</td>\n",
       "    </tr>\n",
       "    <tr>\n",
       "      <th>Complication_risk</th>\n",
       "      <td>-0.012505</td>\n",
       "      <td>-0.004406</td>\n",
       "      <td>0.016059</td>\n",
       "      <td>0.046314</td>\n",
       "      <td>-0.014530</td>\n",
       "      <td>0.065076</td>\n",
       "      <td>0.108291</td>\n",
       "      <td>-0.107327</td>\n",
       "      <td>0.170173</td>\n",
       "      <td>0.022693</td>\n",
       "      <td>...</td>\n",
       "      <td>0.021257</td>\n",
       "      <td>0.036151</td>\n",
       "      <td>0.028418</td>\n",
       "      <td>0.013534</td>\n",
       "      <td>0.010360</td>\n",
       "      <td>0.000325</td>\n",
       "      <td>-0.001542</td>\n",
       "      <td>0.026367</td>\n",
       "      <td>0.035395</td>\n",
       "      <td>-0.001494</td>\n",
       "    </tr>\n",
       "    <tr>\n",
       "      <th>Overweight</th>\n",
       "      <td>-0.004407</td>\n",
       "      <td>0.013092</td>\n",
       "      <td>-0.016742</td>\n",
       "      <td>0.022395</td>\n",
       "      <td>0.014412</td>\n",
       "      <td>-0.004401</td>\n",
       "      <td>0.025632</td>\n",
       "      <td>-0.291933</td>\n",
       "      <td>-0.316680</td>\n",
       "      <td>-0.418315</td>\n",
       "      <td>...</td>\n",
       "      <td>0.023191</td>\n",
       "      <td>-0.004285</td>\n",
       "      <td>-0.007728</td>\n",
       "      <td>-0.008067</td>\n",
       "      <td>-0.001291</td>\n",
       "      <td>0.003826</td>\n",
       "      <td>-0.003302</td>\n",
       "      <td>-0.000083</td>\n",
       "      <td>-0.001521</td>\n",
       "      <td>-0.000457</td>\n",
       "    </tr>\n",
       "    <tr>\n",
       "      <th>Arthritis</th>\n",
       "      <td>0.015306</td>\n",
       "      <td>0.011550</td>\n",
       "      <td>0.015493</td>\n",
       "      <td>0.011255</td>\n",
       "      <td>-0.008301</td>\n",
       "      <td>-0.011153</td>\n",
       "      <td>-0.060612</td>\n",
       "      <td>0.110828</td>\n",
       "      <td>0.212528</td>\n",
       "      <td>-0.459556</td>\n",
       "      <td>...</td>\n",
       "      <td>0.012726</td>\n",
       "      <td>0.018486</td>\n",
       "      <td>-0.008943</td>\n",
       "      <td>-0.011907</td>\n",
       "      <td>0.008845</td>\n",
       "      <td>-0.011238</td>\n",
       "      <td>0.001144</td>\n",
       "      <td>-0.005892</td>\n",
       "      <td>0.008955</td>\n",
       "      <td>-0.000446</td>\n",
       "    </tr>\n",
       "    <tr>\n",
       "      <th>Diabetes</th>\n",
       "      <td>0.002103</td>\n",
       "      <td>-0.009734</td>\n",
       "      <td>-0.010026</td>\n",
       "      <td>0.000572</td>\n",
       "      <td>0.036024</td>\n",
       "      <td>-0.041097</td>\n",
       "      <td>-0.124194</td>\n",
       "      <td>0.426587</td>\n",
       "      <td>-0.004186</td>\n",
       "      <td>-0.114141</td>\n",
       "      <td>...</td>\n",
       "      <td>0.005469</td>\n",
       "      <td>-0.003473</td>\n",
       "      <td>-0.025852</td>\n",
       "      <td>-0.016764</td>\n",
       "      <td>0.013441</td>\n",
       "      <td>-0.005336</td>\n",
       "      <td>-0.001885</td>\n",
       "      <td>0.002042</td>\n",
       "      <td>0.011501</td>\n",
       "      <td>-0.001048</td>\n",
       "    </tr>\n",
       "    <tr>\n",
       "      <th>Hyperlipidemia</th>\n",
       "      <td>-0.016418</td>\n",
       "      <td>0.005598</td>\n",
       "      <td>0.009159</td>\n",
       "      <td>-0.009149</td>\n",
       "      <td>-0.016198</td>\n",
       "      <td>0.008034</td>\n",
       "      <td>-0.014423</td>\n",
       "      <td>0.068632</td>\n",
       "      <td>0.078700</td>\n",
       "      <td>0.245676</td>\n",
       "      <td>...</td>\n",
       "      <td>-0.010692</td>\n",
       "      <td>0.005416</td>\n",
       "      <td>-0.004561</td>\n",
       "      <td>0.023212</td>\n",
       "      <td>0.014890</td>\n",
       "      <td>0.001722</td>\n",
       "      <td>-0.000531</td>\n",
       "      <td>0.003704</td>\n",
       "      <td>0.010622</td>\n",
       "      <td>-0.000597</td>\n",
       "    </tr>\n",
       "    <tr>\n",
       "      <th>BackPain</th>\n",
       "      <td>0.013694</td>\n",
       "      <td>-0.004470</td>\n",
       "      <td>0.019319</td>\n",
       "      <td>0.018035</td>\n",
       "      <td>-0.008160</td>\n",
       "      <td>-0.025162</td>\n",
       "      <td>0.028637</td>\n",
       "      <td>-0.091695</td>\n",
       "      <td>-0.571898</td>\n",
       "      <td>0.256820</td>\n",
       "      <td>...</td>\n",
       "      <td>0.046235</td>\n",
       "      <td>0.026189</td>\n",
       "      <td>-0.020939</td>\n",
       "      <td>-0.011164</td>\n",
       "      <td>-0.000528</td>\n",
       "      <td>-0.006217</td>\n",
       "      <td>-0.007993</td>\n",
       "      <td>0.001677</td>\n",
       "      <td>0.011690</td>\n",
       "      <td>-0.004606</td>\n",
       "    </tr>\n",
       "    <tr>\n",
       "      <th>Anxiety</th>\n",
       "      <td>0.001579</td>\n",
       "      <td>0.010548</td>\n",
       "      <td>0.015219</td>\n",
       "      <td>0.016802</td>\n",
       "      <td>-0.027990</td>\n",
       "      <td>0.067626</td>\n",
       "      <td>-0.082019</td>\n",
       "      <td>0.096143</td>\n",
       "      <td>0.033857</td>\n",
       "      <td>0.183186</td>\n",
       "      <td>...</td>\n",
       "      <td>-0.001131</td>\n",
       "      <td>0.003192</td>\n",
       "      <td>0.011401</td>\n",
       "      <td>0.004356</td>\n",
       "      <td>-0.000364</td>\n",
       "      <td>-0.002833</td>\n",
       "      <td>-0.003630</td>\n",
       "      <td>0.001568</td>\n",
       "      <td>0.011180</td>\n",
       "      <td>0.001375</td>\n",
       "    </tr>\n",
       "    <tr>\n",
       "      <th>Allergic_rhinitis</th>\n",
       "      <td>-0.005009</td>\n",
       "      <td>-0.010322</td>\n",
       "      <td>0.007953</td>\n",
       "      <td>0.025704</td>\n",
       "      <td>0.017093</td>\n",
       "      <td>0.007502</td>\n",
       "      <td>-0.031288</td>\n",
       "      <td>-0.140546</td>\n",
       "      <td>-0.085585</td>\n",
       "      <td>-0.126455</td>\n",
       "      <td>...</td>\n",
       "      <td>-0.011365</td>\n",
       "      <td>0.029389</td>\n",
       "      <td>0.014018</td>\n",
       "      <td>-0.027287</td>\n",
       "      <td>0.000612</td>\n",
       "      <td>-0.014949</td>\n",
       "      <td>-0.003711</td>\n",
       "      <td>-0.000167</td>\n",
       "      <td>0.006673</td>\n",
       "      <td>-0.000387</td>\n",
       "    </tr>\n",
       "    <tr>\n",
       "      <th>Reflux_esophagitis</th>\n",
       "      <td>-0.005754</td>\n",
       "      <td>0.000047</td>\n",
       "      <td>0.012870</td>\n",
       "      <td>-0.017650</td>\n",
       "      <td>-0.012510</td>\n",
       "      <td>-0.037994</td>\n",
       "      <td>0.082407</td>\n",
       "      <td>0.093202</td>\n",
       "      <td>0.092772</td>\n",
       "      <td>0.071835</td>\n",
       "      <td>...</td>\n",
       "      <td>0.058902</td>\n",
       "      <td>-0.020532</td>\n",
       "      <td>-0.012531</td>\n",
       "      <td>-0.029473</td>\n",
       "      <td>0.002354</td>\n",
       "      <td>-0.011629</td>\n",
       "      <td>-0.004419</td>\n",
       "      <td>-0.001483</td>\n",
       "      <td>0.009214</td>\n",
       "      <td>0.001385</td>\n",
       "    </tr>\n",
       "    <tr>\n",
       "      <th>Asthma</th>\n",
       "      <td>0.010216</td>\n",
       "      <td>0.007118</td>\n",
       "      <td>-0.013328</td>\n",
       "      <td>0.022723</td>\n",
       "      <td>0.018301</td>\n",
       "      <td>0.071440</td>\n",
       "      <td>-0.027509</td>\n",
       "      <td>0.274730</td>\n",
       "      <td>-0.320087</td>\n",
       "      <td>-0.105548</td>\n",
       "      <td>...</td>\n",
       "      <td>0.026687</td>\n",
       "      <td>0.010040</td>\n",
       "      <td>-0.010112</td>\n",
       "      <td>0.017750</td>\n",
       "      <td>-0.007863</td>\n",
       "      <td>0.001347</td>\n",
       "      <td>0.007296</td>\n",
       "      <td>0.002128</td>\n",
       "      <td>0.001079</td>\n",
       "      <td>-0.003631</td>\n",
       "    </tr>\n",
       "    <tr>\n",
       "      <th>Initial_days</th>\n",
       "      <td>0.048578</td>\n",
       "      <td>0.024993</td>\n",
       "      <td>0.532168</td>\n",
       "      <td>-0.063107</td>\n",
       "      <td>0.043787</td>\n",
       "      <td>-0.379474</td>\n",
       "      <td>-0.065084</td>\n",
       "      <td>-0.007599</td>\n",
       "      <td>-0.004235</td>\n",
       "      <td>-0.003655</td>\n",
       "      <td>...</td>\n",
       "      <td>-0.001523</td>\n",
       "      <td>0.010891</td>\n",
       "      <td>-0.005109</td>\n",
       "      <td>-0.008326</td>\n",
       "      <td>0.007868</td>\n",
       "      <td>0.637051</td>\n",
       "      <td>-0.006898</td>\n",
       "      <td>-0.009807</td>\n",
       "      <td>0.385605</td>\n",
       "      <td>-0.022913</td>\n",
       "    </tr>\n",
       "    <tr>\n",
       "      <th>TotalCharge</th>\n",
       "      <td>0.044558</td>\n",
       "      <td>0.020549</td>\n",
       "      <td>0.579162</td>\n",
       "      <td>-0.015874</td>\n",
       "      <td>-0.007103</td>\n",
       "      <td>0.324098</td>\n",
       "      <td>0.018402</td>\n",
       "      <td>0.007994</td>\n",
       "      <td>-0.009010</td>\n",
       "      <td>-0.017657</td>\n",
       "      <td>...</td>\n",
       "      <td>0.000878</td>\n",
       "      <td>-0.003535</td>\n",
       "      <td>-0.004980</td>\n",
       "      <td>-0.005316</td>\n",
       "      <td>0.011093</td>\n",
       "      <td>0.150523</td>\n",
       "      <td>-0.014081</td>\n",
       "      <td>-0.018140</td>\n",
       "      <td>-0.726498</td>\n",
       "      <td>0.044825</td>\n",
       "    </tr>\n",
       "    <tr>\n",
       "      <th>Additional_charges</th>\n",
       "      <td>-0.001133</td>\n",
       "      <td>0.000452</td>\n",
       "      <td>0.046996</td>\n",
       "      <td>0.700118</td>\n",
       "      <td>0.040953</td>\n",
       "      <td>-0.035908</td>\n",
       "      <td>-0.005873</td>\n",
       "      <td>0.000479</td>\n",
       "      <td>0.008407</td>\n",
       "      <td>0.007171</td>\n",
       "      <td>...</td>\n",
       "      <td>-0.007565</td>\n",
       "      <td>0.002356</td>\n",
       "      <td>-0.000264</td>\n",
       "      <td>0.003399</td>\n",
       "      <td>-0.009961</td>\n",
       "      <td>-0.016124</td>\n",
       "      <td>0.001210</td>\n",
       "      <td>-0.707729</td>\n",
       "      <td>0.019785</td>\n",
       "      <td>-0.012109</td>\n",
       "    </tr>\n",
       "    <tr>\n",
       "      <th>S1_Timely_admission</th>\n",
       "      <td>-0.453205</td>\n",
       "      <td>0.020127</td>\n",
       "      <td>0.023242</td>\n",
       "      <td>-0.017080</td>\n",
       "      <td>0.294575</td>\n",
       "      <td>0.026400</td>\n",
       "      <td>0.008837</td>\n",
       "      <td>-0.005795</td>\n",
       "      <td>0.014331</td>\n",
       "      <td>-0.002100</td>\n",
       "      <td>...</td>\n",
       "      <td>-0.071267</td>\n",
       "      <td>-0.009448</td>\n",
       "      <td>0.085967</td>\n",
       "      <td>0.185212</td>\n",
       "      <td>-0.803739</td>\n",
       "      <td>0.030053</td>\n",
       "      <td>0.014570</td>\n",
       "      <td>0.013232</td>\n",
       "      <td>-0.006773</td>\n",
       "      <td>0.003425</td>\n",
       "    </tr>\n",
       "    <tr>\n",
       "      <th>S2_Timely_Treatment</th>\n",
       "      <td>-0.426389</td>\n",
       "      <td>0.023065</td>\n",
       "      <td>0.026964</td>\n",
       "      <td>-0.016204</td>\n",
       "      <td>0.293024</td>\n",
       "      <td>0.000231</td>\n",
       "      <td>0.017747</td>\n",
       "      <td>-0.005623</td>\n",
       "      <td>0.003775</td>\n",
       "      <td>-0.002522</td>\n",
       "      <td>...</td>\n",
       "      <td>-0.128170</td>\n",
       "      <td>-0.062702</td>\n",
       "      <td>0.100166</td>\n",
       "      <td>0.623051</td>\n",
       "      <td>0.535530</td>\n",
       "      <td>-0.001576</td>\n",
       "      <td>-0.002106</td>\n",
       "      <td>0.000490</td>\n",
       "      <td>-0.003156</td>\n",
       "      <td>-0.001891</td>\n",
       "    </tr>\n",
       "    <tr>\n",
       "      <th>S3_Timely_Visits</th>\n",
       "      <td>-0.393861</td>\n",
       "      <td>0.019109</td>\n",
       "      <td>0.021448</td>\n",
       "      <td>-0.020099</td>\n",
       "      <td>0.293546</td>\n",
       "      <td>0.023196</td>\n",
       "      <td>-0.009186</td>\n",
       "      <td>-0.025083</td>\n",
       "      <td>0.019043</td>\n",
       "      <td>0.025249</td>\n",
       "      <td>...</td>\n",
       "      <td>-0.209551</td>\n",
       "      <td>-0.239671</td>\n",
       "      <td>-0.430963</td>\n",
       "      <td>-0.619567</td>\n",
       "      <td>0.190015</td>\n",
       "      <td>-0.012351</td>\n",
       "      <td>-0.014486</td>\n",
       "      <td>-0.005280</td>\n",
       "      <td>0.006627</td>\n",
       "      <td>-0.001950</td>\n",
       "    </tr>\n",
       "    <tr>\n",
       "      <th>S4_Reliability</th>\n",
       "      <td>-0.150965</td>\n",
       "      <td>0.004826</td>\n",
       "      <td>0.028806</td>\n",
       "      <td>0.021623</td>\n",
       "      <td>-0.553463</td>\n",
       "      <td>-0.051713</td>\n",
       "      <td>0.004837</td>\n",
       "      <td>0.036307</td>\n",
       "      <td>-0.007288</td>\n",
       "      <td>-0.004279</td>\n",
       "      <td>...</td>\n",
       "      <td>-0.359666</td>\n",
       "      <td>-0.387238</td>\n",
       "      <td>0.481842</td>\n",
       "      <td>-0.112381</td>\n",
       "      <td>-0.011576</td>\n",
       "      <td>0.014430</td>\n",
       "      <td>0.000219</td>\n",
       "      <td>-0.004031</td>\n",
       "      <td>-0.001362</td>\n",
       "      <td>0.000535</td>\n",
       "    </tr>\n",
       "    <tr>\n",
       "      <th>S5_Options</th>\n",
       "      <td>0.188575</td>\n",
       "      <td>-0.007024</td>\n",
       "      <td>-0.035674</td>\n",
       "      <td>-0.034524</td>\n",
       "      <td>0.578853</td>\n",
       "      <td>0.052668</td>\n",
       "      <td>0.012540</td>\n",
       "      <td>0.006519</td>\n",
       "      <td>-0.020245</td>\n",
       "      <td>0.010313</td>\n",
       "      <td>...</td>\n",
       "      <td>0.056440</td>\n",
       "      <td>-0.129610</td>\n",
       "      <td>0.693749</td>\n",
       "      <td>-0.306489</td>\n",
       "      <td>0.093593</td>\n",
       "      <td>0.004896</td>\n",
       "      <td>0.001314</td>\n",
       "      <td>-0.009284</td>\n",
       "      <td>0.003659</td>\n",
       "      <td>-0.001686</td>\n",
       "    </tr>\n",
       "    <tr>\n",
       "      <th>S6_Hours_of_Treatment</th>\n",
       "      <td>-0.408063</td>\n",
       "      <td>0.025793</td>\n",
       "      <td>0.037134</td>\n",
       "      <td>0.002532</td>\n",
       "      <td>-0.162271</td>\n",
       "      <td>-0.007755</td>\n",
       "      <td>-0.006906</td>\n",
       "      <td>0.025646</td>\n",
       "      <td>-0.011595</td>\n",
       "      <td>0.007571</td>\n",
       "      <td>...</td>\n",
       "      <td>0.050000</td>\n",
       "      <td>0.794856</td>\n",
       "      <td>0.264854</td>\n",
       "      <td>-0.274895</td>\n",
       "      <td>0.126016</td>\n",
       "      <td>-0.010496</td>\n",
       "      <td>-0.002335</td>\n",
       "      <td>-0.002727</td>\n",
       "      <td>-0.000032</td>\n",
       "      <td>-0.001254</td>\n",
       "    </tr>\n",
       "    <tr>\n",
       "      <th>S7_Courteous_staff</th>\n",
       "      <td>-0.354437</td>\n",
       "      <td>0.018010</td>\n",
       "      <td>0.041647</td>\n",
       "      <td>0.018420</td>\n",
       "      <td>-0.169454</td>\n",
       "      <td>-0.020806</td>\n",
       "      <td>-0.015773</td>\n",
       "      <td>0.030904</td>\n",
       "      <td>-0.006701</td>\n",
       "      <td>-0.018507</td>\n",
       "      <td>...</td>\n",
       "      <td>0.838860</td>\n",
       "      <td>-0.329319</td>\n",
       "      <td>0.071169</td>\n",
       "      <td>-0.064773</td>\n",
       "      <td>0.050762</td>\n",
       "      <td>-0.006875</td>\n",
       "      <td>-0.001110</td>\n",
       "      <td>0.002715</td>\n",
       "      <td>0.005895</td>\n",
       "      <td>0.001623</td>\n",
       "    </tr>\n",
       "    <tr>\n",
       "      <th>S8_Dr_Actively_Listened</th>\n",
       "      <td>-0.311096</td>\n",
       "      <td>0.007799</td>\n",
       "      <td>0.029862</td>\n",
       "      <td>0.006495</td>\n",
       "      <td>-0.166771</td>\n",
       "      <td>-0.003186</td>\n",
       "      <td>-0.005246</td>\n",
       "      <td>-0.031992</td>\n",
       "      <td>-0.057690</td>\n",
       "      <td>-0.032689</td>\n",
       "      <td>...</td>\n",
       "      <td>-0.261788</td>\n",
       "      <td>-0.153078</td>\n",
       "      <td>0.040119</td>\n",
       "      <td>-0.037265</td>\n",
       "      <td>0.033175</td>\n",
       "      <td>-0.009709</td>\n",
       "      <td>-0.004042</td>\n",
       "      <td>-0.004580</td>\n",
       "      <td>0.005814</td>\n",
       "      <td>-0.000086</td>\n",
       "    </tr>\n",
       "    <tr>\n",
       "      <th>timezone_numeric</th>\n",
       "      <td>-0.023291</td>\n",
       "      <td>-0.576711</td>\n",
       "      <td>0.023666</td>\n",
       "      <td>0.000229</td>\n",
       "      <td>0.004132</td>\n",
       "      <td>-0.008648</td>\n",
       "      <td>0.013017</td>\n",
       "      <td>0.005440</td>\n",
       "      <td>0.002231</td>\n",
       "      <td>-0.003315</td>\n",
       "      <td>...</td>\n",
       "      <td>0.005796</td>\n",
       "      <td>0.006018</td>\n",
       "      <td>0.005484</td>\n",
       "      <td>0.006251</td>\n",
       "      <td>-0.005337</td>\n",
       "      <td>-0.010961</td>\n",
       "      <td>-0.569927</td>\n",
       "      <td>-0.008419</td>\n",
       "      <td>0.041495</td>\n",
       "      <td>0.580749</td>\n",
       "    </tr>\n",
       "  </tbody>\n",
       "</table>\n",
       "<p>39 rows × 39 columns</p>\n",
       "</div>"
      ],
      "text/plain": [
       "                             PCA1      PCA2      PCA3      PCA4      PCA5  \\\n",
       "Zip                      0.029476  0.560759 -0.021798  0.004698 -0.003745   \n",
       "Lat                     -0.007220  0.063098 -0.021251 -0.005421  0.011829   \n",
       "Lng                     -0.026018 -0.585498  0.024753 -0.001166  0.001920   \n",
       "Population              -0.006952  0.029481  0.023989 -0.007793  0.019774   \n",
       "Area                     0.003987  0.008601  0.018393  0.008627 -0.004723   \n",
       "Children                -0.001431  0.010987  0.007504  0.008483  0.021078   \n",
       "Age                      0.000958 -0.009319  0.037799  0.481014  0.042726   \n",
       "education_numeric        0.003034 -0.003465  0.003480 -0.014305  0.020256   \n",
       "Income                   0.002369  0.005407 -0.006385  0.003010 -0.019547   \n",
       "ReAdmis                  0.047448  0.019131  0.522998 -0.050710  0.049674   \n",
       "VitD_levels              0.019564  0.006817  0.299844  0.013461 -0.046461   \n",
       "Doc_visits              -0.007155  0.000456 -0.002997  0.014043 -0.004795   \n",
       "Full_meals_eaten         0.000382  0.011823 -0.013949  0.031252  0.022226   \n",
       "VitD_supp                0.005916  0.005046  0.023489  0.010954  0.004173   \n",
       "Soft_drink              -0.006322  0.010564  0.001883  0.000076  0.014426   \n",
       "HighBlood                0.005096  0.007152  0.024059  0.510191  0.015043   \n",
       "Stroke                   0.002536  0.004521 -0.005503  0.038104  0.019230   \n",
       "Complication_risk       -0.012505 -0.004406  0.016059  0.046314 -0.014530   \n",
       "Overweight              -0.004407  0.013092 -0.016742  0.022395  0.014412   \n",
       "Arthritis                0.015306  0.011550  0.015493  0.011255 -0.008301   \n",
       "Diabetes                 0.002103 -0.009734 -0.010026  0.000572  0.036024   \n",
       "Hyperlipidemia          -0.016418  0.005598  0.009159 -0.009149 -0.016198   \n",
       "BackPain                 0.013694 -0.004470  0.019319  0.018035 -0.008160   \n",
       "Anxiety                  0.001579  0.010548  0.015219  0.016802 -0.027990   \n",
       "Allergic_rhinitis       -0.005009 -0.010322  0.007953  0.025704  0.017093   \n",
       "Reflux_esophagitis      -0.005754  0.000047  0.012870 -0.017650 -0.012510   \n",
       "Asthma                   0.010216  0.007118 -0.013328  0.022723  0.018301   \n",
       "Initial_days             0.048578  0.024993  0.532168 -0.063107  0.043787   \n",
       "TotalCharge              0.044558  0.020549  0.579162 -0.015874 -0.007103   \n",
       "Additional_charges      -0.001133  0.000452  0.046996  0.700118  0.040953   \n",
       "S1_Timely_admission     -0.453205  0.020127  0.023242 -0.017080  0.294575   \n",
       "S2_Timely_Treatment     -0.426389  0.023065  0.026964 -0.016204  0.293024   \n",
       "S3_Timely_Visits        -0.393861  0.019109  0.021448 -0.020099  0.293546   \n",
       "S4_Reliability          -0.150965  0.004826  0.028806  0.021623 -0.553463   \n",
       "S5_Options               0.188575 -0.007024 -0.035674 -0.034524  0.578853   \n",
       "S6_Hours_of_Treatment   -0.408063  0.025793  0.037134  0.002532 -0.162271   \n",
       "S7_Courteous_staff      -0.354437  0.018010  0.041647  0.018420 -0.169454   \n",
       "S8_Dr_Actively_Listened -0.311096  0.007799  0.029862  0.006495 -0.166771   \n",
       "timezone_numeric        -0.023291 -0.576711  0.023666  0.000229  0.004132   \n",
       "\n",
       "                             PCA6      PCA7      PCA8      PCA9     PCA10  \\\n",
       "Zip                     -0.013349  0.072167  0.010282 -0.003834 -0.004694   \n",
       "Lat                      0.079052 -0.674352 -0.134345  0.041022  0.051978   \n",
       "Lng                     -0.005909  0.013638  0.005995  0.006401 -0.001809   \n",
       "Population              -0.085344  0.666018  0.105178 -0.034725 -0.061418   \n",
       "Area                     0.029103  0.091460 -0.111395  0.207901  0.212034   \n",
       "Children                -0.031178  0.000224  0.386518  0.356508  0.012241   \n",
       "Age                     -0.022318 -0.041239  0.129255 -0.090216  0.128597   \n",
       "education_numeric       -0.025286  0.053868 -0.041921  0.033363 -0.140824   \n",
       "Income                   0.004788  0.076453  0.009917  0.167547  0.260305   \n",
       "ReAdmis                 -0.380217 -0.063246 -0.000071 -0.004609 -0.005207   \n",
       "VitD_levels              0.745675  0.079257  0.014833 -0.010886 -0.020137   \n",
       "Doc_visits              -0.000210  0.024754 -0.042948 -0.039822  0.083356   \n",
       "Full_meals_eaten         0.068026 -0.090768  0.291627  0.058941 -0.111721   \n",
       "VitD_supp               -0.000767  0.053412 -0.362765  0.230987  0.305322   \n",
       "Soft_drink              -0.002523 -0.025114  0.366824 -0.295099  0.315672   \n",
       "HighBlood               -0.029269  0.036286 -0.121282  0.096671 -0.122626   \n",
       "Stroke                  -0.040680 -0.002290 -0.016643 -0.049753  0.148261   \n",
       "Complication_risk        0.065076  0.108291 -0.107327  0.170173  0.022693   \n",
       "Overweight              -0.004401  0.025632 -0.291933 -0.316680 -0.418315   \n",
       "Arthritis               -0.011153 -0.060612  0.110828  0.212528 -0.459556   \n",
       "Diabetes                -0.041097 -0.124194  0.426587 -0.004186 -0.114141   \n",
       "Hyperlipidemia           0.008034 -0.014423  0.068632  0.078700  0.245676   \n",
       "BackPain                -0.025162  0.028637 -0.091695 -0.571898  0.256820   \n",
       "Anxiety                  0.067626 -0.082019  0.096143  0.033857  0.183186   \n",
       "Allergic_rhinitis        0.007502 -0.031288 -0.140546 -0.085585 -0.126455   \n",
       "Reflux_esophagitis      -0.037994  0.082407  0.093202  0.092772  0.071835   \n",
       "Asthma                   0.071440 -0.027509  0.274730 -0.320087 -0.105548   \n",
       "Initial_days            -0.379474 -0.065084 -0.007599 -0.004235 -0.003655   \n",
       "TotalCharge              0.324098  0.018402  0.007994 -0.009010 -0.017657   \n",
       "Additional_charges      -0.035908 -0.005873  0.000479  0.008407  0.007171   \n",
       "S1_Timely_admission      0.026400  0.008837 -0.005795  0.014331 -0.002100   \n",
       "S2_Timely_Treatment      0.000231  0.017747 -0.005623  0.003775 -0.002522   \n",
       "S3_Timely_Visits         0.023196 -0.009186 -0.025083  0.019043  0.025249   \n",
       "S4_Reliability          -0.051713  0.004837  0.036307 -0.007288 -0.004279   \n",
       "S5_Options               0.052668  0.012540  0.006519 -0.020245  0.010313   \n",
       "S6_Hours_of_Treatment   -0.007755 -0.006906  0.025646 -0.011595  0.007571   \n",
       "S7_Courteous_staff      -0.020806 -0.015773  0.030904 -0.006701 -0.018507   \n",
       "S8_Dr_Actively_Listened -0.003186 -0.005246 -0.031992 -0.057690 -0.032689   \n",
       "timezone_numeric        -0.008648  0.013017  0.005440  0.002231 -0.003315   \n",
       "\n",
       "                         ...     PCA30     PCA31     PCA32     PCA33  \\\n",
       "Zip                      ...  0.015953  0.002993  0.003813  0.010233   \n",
       "Lat                      ... -0.073687 -0.024650  0.017533  0.002248   \n",
       "Lng                      ...  0.003187  0.002662  0.002085  0.002365   \n",
       "Population               ... -0.081840 -0.018672 -0.017394 -0.020674   \n",
       "Area                     ...  0.045153 -0.023893  0.042497 -0.019373   \n",
       "Children                 ...  0.001927  0.019646 -0.015683 -0.013676   \n",
       "Age                      ...  0.006598  0.010863 -0.002294 -0.001512   \n",
       "education_numeric        ...  0.017284 -0.005596  0.008167 -0.016276   \n",
       "Income                   ...  0.006535 -0.005279  0.005765 -0.003142   \n",
       "ReAdmis                  ... -0.013940 -0.002273  0.014865  0.007308   \n",
       "VitD_levels              ... -0.004892 -0.008267 -0.003844  0.013221   \n",
       "Doc_visits               ... -0.019876 -0.024080  0.007380 -0.008361   \n",
       "Full_meals_eaten         ... -0.034288 -0.014023 -0.000665  0.014355   \n",
       "VitD_supp                ...  0.030785  0.012666 -0.006874  0.010060   \n",
       "Soft_drink               ... -0.036360 -0.018211 -0.022943  0.009813   \n",
       "HighBlood                ... -0.023817 -0.011114  0.011202 -0.016632   \n",
       "Stroke                   ... -0.005717 -0.023861  0.006936  0.011575   \n",
       "Complication_risk        ...  0.021257  0.036151  0.028418  0.013534   \n",
       "Overweight               ...  0.023191 -0.004285 -0.007728 -0.008067   \n",
       "Arthritis                ...  0.012726  0.018486 -0.008943 -0.011907   \n",
       "Diabetes                 ...  0.005469 -0.003473 -0.025852 -0.016764   \n",
       "Hyperlipidemia           ... -0.010692  0.005416 -0.004561  0.023212   \n",
       "BackPain                 ...  0.046235  0.026189 -0.020939 -0.011164   \n",
       "Anxiety                  ... -0.001131  0.003192  0.011401  0.004356   \n",
       "Allergic_rhinitis        ... -0.011365  0.029389  0.014018 -0.027287   \n",
       "Reflux_esophagitis       ...  0.058902 -0.020532 -0.012531 -0.029473   \n",
       "Asthma                   ...  0.026687  0.010040 -0.010112  0.017750   \n",
       "Initial_days             ... -0.001523  0.010891 -0.005109 -0.008326   \n",
       "TotalCharge              ...  0.000878 -0.003535 -0.004980 -0.005316   \n",
       "Additional_charges       ... -0.007565  0.002356 -0.000264  0.003399   \n",
       "S1_Timely_admission      ... -0.071267 -0.009448  0.085967  0.185212   \n",
       "S2_Timely_Treatment      ... -0.128170 -0.062702  0.100166  0.623051   \n",
       "S3_Timely_Visits         ... -0.209551 -0.239671 -0.430963 -0.619567   \n",
       "S4_Reliability           ... -0.359666 -0.387238  0.481842 -0.112381   \n",
       "S5_Options               ...  0.056440 -0.129610  0.693749 -0.306489   \n",
       "S6_Hours_of_Treatment    ...  0.050000  0.794856  0.264854 -0.274895   \n",
       "S7_Courteous_staff       ...  0.838860 -0.329319  0.071169 -0.064773   \n",
       "S8_Dr_Actively_Listened  ... -0.261788 -0.153078  0.040119 -0.037265   \n",
       "timezone_numeric         ...  0.005796  0.006018  0.005484  0.006251   \n",
       "\n",
       "                            PCA34     PCA35     PCA36     PCA37     PCA38  \\\n",
       "Zip                     -0.014801 -0.018797 -0.780123  0.005174 -0.005761   \n",
       "Lat                     -0.007472 -0.005387 -0.145624  0.005813 -0.000601   \n",
       "Lng                     -0.004569 -0.000748 -0.204046  0.011818 -0.046290   \n",
       "Population              -0.006573 -0.002240 -0.047506 -0.001013 -0.001486   \n",
       "Area                    -0.000186 -0.002861  0.004255 -0.010711 -0.004838   \n",
       "Children                -0.001590  0.004995 -0.003694  0.002820 -0.002502   \n",
       "Age                      0.003934  0.010768 -0.000276  0.485247 -0.012387   \n",
       "education_numeric       -0.007229 -0.001260  0.005418  0.000865 -0.004096   \n",
       "Income                  -0.002297 -0.001620 -0.002571 -0.001131 -0.001040   \n",
       "ReAdmis                 -0.029629 -0.743474  0.021804  0.026048  0.090255   \n",
       "VitD_levels              0.002180 -0.121656  0.000885  0.014853  0.555595   \n",
       "Doc_visits              -0.000716  0.008790  0.003280 -0.000816 -0.001193   \n",
       "Full_meals_eaten         0.001532  0.007781 -0.002176 -0.000081 -0.002780   \n",
       "VitD_supp               -0.000946 -0.010449  0.005557  0.001835 -0.000614   \n",
       "Soft_drink              -0.015832  0.003441  0.000322  0.001977 -0.000822   \n",
       "HighBlood                0.008572  0.025509  0.004574  0.510480  0.000319   \n",
       "Stroke                   0.007707  0.001265  0.000750  0.015297 -0.004221   \n",
       "Complication_risk        0.010360  0.000325 -0.001542  0.026367  0.035395   \n",
       "Overweight              -0.001291  0.003826 -0.003302 -0.000083 -0.001521   \n",
       "Arthritis                0.008845 -0.011238  0.001144 -0.005892  0.008955   \n",
       "Diabetes                 0.013441 -0.005336 -0.001885  0.002042  0.011501   \n",
       "Hyperlipidemia           0.014890  0.001722 -0.000531  0.003704  0.010622   \n",
       "BackPain                -0.000528 -0.006217 -0.007993  0.001677  0.011690   \n",
       "Anxiety                 -0.000364 -0.002833 -0.003630  0.001568  0.011180   \n",
       "Allergic_rhinitis        0.000612 -0.014949 -0.003711 -0.000167  0.006673   \n",
       "Reflux_esophagitis       0.002354 -0.011629 -0.004419 -0.001483  0.009214   \n",
       "Asthma                  -0.007863  0.001347  0.007296  0.002128  0.001079   \n",
       "Initial_days             0.007868  0.637051 -0.006898 -0.009807  0.385605   \n",
       "TotalCharge              0.011093  0.150523 -0.014081 -0.018140 -0.726498   \n",
       "Additional_charges      -0.009961 -0.016124  0.001210 -0.707729  0.019785   \n",
       "S1_Timely_admission     -0.803739  0.030053  0.014570  0.013232 -0.006773   \n",
       "S2_Timely_Treatment      0.535530 -0.001576 -0.002106  0.000490 -0.003156   \n",
       "S3_Timely_Visits         0.190015 -0.012351 -0.014486 -0.005280  0.006627   \n",
       "S4_Reliability          -0.011576  0.014430  0.000219 -0.004031 -0.001362   \n",
       "S5_Options               0.093593  0.004896  0.001314 -0.009284  0.003659   \n",
       "S6_Hours_of_Treatment    0.126016 -0.010496 -0.002335 -0.002727 -0.000032   \n",
       "S7_Courteous_staff       0.050762 -0.006875 -0.001110  0.002715  0.005895   \n",
       "S8_Dr_Actively_Listened  0.033175 -0.009709 -0.004042 -0.004580  0.005814   \n",
       "timezone_numeric        -0.005337 -0.010961 -0.569927 -0.008419  0.041495   \n",
       "\n",
       "                            PCA39  \n",
       "Zip                     -0.216765  \n",
       "Lat                     -0.021923  \n",
       "Lng                     -0.781724  \n",
       "Population               0.006063  \n",
       "Area                    -0.001432  \n",
       "Children                 0.001296  \n",
       "Age                      0.009388  \n",
       "education_numeric        0.000090  \n",
       "Income                   0.000003  \n",
       "ReAdmis                 -0.006274  \n",
       "VitD_levels             -0.034369  \n",
       "Doc_visits               0.000677  \n",
       "Full_meals_eaten        -0.000415  \n",
       "VitD_supp                0.003005  \n",
       "Soft_drink               0.002027  \n",
       "HighBlood                0.006896  \n",
       "Stroke                  -0.003197  \n",
       "Complication_risk       -0.001494  \n",
       "Overweight              -0.000457  \n",
       "Arthritis               -0.000446  \n",
       "Diabetes                -0.001048  \n",
       "Hyperlipidemia          -0.000597  \n",
       "BackPain                -0.004606  \n",
       "Anxiety                  0.001375  \n",
       "Allergic_rhinitis       -0.000387  \n",
       "Reflux_esophagitis       0.001385  \n",
       "Asthma                  -0.003631  \n",
       "Initial_days            -0.022913  \n",
       "TotalCharge              0.044825  \n",
       "Additional_charges      -0.012109  \n",
       "S1_Timely_admission      0.003425  \n",
       "S2_Timely_Treatment     -0.001891  \n",
       "S3_Timely_Visits        -0.001950  \n",
       "S4_Reliability           0.000535  \n",
       "S5_Options              -0.001686  \n",
       "S6_Hours_of_Treatment   -0.001254  \n",
       "S7_Courteous_staff       0.001623  \n",
       "S8_Dr_Actively_Listened -0.000086  \n",
       "timezone_numeric         0.580749  \n",
       "\n",
       "[39 rows x 39 columns]"
      ]
     },
     "execution_count": 221,
     "metadata": {},
     "output_type": "execute_result"
    }
   ],
   "source": [
    "#View PCA loadings\n",
    "loadings = pd.DataFrame(pca.components_.T, \n",
    "columns = ['PCA1', 'PCA2', 'PCA3', 'PCA4','PCA5','PCA6', 'PCA7', 'PCA8','PCA9','PCA10','PCA11','PCA12','PCA13','PCA14','PCA15','PCA16','PCA17','PCA18','PCA19','PCA20','PCA21','PCA22','PCA23','PCA24','PCA25','PCA26','PCA27','PCA28','PCA29','PCA30','PCA31','PCA32','PCA33','PCA34','PCA35','PCA36','PCA37','PCA38','PCA39'],\n",
    "index=med_normalized.columns)\n",
    "loadings"
   ]
  },
  {
   "cell_type": "code",
   "execution_count": 222,
   "id": "61e88e7c",
   "metadata": {},
   "outputs": [],
   "source": [
    "#Covariance matrix\n",
    "cov_matrix = np.dot(med_normalized.T, med_normalized)/med_pca.shape[0]"
   ]
  },
  {
   "cell_type": "code",
   "execution_count": 223,
   "id": "fcb41e4c",
   "metadata": {},
   "outputs": [],
   "source": [
    "# Eigenvalues\n",
    "eigenvalues = [np.dot(eigenvector.T, np.dot(cov_matrix, eigenvector)) for eigenvector in pca.components_]"
   ]
  },
  {
   "cell_type": "code",
   "execution_count": 224,
   "id": "156caf7e",
   "metadata": {},
   "outputs": [
    {
     "data": {
      "image/png": "[encoded data removed]",
      "text/plain": [
       "<Figure size 432x288 with 1 Axes>"
      ]
     },
     "metadata": {
      "needs_background": "light"
     },
     "output_type": "display_data"
    }
   ],
   "source": [
    "#Plot Eigenvalues\n",
    "pp.plot(eigenvalues, 'ro-')\n",
    "pp.xlabel('Number of Components')\n",
    "pp.ylabel('Eigenvalues')\n",
    "pp.show()"
   ]
  },
  {
   "cell_type": "code",
   "execution_count": 225,
   "id": "c22a58b7",
   "metadata": {},
   "outputs": [],
   "source": [
    "#Final Export\n",
    "med.to_csv(r\"C:\\Users\\mlaws\\OneDrive - Western Governors University\\Documents\\WGU\\D206\\medical_clean_data_withpca.csv\")"
   ]
  },
  {
   "cell_type": "code",
   "execution_count": null,
   "id": "21821f13",
   "metadata": {},
   "outputs": [],
   "source": []
  }
 ],
 "metadata": {
  "kernelspec": {
   "display_name": "Python 3",
   "language": "python",
   "name": "python3"
  },
  "language_info": {
   "codemirror_mode": {
    "name": "ipython",
    "version": 3
   },
   "file_extension": ".py",
   "mimetype": "text/x-python",
   "name": "python",
   "nbconvert_exporter": "python",
   "pygments_lexer": "ipython3",
   "version": "3.8.8"
  }
 },
 "nbformat": 4,
 "nbformat_minor": 5
}
