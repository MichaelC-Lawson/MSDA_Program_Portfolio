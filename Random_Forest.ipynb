{
 "cells": [
  {
   "cell_type": "code",
   "execution_count": 26,
   "id": "0e51b76c",
   "metadata": {},
   "outputs": [],
   "source": [
    "# import all possible packages useful for multiple linear regression\n",
    "import pandas as pd\n",
    "import numpy as np\n",
    "import sklearn\n",
    "import matplotlib.pyplot as plt\n",
    "import seaborn as sns\n",
    "from sklearn.model_selection import train_test_split, GridSearchCV, cross_val_score\n",
    "from sklearn.ensemble import RandomForestRegressor\n",
    "from sklearn import metrics\n",
    "from sklearn.metrics import accuracy_score, mean_squared_error as MSE\n",
    "import warnings\n",
    "warnings.filterwarnings(\"ignore\")"
   ]
  },
  {
   "cell_type": "code",
   "execution_count": 27,
   "id": "09d06768",
   "metadata": {},
   "outputs": [],
   "source": [
    "#Import data set from hard drive\n",
    "med = pd.read_csv(r\"C:\\Users\\mlaws\\OneDrive - Western Governors University\\Documents\\WGU\\D208\\medical_clean.csv\", skiprows=0, delimiter=\",\")"
   ]
  },
  {
   "cell_type": "code",
   "execution_count": 28,
   "id": "0e76fdad",
   "metadata": {},
   "outputs": [
    {
     "name": "stdout",
     "output_type": "stream",
     "text": [
      "<class 'pandas.core.frame.DataFrame'>\n",
      "RangeIndex: 10000 entries, 0 to 9999\n",
      "Data columns (total 50 columns):\n",
      " #   Column              Non-Null Count  Dtype  \n",
      "---  ------              --------------  -----  \n",
      " 0   CaseOrder           10000 non-null  int64  \n",
      " 1   Customer_id         10000 non-null  object \n",
      " 2   Interaction         10000 non-null  object \n",
      " 3   UID                 10000 non-null  object \n",
      " 4   City                10000 non-null  object \n",
      " 5   State               10000 non-null  object \n",
      " 6   County              10000 non-null  object \n",
      " 7   Zip                 10000 non-null  int64  \n",
      " 8   Lat                 10000 non-null  float64\n",
      " 9   Lng                 10000 non-null  float64\n",
      " 10  Population          10000 non-null  int64  \n",
      " 11  Area                10000 non-null  object \n",
      " 12  TimeZone            10000 non-null  object \n",
      " 13  Job                 10000 non-null  object \n",
      " 14  Children            10000 non-null  int64  \n",
      " 15  Age                 10000 non-null  int64  \n",
      " 16  Income              10000 non-null  float64\n",
      " 17  Marital             10000 non-null  object \n",
      " 18  Gender              10000 non-null  object \n",
      " 19  ReAdmis             10000 non-null  object \n",
      " 20  VitD_levels         10000 non-null  float64\n",
      " 21  Doc_visits          10000 non-null  int64  \n",
      " 22  Full_meals_eaten    10000 non-null  int64  \n",
      " 23  vitD_supp           10000 non-null  int64  \n",
      " 24  Soft_drink          10000 non-null  object \n",
      " 25  Initial_admin       10000 non-null  object \n",
      " 26  HighBlood           10000 non-null  object \n",
      " 27  Stroke              10000 non-null  object \n",
      " 28  Complication_risk   10000 non-null  object \n",
      " 29  Overweight          10000 non-null  object \n",
      " 30  Arthritis           10000 non-null  object \n",
      " 31  Diabetes            10000 non-null  object \n",
      " 32  Hyperlipidemia      10000 non-null  object \n",
      " 33  BackPain            10000 non-null  object \n",
      " 34  Anxiety             10000 non-null  object \n",
      " 35  Allergic_rhinitis   10000 non-null  object \n",
      " 36  Reflux_esophagitis  10000 non-null  object \n",
      " 37  Asthma              10000 non-null  object \n",
      " 38  Services            10000 non-null  object \n",
      " 39  Initial_days        10000 non-null  float64\n",
      " 40  TotalCharge         10000 non-null  float64\n",
      " 41  Additional_charges  10000 non-null  float64\n",
      " 42  Item1               10000 non-null  int64  \n",
      " 43  Item2               10000 non-null  int64  \n",
      " 44  Item3               10000 non-null  int64  \n",
      " 45  Item4               10000 non-null  int64  \n",
      " 46  Item5               10000 non-null  int64  \n",
      " 47  Item6               10000 non-null  int64  \n",
      " 48  Item7               10000 non-null  int64  \n",
      " 49  Item8               10000 non-null  int64  \n",
      "dtypes: float64(7), int64(16), object(27)\n",
      "memory usage: 3.8+ MB\n"
     ]
    }
   ],
   "source": [
    "#examine the list of variables, their data type and the shape of the data\n",
    "med.info()"
   ]
  },
  {
   "cell_type": "code",
   "execution_count": 29,
   "id": "55a9fd60",
   "metadata": {},
   "outputs": [
    {
     "data": {
      "text/html": [
       "<div>\n",
       "<style scoped>\n",
       "    .dataframe tbody tr th:only-of-type {\n",
       "        vertical-align: middle;\n",
       "    }\n",
       "\n",
       "    .dataframe tbody tr th {\n",
       "        vertical-align: top;\n",
       "    }\n",
       "\n",
       "    .dataframe thead th {\n",
       "        text-align: right;\n",
       "    }\n",
       "</style>\n",
       "<table border=\"1\" class=\"dataframe\">\n",
       "  <thead>\n",
       "    <tr style=\"text-align: right;\">\n",
       "      <th></th>\n",
       "      <th>CaseOrder</th>\n",
       "      <th>Customer_id</th>\n",
       "      <th>Interaction</th>\n",
       "      <th>UID</th>\n",
       "      <th>City</th>\n",
       "      <th>State</th>\n",
       "      <th>County</th>\n",
       "      <th>Zip</th>\n",
       "      <th>Lat</th>\n",
       "      <th>Lng</th>\n",
       "      <th>...</th>\n",
       "      <th>TotalCharge</th>\n",
       "      <th>Additional_charges</th>\n",
       "      <th>Item1</th>\n",
       "      <th>Item2</th>\n",
       "      <th>Item3</th>\n",
       "      <th>Item4</th>\n",
       "      <th>Item5</th>\n",
       "      <th>Item6</th>\n",
       "      <th>Item7</th>\n",
       "      <th>Item8</th>\n",
       "    </tr>\n",
       "  </thead>\n",
       "  <tbody>\n",
       "    <tr>\n",
       "      <th>0</th>\n",
       "      <td>1</td>\n",
       "      <td>C412403</td>\n",
       "      <td>8cd49b13-f45a-4b47-a2bd-173ffa932c2f</td>\n",
       "      <td>3a83ddb66e2ae73798bdf1d705dc0932</td>\n",
       "      <td>Eva</td>\n",
       "      <td>AL</td>\n",
       "      <td>Morgan</td>\n",
       "      <td>35621</td>\n",
       "      <td>34.34960</td>\n",
       "      <td>-86.72508</td>\n",
       "      <td>...</td>\n",
       "      <td>3726.702860</td>\n",
       "      <td>17939.403420</td>\n",
       "      <td>3</td>\n",
       "      <td>3</td>\n",
       "      <td>2</td>\n",
       "      <td>2</td>\n",
       "      <td>4</td>\n",
       "      <td>3</td>\n",
       "      <td>3</td>\n",
       "      <td>4</td>\n",
       "    </tr>\n",
       "    <tr>\n",
       "      <th>1</th>\n",
       "      <td>2</td>\n",
       "      <td>Z919181</td>\n",
       "      <td>d2450b70-0337-4406-bdbb-bc1037f1734c</td>\n",
       "      <td>176354c5eef714957d486009feabf195</td>\n",
       "      <td>Marianna</td>\n",
       "      <td>FL</td>\n",
       "      <td>Jackson</td>\n",
       "      <td>32446</td>\n",
       "      <td>30.84513</td>\n",
       "      <td>-85.22907</td>\n",
       "      <td>...</td>\n",
       "      <td>4193.190458</td>\n",
       "      <td>17612.998120</td>\n",
       "      <td>3</td>\n",
       "      <td>4</td>\n",
       "      <td>3</td>\n",
       "      <td>4</td>\n",
       "      <td>4</td>\n",
       "      <td>4</td>\n",
       "      <td>3</td>\n",
       "      <td>3</td>\n",
       "    </tr>\n",
       "    <tr>\n",
       "      <th>2</th>\n",
       "      <td>3</td>\n",
       "      <td>F995323</td>\n",
       "      <td>a2057123-abf5-4a2c-abad-8ffe33512562</td>\n",
       "      <td>e19a0fa00aeda885b8a436757e889bc9</td>\n",
       "      <td>Sioux Falls</td>\n",
       "      <td>SD</td>\n",
       "      <td>Minnehaha</td>\n",
       "      <td>57110</td>\n",
       "      <td>43.54321</td>\n",
       "      <td>-96.63772</td>\n",
       "      <td>...</td>\n",
       "      <td>2434.234222</td>\n",
       "      <td>17505.192460</td>\n",
       "      <td>2</td>\n",
       "      <td>4</td>\n",
       "      <td>4</td>\n",
       "      <td>4</td>\n",
       "      <td>3</td>\n",
       "      <td>4</td>\n",
       "      <td>3</td>\n",
       "      <td>3</td>\n",
       "    </tr>\n",
       "    <tr>\n",
       "      <th>3</th>\n",
       "      <td>4</td>\n",
       "      <td>A879973</td>\n",
       "      <td>1dec528d-eb34-4079-adce-0d7a40e82205</td>\n",
       "      <td>cd17d7b6d152cb6f23957346d11c3f07</td>\n",
       "      <td>New Richland</td>\n",
       "      <td>MN</td>\n",
       "      <td>Waseca</td>\n",
       "      <td>56072</td>\n",
       "      <td>43.89744</td>\n",
       "      <td>-93.51479</td>\n",
       "      <td>...</td>\n",
       "      <td>2127.830423</td>\n",
       "      <td>12993.437350</td>\n",
       "      <td>3</td>\n",
       "      <td>5</td>\n",
       "      <td>5</td>\n",
       "      <td>3</td>\n",
       "      <td>4</td>\n",
       "      <td>5</td>\n",
       "      <td>5</td>\n",
       "      <td>5</td>\n",
       "    </tr>\n",
       "    <tr>\n",
       "      <th>4</th>\n",
       "      <td>5</td>\n",
       "      <td>C544523</td>\n",
       "      <td>5885f56b-d6da-43a3-8760-83583af94266</td>\n",
       "      <td>d2f0425877b10ed6bb381f3e2579424a</td>\n",
       "      <td>West Point</td>\n",
       "      <td>VA</td>\n",
       "      <td>King William</td>\n",
       "      <td>23181</td>\n",
       "      <td>37.59894</td>\n",
       "      <td>-76.88958</td>\n",
       "      <td>...</td>\n",
       "      <td>2113.073274</td>\n",
       "      <td>3716.525786</td>\n",
       "      <td>2</td>\n",
       "      <td>1</td>\n",
       "      <td>3</td>\n",
       "      <td>3</td>\n",
       "      <td>5</td>\n",
       "      <td>3</td>\n",
       "      <td>4</td>\n",
       "      <td>3</td>\n",
       "    </tr>\n",
       "  </tbody>\n",
       "</table>\n",
       "<p>5 rows × 50 columns</p>\n",
       "</div>"
      ],
      "text/plain": [
       "   CaseOrder Customer_id                           Interaction  \\\n",
       "0          1     C412403  8cd49b13-f45a-4b47-a2bd-173ffa932c2f   \n",
       "1          2     Z919181  d2450b70-0337-4406-bdbb-bc1037f1734c   \n",
       "2          3     F995323  a2057123-abf5-4a2c-abad-8ffe33512562   \n",
       "3          4     A879973  1dec528d-eb34-4079-adce-0d7a40e82205   \n",
       "4          5     C544523  5885f56b-d6da-43a3-8760-83583af94266   \n",
       "\n",
       "                                UID          City State        County    Zip  \\\n",
       "0  3a83ddb66e2ae73798bdf1d705dc0932           Eva    AL        Morgan  35621   \n",
       "1  176354c5eef714957d486009feabf195      Marianna    FL       Jackson  32446   \n",
       "2  e19a0fa00aeda885b8a436757e889bc9   Sioux Falls    SD     Minnehaha  57110   \n",
       "3  cd17d7b6d152cb6f23957346d11c3f07  New Richland    MN        Waseca  56072   \n",
       "4  d2f0425877b10ed6bb381f3e2579424a    West Point    VA  King William  23181   \n",
       "\n",
       "        Lat       Lng  ...  TotalCharge Additional_charges Item1 Item2  Item3  \\\n",
       "0  34.34960 -86.72508  ...  3726.702860       17939.403420     3     3      2   \n",
       "1  30.84513 -85.22907  ...  4193.190458       17612.998120     3     4      3   \n",
       "2  43.54321 -96.63772  ...  2434.234222       17505.192460     2     4      4   \n",
       "3  43.89744 -93.51479  ...  2127.830423       12993.437350     3     5      5   \n",
       "4  37.59894 -76.88958  ...  2113.073274        3716.525786     2     1      3   \n",
       "\n",
       "   Item4  Item5 Item6 Item7 Item8  \n",
       "0      2      4     3     3     4  \n",
       "1      4      4     4     3     3  \n",
       "2      4      3     4     3     3  \n",
       "3      3      4     5     5     5  \n",
       "4      3      5     3     4     3  \n",
       "\n",
       "[5 rows x 50 columns]"
      ]
     },
     "execution_count": 29,
     "metadata": {},
     "output_type": "execute_result"
    }
   ],
   "source": [
    "#print the header \n",
    "med.head()"
   ]
  },
  {
   "cell_type": "code",
   "execution_count": 30,
   "id": "3dfe18cd",
   "metadata": {},
   "outputs": [],
   "source": [
    "#change the values of the ordinal categorical variable to numeric ranks\n",
    "med['Complication_risk'].unique()\n",
    "med['Complication_risk'] = med['Complication_risk'].map({'Low':0,'Medium':1,'High':2})"
   ]
  },
  {
   "cell_type": "code",
   "execution_count": 31,
   "id": "3bc42c31",
   "metadata": {},
   "outputs": [],
   "source": [
    "#change all binary categorical values to 0,1\n",
    "med['ReAdmis'] = med['ReAdmis'].map({'No':0, \"Yes\":1})\n",
    "med['Soft_drink'] = med['Soft_drink'].map({'No':0, \"Yes\":1})\n",
    "med['HighBlood'] = med['HighBlood'].map({'No':0, \"Yes\":1})\n",
    "med['Stroke'] = med['Stroke'].map({'No':0, \"Yes\":1})\n",
    "med['Overweight'] = med['Overweight'].map({'No':0, \"Yes\":1})\n",
    "med['Arthritis'] = med['Arthritis'].map({'No':0, \"Yes\":1})\n",
    "med['Diabetes'] = med['Diabetes'].map({'No':0, \"Yes\":1})\n",
    "med['Hyperlipidemia'] = med['Hyperlipidemia'].map({'No':0, \"Yes\":1})\n",
    "med['BackPain'] = med['BackPain'].map({'No':0, \"Yes\":1})\n",
    "med['Anxiety'] = med['Anxiety'].map({'No':0, \"Yes\":1})\n",
    "med['Allergic_rhinitis'] = med['Allergic_rhinitis'].map({'No':0, \"Yes\":1})\n",
    "med['Reflux_esophagitis'] = med['Reflux_esophagitis'].map({'No':0, \"Yes\":1})\n",
    "med['Asthma'] = med['Asthma'].map({'No':0, \"Yes\":1})"
   ]
  },
  {
   "cell_type": "code",
   "execution_count": 32,
   "id": "1f206681",
   "metadata": {},
   "outputs": [],
   "source": [
    "#Create dummy columns for the Services column\n",
    "med = pd.get_dummies(med, prefix=['Services','Marital','Gender', 'Initial_admin'], prefix_sep='_', dummy_na=False, columns=[\"Services\",\"Marital\",\"Gender\",\"Initial_admin\"])"
   ]
  },
  {
   "cell_type": "code",
   "execution_count": 33,
   "id": "cc551f83",
   "metadata": {
    "scrolled": true
   },
   "outputs": [
    {
     "name": "stdout",
     "output_type": "stream",
     "text": [
      "Index(['CaseOrder', 'Customer_id', 'Interaction', 'UID', 'City', 'State',\n",
      "       'County', 'Zip', 'Lat', 'Lng', 'Population', 'Area', 'TimeZone', 'Job',\n",
      "       'Children', 'Age', 'Income', 'ReAdmis', 'VitD_levels', 'Doc_visits',\n",
      "       'Full_meals_eaten', 'vitD_supp', 'Soft_drink', 'HighBlood', 'Stroke',\n",
      "       'Complication_risk', 'Overweight', 'Arthritis', 'Diabetes',\n",
      "       'Hyperlipidemia', 'BackPain', 'Anxiety', 'Allergic_rhinitis',\n",
      "       'Reflux_esophagitis', 'Asthma', 'Initial_days', 'TotalCharge',\n",
      "       'Additional_charges', 'Item1', 'Item2', 'Item3', 'Item4', 'Item5',\n",
      "       'Item6', 'Item7', 'Item8', 'Services_Blood Work', 'Services_CT Scan',\n",
      "       'Services_Intravenous', 'Services_MRI', 'Marital_Divorced',\n",
      "       'Marital_Married', 'Marital_Never Married', 'Marital_Separated',\n",
      "       'Marital_Widowed', 'Gender_Female', 'Gender_Male', 'Gender_Nonbinary',\n",
      "       'Initial_admin_Elective Admission', 'Initial_admin_Emergency Admission',\n",
      "       'Initial_admin_Observation Admission'],\n",
      "      dtype='object')\n"
     ]
    }
   ],
   "source": [
    "#Check whether dummy columns were created\n",
    "print(med.keys())"
   ]
  },
  {
   "cell_type": "code",
   "execution_count": 34,
   "id": "06631ada",
   "metadata": {},
   "outputs": [],
   "source": [
    "X = med.drop(axis=1, columns=['CaseOrder', 'Customer_id', 'Interaction', 'UID', 'City', 'State',\n",
    "       'County', 'Zip', 'Lat', 'Lng', 'Population', 'Area', 'TimeZone', 'Job', 'Complication_risk',])\n",
    "y = med['Complication_risk']"
   ]
  },
  {
   "cell_type": "code",
   "execution_count": 35,
   "id": "07ab0ddf",
   "metadata": {},
   "outputs": [],
   "source": [
    "#Split the data into training and test groups\n",
    "SEED = 944\n",
    "X_train,X_test,y_train,y_test = train_test_split(X,y,test_size=0.3, random_state=SEED, stratify=y)"
   ]
  },
  {
   "cell_type": "code",
   "execution_count": 36,
   "id": "27080fcf",
   "metadata": {},
   "outputs": [],
   "source": [
    "#Provide split data files\n",
    "Training_file = pd.concat([X_train,y_train])\n",
    "Test_file = pd.concat([X_test,y_test])\n",
    "Training_file.to_csv(r\"C:\\Users\\mlaws\\OneDrive - Western Governors University\\Documents\\WGU\\D209\\D209_T2_training_data.csv\")\n",
    "Test_file.to_csv(r\"C:\\Users\\mlaws\\OneDrive - Western Governors University\\Documents\\WGU\\D209\\D209_T2_test_data.csv\")"
   ]
  },
  {
   "cell_type": "code",
   "execution_count": 37,
   "id": "db2c0ad8",
   "metadata": {
    "scrolled": true
   },
   "outputs": [
    {
     "data": {
      "text/plain": [
       "{'bootstrap': True,\n",
       " 'ccp_alpha': 0.0,\n",
       " 'criterion': 'mse',\n",
       " 'max_depth': None,\n",
       " 'max_features': 'auto',\n",
       " 'max_leaf_nodes': None,\n",
       " 'max_samples': None,\n",
       " 'min_impurity_decrease': 0.0,\n",
       " 'min_impurity_split': None,\n",
       " 'min_samples_leaf': 0.15,\n",
       " 'min_samples_split': 2,\n",
       " 'min_weight_fraction_leaf': 0.0,\n",
       " 'n_estimators': 300,\n",
       " 'n_jobs': None,\n",
       " 'oob_score': True,\n",
       " 'random_state': 944,\n",
       " 'verbose': 0,\n",
       " 'warm_start': False}"
      ]
     },
     "execution_count": 37,
     "metadata": {},
     "output_type": "execute_result"
    }
   ],
   "source": [
    "#Initiate the Random Forest regressor\n",
    "rf = RandomForestRegressor(n_estimators=300,min_samples_leaf=0.15, oob_score=True, random_state=SEED)\n",
    "rf.get_params()"
   ]
  },
  {
   "cell_type": "code",
   "execution_count": 38,
   "id": "37dd71ff",
   "metadata": {},
   "outputs": [
    {
     "data": {
      "text/plain": [
       "RandomForestRegressor(min_samples_leaf=0.15, n_estimators=300, oob_score=True,\n",
       "                      random_state=944)"
      ]
     },
     "execution_count": 38,
     "metadata": {},
     "output_type": "execute_result"
    }
   ],
   "source": [
    "#Fit rf to training data\n",
    "rf.fit(X_train, y_train)"
   ]
  },
  {
   "cell_type": "code",
   "execution_count": 39,
   "id": "1f3ec603",
   "metadata": {},
   "outputs": [],
   "source": [
    "#predict target and assign to y_pred\n",
    "y_pred = rf.predict(X_test)"
   ]
  },
  {
   "cell_type": "code",
   "execution_count": 40,
   "id": "4f37a859",
   "metadata": {},
   "outputs": [
    {
     "name": "stdout",
     "output_type": "stream",
     "text": [
      "Root mean squared error:71.40%\n"
     ]
    }
   ],
   "source": [
    "#print the RMSE\n",
    "rmse_test = MSE(y_test,y_pred)**(1/2)\n",
    "print('Root mean squared error:{:.2f}%'.format(rmse_test*100))"
   ]
  },
  {
   "cell_type": "code",
   "execution_count": 41,
   "id": "00e23ec6",
   "metadata": {},
   "outputs": [
    {
     "data": {
      "image/png": "[encoded data removed]",
      "text/plain": [
       "<Figure size 720x1584 with 1 Axes>"
      ]
     },
     "metadata": {},
     "output_type": "display_data"
    }
   ],
   "source": [
    "#Visualize the most important explanatory variables\n",
    "importances_rf = pd.Series(rf.feature_importances_,index=X.columns)\n",
    "sorted_importances_rf = importances_rf.sort_values()\n",
    "sns.set(rc = {'figure.figsize':(10,22)})\n",
    "sorted_importances_rf.plot(kind='barh', color='lightgreen')\n",
    "plt.show()\n"
   ]
  },
  {
   "cell_type": "code",
   "execution_count": 42,
   "id": "76c359c1",
   "metadata": {},
   "outputs": [],
   "source": [
    "#set up parameters for hypertuning\n",
    "params_rf = {\n",
    "    'n_estimators': [300,400,500],\n",
    "    'max_depth': [4,6,8],\n",
    "    'min_samples_leaf': [0.2,0.4,0.6,0.8]\n",
    "}"
   ]
  },
  {
   "cell_type": "code",
   "execution_count": 43,
   "id": "cc7c7b4b",
   "metadata": {},
   "outputs": [],
   "source": [
    "#Perform grid search CV\n",
    "grid_rf = GridSearchCV(estimator=rf, param_grid=params_rf, cv=3, scoring='neg_mean_squared_error', refit=True, verbose=1,n_jobs=-1)"
   ]
  },
  {
   "cell_type": "code",
   "execution_count": 44,
   "id": "ab7944ec",
   "metadata": {},
   "outputs": [
    {
     "name": "stdout",
     "output_type": "stream",
     "text": [
      "Fitting 3 folds for each of 36 candidates, totalling 108 fits\n"
     ]
    },
    {
     "data": {
      "text/plain": [
       "GridSearchCV(cv=3,\n",
       "             estimator=RandomForestRegressor(min_samples_leaf=0.15,\n",
       "                                             n_estimators=300, oob_score=True,\n",
       "                                             random_state=944),\n",
       "             n_jobs=-1,\n",
       "             param_grid={'max_depth': [4, 6, 8],\n",
       "                         'min_samples_leaf': [0.2, 0.4, 0.6, 0.8],\n",
       "                         'n_estimators': [300, 400, 500]},\n",
       "             scoring='neg_mean_squared_error', verbose=1)"
      ]
     },
     "execution_count": 44,
     "metadata": {},
     "output_type": "execute_result"
    }
   ],
   "source": [
    "#Fit grid search cv to training data\n",
    "grid_rf.fit(X_train, y_train)"
   ]
  },
  {
   "cell_type": "code",
   "execution_count": 45,
   "id": "6c6e1c3a",
   "metadata": {
    "scrolled": true
   },
   "outputs": [
    {
     "name": "stdout",
     "output_type": "stream",
     "text": [
      "Best hyperparameters: \n",
      " {'max_depth': 4, 'min_samples_leaf': 0.2, 'n_estimators': 500}\n"
     ]
    }
   ],
   "source": [
    "#print the best hyperparameters\n",
    "best_hyperparams = grid_rf.best_params_\n",
    "print('Best hyperparameters: \\n', best_hyperparams)"
   ]
  },
  {
   "cell_type": "code",
   "execution_count": 46,
   "id": "58d9dc3d",
   "metadata": {},
   "outputs": [],
   "source": [
    "best_model = grid_rf.best_estimator_"
   ]
  },
  {
   "cell_type": "code",
   "execution_count": 47,
   "id": "2a5bd8d9",
   "metadata": {},
   "outputs": [],
   "source": [
    "y_pred = best_model.predict(X_test)"
   ]
  },
  {
   "cell_type": "code",
   "execution_count": 48,
   "id": "6e8b693d",
   "metadata": {},
   "outputs": [],
   "source": [
    "rmse_test = MSE(y_test,y_pred)**(1/2)"
   ]
  },
  {
   "cell_type": "code",
   "execution_count": 49,
   "id": "e3153958",
   "metadata": {},
   "outputs": [
    {
     "name": "stdout",
     "output_type": "stream",
     "text": [
      "Test set RMSE of rf: 72.41%\n"
     ]
    }
   ],
   "source": [
    "print('Test set RMSE of rf: {:.2f}%'.format(rmse_test*100))"
   ]
  },
  {
   "cell_type": "code",
   "execution_count": 50,
   "id": "e149f558",
   "metadata": {},
   "outputs": [],
   "source": [
    "#Export prepared data\n",
    "med.to_csv(r\"C:\\Users\\mlaws\\OneDrive - Western Governors University\\Documents\\WGU\\D209\\medical_prepared_D209_T2.csv\")"
   ]
  },
  {
   "cell_type": "code",
   "execution_count": null,
   "id": "4d5ef51b",
   "metadata": {},
   "outputs": [],
   "source": []
  }
 ],
 "metadata": {
  "kernelspec": {
   "display_name": "Python 3",
   "language": "python",
   "name": "python3"
  },
  "language_info": {
   "codemirror_mode": {
    "name": "ipython",
    "version": 3
   },
   "file_extension": ".py",
   "mimetype": "text/x-python",
   "name": "python",
   "nbconvert_exporter": "python",
   "pygments_lexer": "ipython3",
   "version": "3.8.8"
  }
 },
 "nbformat": 4,
 "nbformat_minor": 5
}
