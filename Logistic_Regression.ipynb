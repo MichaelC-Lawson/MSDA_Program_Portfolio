{
 "cells": [
  {
   "cell_type": "code",
   "execution_count": 1,
   "id": "0e51b76c",
   "metadata": {},
   "outputs": [],
   "source": [
    "# import all possible packages useful for multiple linear regression\n",
    "import pandas as pd\n",
    "import numpy as np\n",
    "import sklearn\n",
    "from pandas import Series, DataFrame\n",
    "import seaborn as sns\n",
    "import matplotlib.pyplot as plt\n",
    "from pylab import rcParams\n",
    "from sklearn import preprocessing\n",
    "from sklearn.linear_model import LogisticRegression\n",
    "from sklearn.model_selection import train_test_split\n",
    "from sklearn import metrics\n",
    "from sklearn.metrics import classification_report, confusion_matrix\n",
    "import statsmodels.api as sm\n",
    "from statsmodels.formula.api import logit\n",
    "from sklearn.feature_selection import RFE\n",
    "from sklearn.preprocessing import StandardScaler\n",
    "import warnings\n",
    "warnings.filterwarnings(\"ignore\")"
   ]
  },
  {
   "cell_type": "code",
   "execution_count": 2,
   "id": "09d06768",
   "metadata": {},
   "outputs": [],
   "source": [
    "#Import data set from hard drive\n",
    "med = pd.read_csv(r\"C:\\Users\\mlaws\\OneDrive - Western Governors University\\Documents\\WGU\\D208\\medical_clean.csv\", skiprows=0, delimiter=\",\")"
   ]
  },
  {
   "cell_type": "code",
   "execution_count": 3,
   "id": "0e76fdad",
   "metadata": {},
   "outputs": [
    {
     "name": "stdout",
     "output_type": "stream",
     "text": [
      "<class 'pandas.core.frame.DataFrame'>\n",
      "RangeIndex: 10000 entries, 0 to 9999\n",
      "Data columns (total 50 columns):\n",
      " #   Column              Non-Null Count  Dtype  \n",
      "---  ------              --------------  -----  \n",
      " 0   CaseOrder           10000 non-null  int64  \n",
      " 1   Customer_id         10000 non-null  object \n",
      " 2   Interaction         10000 non-null  object \n",
      " 3   UID                 10000 non-null  object \n",
      " 4   City                10000 non-null  object \n",
      " 5   State               10000 non-null  object \n",
      " 6   County              10000 non-null  object \n",
      " 7   Zip                 10000 non-null  int64  \n",
      " 8   Lat                 10000 non-null  float64\n",
      " 9   Lng                 10000 non-null  float64\n",
      " 10  Population          10000 non-null  int64  \n",
      " 11  Area                10000 non-null  object \n",
      " 12  TimeZone            10000 non-null  object \n",
      " 13  Job                 10000 non-null  object \n",
      " 14  Children            10000 non-null  int64  \n",
      " 15  Age                 10000 non-null  int64  \n",
      " 16  Income              10000 non-null  float64\n",
      " 17  Marital             10000 non-null  object \n",
      " 18  Gender              10000 non-null  object \n",
      " 19  ReAdmis             10000 non-null  object \n",
      " 20  VitD_levels         10000 non-null  float64\n",
      " 21  Doc_visits          10000 non-null  int64  \n",
      " 22  Full_meals_eaten    10000 non-null  int64  \n",
      " 23  vitD_supp           10000 non-null  int64  \n",
      " 24  Soft_drink          10000 non-null  object \n",
      " 25  Initial_admin       10000 non-null  object \n",
      " 26  HighBlood           10000 non-null  object \n",
      " 27  Stroke              10000 non-null  object \n",
      " 28  Complication_risk   10000 non-null  object \n",
      " 29  Overweight          10000 non-null  object \n",
      " 30  Arthritis           10000 non-null  object \n",
      " 31  Diabetes            10000 non-null  object \n",
      " 32  Hyperlipidemia      10000 non-null  object \n",
      " 33  BackPain            10000 non-null  object \n",
      " 34  Anxiety             10000 non-null  object \n",
      " 35  Allergic_rhinitis   10000 non-null  object \n",
      " 36  Reflux_esophagitis  10000 non-null  object \n",
      " 37  Asthma              10000 non-null  object \n",
      " 38  Services            10000 non-null  object \n",
      " 39  Initial_days        10000 non-null  float64\n",
      " 40  TotalCharge         10000 non-null  float64\n",
      " 41  Additional_charges  10000 non-null  float64\n",
      " 42  Item1               10000 non-null  int64  \n",
      " 43  Item2               10000 non-null  int64  \n",
      " 44  Item3               10000 non-null  int64  \n",
      " 45  Item4               10000 non-null  int64  \n",
      " 46  Item5               10000 non-null  int64  \n",
      " 47  Item6               10000 non-null  int64  \n",
      " 48  Item7               10000 non-null  int64  \n",
      " 49  Item8               10000 non-null  int64  \n",
      "dtypes: float64(7), int64(16), object(27)\n",
      "memory usage: 3.8+ MB\n"
     ]
    }
   ],
   "source": [
    "#examine the list of variables, their data type and the shape of the data\n",
    "med.info()"
   ]
  },
  {
   "cell_type": "code",
   "execution_count": 4,
   "id": "55a9fd60",
   "metadata": {},
   "outputs": [
    {
     "data": {
      "text/html": [
       "<div>\n",
       "<style scoped>\n",
       "    .dataframe tbody tr th:only-of-type {\n",
       "        vertical-align: middle;\n",
       "    }\n",
       "\n",
       "    .dataframe tbody tr th {\n",
       "        vertical-align: top;\n",
       "    }\n",
       "\n",
       "    .dataframe thead th {\n",
       "        text-align: right;\n",
       "    }\n",
       "</style>\n",
       "<table border=\"1\" class=\"dataframe\">\n",
       "  <thead>\n",
       "    <tr style=\"text-align: right;\">\n",
       "      <th></th>\n",
       "      <th>CaseOrder</th>\n",
       "      <th>Customer_id</th>\n",
       "      <th>Interaction</th>\n",
       "      <th>UID</th>\n",
       "      <th>City</th>\n",
       "      <th>State</th>\n",
       "      <th>County</th>\n",
       "      <th>Zip</th>\n",
       "      <th>Lat</th>\n",
       "      <th>Lng</th>\n",
       "      <th>...</th>\n",
       "      <th>TotalCharge</th>\n",
       "      <th>Additional_charges</th>\n",
       "      <th>Item1</th>\n",
       "      <th>Item2</th>\n",
       "      <th>Item3</th>\n",
       "      <th>Item4</th>\n",
       "      <th>Item5</th>\n",
       "      <th>Item6</th>\n",
       "      <th>Item7</th>\n",
       "      <th>Item8</th>\n",
       "    </tr>\n",
       "  </thead>\n",
       "  <tbody>\n",
       "    <tr>\n",
       "      <th>0</th>\n",
       "      <td>1</td>\n",
       "      <td>C412403</td>\n",
       "      <td>8cd49b13-f45a-4b47-a2bd-173ffa932c2f</td>\n",
       "      <td>3a83ddb66e2ae73798bdf1d705dc0932</td>\n",
       "      <td>Eva</td>\n",
       "      <td>AL</td>\n",
       "      <td>Morgan</td>\n",
       "      <td>35621</td>\n",
       "      <td>34.34960</td>\n",
       "      <td>-86.72508</td>\n",
       "      <td>...</td>\n",
       "      <td>3726.702860</td>\n",
       "      <td>17939.403420</td>\n",
       "      <td>3</td>\n",
       "      <td>3</td>\n",
       "      <td>2</td>\n",
       "      <td>2</td>\n",
       "      <td>4</td>\n",
       "      <td>3</td>\n",
       "      <td>3</td>\n",
       "      <td>4</td>\n",
       "    </tr>\n",
       "    <tr>\n",
       "      <th>1</th>\n",
       "      <td>2</td>\n",
       "      <td>Z919181</td>\n",
       "      <td>d2450b70-0337-4406-bdbb-bc1037f1734c</td>\n",
       "      <td>176354c5eef714957d486009feabf195</td>\n",
       "      <td>Marianna</td>\n",
       "      <td>FL</td>\n",
       "      <td>Jackson</td>\n",
       "      <td>32446</td>\n",
       "      <td>30.84513</td>\n",
       "      <td>-85.22907</td>\n",
       "      <td>...</td>\n",
       "      <td>4193.190458</td>\n",
       "      <td>17612.998120</td>\n",
       "      <td>3</td>\n",
       "      <td>4</td>\n",
       "      <td>3</td>\n",
       "      <td>4</td>\n",
       "      <td>4</td>\n",
       "      <td>4</td>\n",
       "      <td>3</td>\n",
       "      <td>3</td>\n",
       "    </tr>\n",
       "    <tr>\n",
       "      <th>2</th>\n",
       "      <td>3</td>\n",
       "      <td>F995323</td>\n",
       "      <td>a2057123-abf5-4a2c-abad-8ffe33512562</td>\n",
       "      <td>e19a0fa00aeda885b8a436757e889bc9</td>\n",
       "      <td>Sioux Falls</td>\n",
       "      <td>SD</td>\n",
       "      <td>Minnehaha</td>\n",
       "      <td>57110</td>\n",
       "      <td>43.54321</td>\n",
       "      <td>-96.63772</td>\n",
       "      <td>...</td>\n",
       "      <td>2434.234222</td>\n",
       "      <td>17505.192460</td>\n",
       "      <td>2</td>\n",
       "      <td>4</td>\n",
       "      <td>4</td>\n",
       "      <td>4</td>\n",
       "      <td>3</td>\n",
       "      <td>4</td>\n",
       "      <td>3</td>\n",
       "      <td>3</td>\n",
       "    </tr>\n",
       "    <tr>\n",
       "      <th>3</th>\n",
       "      <td>4</td>\n",
       "      <td>A879973</td>\n",
       "      <td>1dec528d-eb34-4079-adce-0d7a40e82205</td>\n",
       "      <td>cd17d7b6d152cb6f23957346d11c3f07</td>\n",
       "      <td>New Richland</td>\n",
       "      <td>MN</td>\n",
       "      <td>Waseca</td>\n",
       "      <td>56072</td>\n",
       "      <td>43.89744</td>\n",
       "      <td>-93.51479</td>\n",
       "      <td>...</td>\n",
       "      <td>2127.830423</td>\n",
       "      <td>12993.437350</td>\n",
       "      <td>3</td>\n",
       "      <td>5</td>\n",
       "      <td>5</td>\n",
       "      <td>3</td>\n",
       "      <td>4</td>\n",
       "      <td>5</td>\n",
       "      <td>5</td>\n",
       "      <td>5</td>\n",
       "    </tr>\n",
       "    <tr>\n",
       "      <th>4</th>\n",
       "      <td>5</td>\n",
       "      <td>C544523</td>\n",
       "      <td>5885f56b-d6da-43a3-8760-83583af94266</td>\n",
       "      <td>d2f0425877b10ed6bb381f3e2579424a</td>\n",
       "      <td>West Point</td>\n",
       "      <td>VA</td>\n",
       "      <td>King William</td>\n",
       "      <td>23181</td>\n",
       "      <td>37.59894</td>\n",
       "      <td>-76.88958</td>\n",
       "      <td>...</td>\n",
       "      <td>2113.073274</td>\n",
       "      <td>3716.525786</td>\n",
       "      <td>2</td>\n",
       "      <td>1</td>\n",
       "      <td>3</td>\n",
       "      <td>3</td>\n",
       "      <td>5</td>\n",
       "      <td>3</td>\n",
       "      <td>4</td>\n",
       "      <td>3</td>\n",
       "    </tr>\n",
       "  </tbody>\n",
       "</table>\n",
       "<p>5 rows × 50 columns</p>\n",
       "</div>"
      ],
      "text/plain": [
       "   CaseOrder Customer_id                           Interaction  \\\n",
       "0          1     C412403  8cd49b13-f45a-4b47-a2bd-173ffa932c2f   \n",
       "1          2     Z919181  d2450b70-0337-4406-bdbb-bc1037f1734c   \n",
       "2          3     F995323  a2057123-abf5-4a2c-abad-8ffe33512562   \n",
       "3          4     A879973  1dec528d-eb34-4079-adce-0d7a40e82205   \n",
       "4          5     C544523  5885f56b-d6da-43a3-8760-83583af94266   \n",
       "\n",
       "                                UID          City State        County    Zip  \\\n",
       "0  3a83ddb66e2ae73798bdf1d705dc0932           Eva    AL        Morgan  35621   \n",
       "1  176354c5eef714957d486009feabf195      Marianna    FL       Jackson  32446   \n",
       "2  e19a0fa00aeda885b8a436757e889bc9   Sioux Falls    SD     Minnehaha  57110   \n",
       "3  cd17d7b6d152cb6f23957346d11c3f07  New Richland    MN        Waseca  56072   \n",
       "4  d2f0425877b10ed6bb381f3e2579424a    West Point    VA  King William  23181   \n",
       "\n",
       "        Lat       Lng  ...  TotalCharge Additional_charges Item1 Item2  Item3  \\\n",
       "0  34.34960 -86.72508  ...  3726.702860       17939.403420     3     3      2   \n",
       "1  30.84513 -85.22907  ...  4193.190458       17612.998120     3     4      3   \n",
       "2  43.54321 -96.63772  ...  2434.234222       17505.192460     2     4      4   \n",
       "3  43.89744 -93.51479  ...  2127.830423       12993.437350     3     5      5   \n",
       "4  37.59894 -76.88958  ...  2113.073274        3716.525786     2     1      3   \n",
       "\n",
       "   Item4  Item5 Item6 Item7 Item8  \n",
       "0      2      4     3     3     4  \n",
       "1      4      4     4     3     3  \n",
       "2      4      3     4     3     3  \n",
       "3      3      4     5     5     5  \n",
       "4      3      5     3     4     3  \n",
       "\n",
       "[5 rows x 50 columns]"
      ]
     },
     "execution_count": 4,
     "metadata": {},
     "output_type": "execute_result"
    }
   ],
   "source": [
    "#print the header \n",
    "med.head()"
   ]
  },
  {
   "cell_type": "code",
   "execution_count": 5,
   "id": "3dfe18cd",
   "metadata": {},
   "outputs": [],
   "source": [
    "#change the values of the ordinal categorical variable to numeric ranks\n",
    "med['Complication_risk'].unique()\n",
    "med['Complication_risk'] = med['Complication_risk'].map({'Low':0,'Medium':1,'High':2})"
   ]
  },
  {
   "cell_type": "code",
   "execution_count": 6,
   "id": "3bc42c31",
   "metadata": {},
   "outputs": [],
   "source": [
    "#change all binary categorical values to 0,1\n",
    "med['ReAdmis'] = med['ReAdmis'].map({'No':0, \"Yes\":1})\n",
    "med['Soft_drink'] = med['Soft_drink'].map({'No':0, \"Yes\":1})\n",
    "med['HighBlood'] = med['HighBlood'].map({'No':0, \"Yes\":1})\n",
    "med['Stroke'] = med['Stroke'].map({'No':0, \"Yes\":1})\n",
    "med['Overweight'] = med['Overweight'].map({'No':0, \"Yes\":1})\n",
    "med['Arthritis'] = med['Arthritis'].map({'No':0, \"Yes\":1})\n",
    "med['Diabetes'] = med['Diabetes'].map({'No':0, \"Yes\":1})\n",
    "med['Hyperlipidemia'] = med['Hyperlipidemia'].map({'No':0, \"Yes\":1})\n",
    "med['BackPain'] = med['BackPain'].map({'No':0, \"Yes\":1})\n",
    "med['Anxiety'] = med['Anxiety'].map({'No':0, \"Yes\":1})\n",
    "med['Allergic_rhinitis'] = med['Allergic_rhinitis'].map({'No':0, \"Yes\":1})\n",
    "med['Reflux_esophagitis'] = med['Reflux_esophagitis'].map({'No':0, \"Yes\":1})\n",
    "med['Asthma'] = med['Asthma'].map({'No':0, \"Yes\":1})"
   ]
  },
  {
   "cell_type": "code",
   "execution_count": 7,
   "id": "1f206681",
   "metadata": {},
   "outputs": [],
   "source": [
    "#Create dummy columns for the Services column\n",
    "med = pd.get_dummies(med, prefix='Services', prefix_sep='_', dummy_na=False, columns=[\"Services\"])"
   ]
  },
  {
   "cell_type": "code",
   "execution_count": 8,
   "id": "cc551f83",
   "metadata": {},
   "outputs": [
    {
     "data": {
      "text/plain": [
       "Index(['CaseOrder', 'Customer_id', 'Interaction', 'UID', 'City', 'State',\n",
       "       'County', 'Zip', 'Lat', 'Lng', 'Population', 'Area', 'TimeZone', 'Job',\n",
       "       'Children', 'Age', 'Income', 'Marital', 'Gender', 'ReAdmis',\n",
       "       'VitD_levels', 'Doc_visits', 'Full_meals_eaten', 'vitD_supp',\n",
       "       'Soft_drink', 'Initial_admin', 'HighBlood', 'Stroke',\n",
       "       'Complication_risk', 'Overweight', 'Arthritis', 'Diabetes',\n",
       "       'Hyperlipidemia', 'BackPain', 'Anxiety', 'Allergic_rhinitis',\n",
       "       'Reflux_esophagitis', 'Asthma', 'Initial_days', 'TotalCharge',\n",
       "       'Additional_charges', 'Item1', 'Item2', 'Item3', 'Item4', 'Item5',\n",
       "       'Item6', 'Item7', 'Item8', 'Services_Blood Work', 'Services_CT Scan',\n",
       "       'Services_Intravenous', 'Services_MRI'],\n",
       "      dtype='object')"
      ]
     },
     "execution_count": 8,
     "metadata": {},
     "output_type": "execute_result"
    }
   ],
   "source": [
    "#Check whether dummy columns were created\n",
    "med.columns"
   ]
  },
  {
   "cell_type": "code",
   "execution_count": 9,
   "id": "6fa6ffa0",
   "metadata": {},
   "outputs": [],
   "source": [
    "#Gross selection of data before PCA\n",
    "med_df = med[['Doc_visits',\"Initial_days\", \"ReAdmis\",\"VitD_levels\", \"Soft_drink\",\"HighBlood\", \"Stroke\", \"Complication_risk\", \"Overweight\", \"Arthritis\", \"Diabetes\", \"Hyperlipidemia\", \"BackPain\", \"Anxiety\", \"Allergic_rhinitis\", \"Reflux_esophagitis\", \"Asthma\",'Services_Blood Work', 'Services_CT Scan',\n",
    "       'Services_Intravenous', 'Services_MRI']]"
   ]
  },
  {
   "cell_type": "code",
   "execution_count": 12,
   "id": "5a5d03fb",
   "metadata": {},
   "outputs": [
    {
     "data": {
      "text/html": [
       "<div>\n",
       "<style scoped>\n",
       "    .dataframe tbody tr th:only-of-type {\n",
       "        vertical-align: middle;\n",
       "    }\n",
       "\n",
       "    .dataframe tbody tr th {\n",
       "        vertical-align: top;\n",
       "    }\n",
       "\n",
       "    .dataframe thead th {\n",
       "        text-align: right;\n",
       "    }\n",
       "</style>\n",
       "<table border=\"1\" class=\"dataframe\">\n",
       "  <thead>\n",
       "    <tr style=\"text-align: right;\">\n",
       "      <th></th>\n",
       "      <th>Doc_visits</th>\n",
       "      <th>Initial_days</th>\n",
       "      <th>ReAdmis</th>\n",
       "      <th>VitD_levels</th>\n",
       "      <th>Soft_drink</th>\n",
       "      <th>HighBlood</th>\n",
       "      <th>Stroke</th>\n",
       "      <th>Complication_risk</th>\n",
       "      <th>Overweight</th>\n",
       "      <th>Arthritis</th>\n",
       "      <th>...</th>\n",
       "      <th>Hyperlipidemia</th>\n",
       "      <th>BackPain</th>\n",
       "      <th>Anxiety</th>\n",
       "      <th>Allergic_rhinitis</th>\n",
       "      <th>Reflux_esophagitis</th>\n",
       "      <th>Asthma</th>\n",
       "      <th>Services_Blood Work</th>\n",
       "      <th>Services_CT Scan</th>\n",
       "      <th>Services_Intravenous</th>\n",
       "      <th>Services_MRI</th>\n",
       "    </tr>\n",
       "  </thead>\n",
       "  <tbody>\n",
       "    <tr>\n",
       "      <th>count</th>\n",
       "      <td>10000.000000</td>\n",
       "      <td>10000.000000</td>\n",
       "      <td>10000.000000</td>\n",
       "      <td>10000.000000</td>\n",
       "      <td>10000.000000</td>\n",
       "      <td>10000.000000</td>\n",
       "      <td>10000.000000</td>\n",
       "      <td>10000.000000</td>\n",
       "      <td>10000.000000</td>\n",
       "      <td>10000.000000</td>\n",
       "      <td>...</td>\n",
       "      <td>10000.000000</td>\n",
       "      <td>10000.000000</td>\n",
       "      <td>10000.000000</td>\n",
       "      <td>10000.000000</td>\n",
       "      <td>10000.000000</td>\n",
       "      <td>10000.00000</td>\n",
       "      <td>10000.000000</td>\n",
       "      <td>10000.000000</td>\n",
       "      <td>10000.000000</td>\n",
       "      <td>10000.000000</td>\n",
       "    </tr>\n",
       "    <tr>\n",
       "      <th>mean</th>\n",
       "      <td>5.012200</td>\n",
       "      <td>34.455299</td>\n",
       "      <td>0.366900</td>\n",
       "      <td>17.964262</td>\n",
       "      <td>0.257500</td>\n",
       "      <td>0.409000</td>\n",
       "      <td>0.199300</td>\n",
       "      <td>1.123300</td>\n",
       "      <td>0.709400</td>\n",
       "      <td>0.357400</td>\n",
       "      <td>...</td>\n",
       "      <td>0.337200</td>\n",
       "      <td>0.411400</td>\n",
       "      <td>0.321500</td>\n",
       "      <td>0.394100</td>\n",
       "      <td>0.413500</td>\n",
       "      <td>0.28930</td>\n",
       "      <td>0.526500</td>\n",
       "      <td>0.122500</td>\n",
       "      <td>0.313000</td>\n",
       "      <td>0.038000</td>\n",
       "    </tr>\n",
       "    <tr>\n",
       "      <th>std</th>\n",
       "      <td>1.045734</td>\n",
       "      <td>26.309341</td>\n",
       "      <td>0.481983</td>\n",
       "      <td>2.017231</td>\n",
       "      <td>0.437279</td>\n",
       "      <td>0.491674</td>\n",
       "      <td>0.399494</td>\n",
       "      <td>0.730172</td>\n",
       "      <td>0.454062</td>\n",
       "      <td>0.479258</td>\n",
       "      <td>...</td>\n",
       "      <td>0.472777</td>\n",
       "      <td>0.492112</td>\n",
       "      <td>0.467076</td>\n",
       "      <td>0.488681</td>\n",
       "      <td>0.492486</td>\n",
       "      <td>0.45346</td>\n",
       "      <td>0.499322</td>\n",
       "      <td>0.327879</td>\n",
       "      <td>0.463738</td>\n",
       "      <td>0.191206</td>\n",
       "    </tr>\n",
       "    <tr>\n",
       "      <th>min</th>\n",
       "      <td>1.000000</td>\n",
       "      <td>1.001981</td>\n",
       "      <td>0.000000</td>\n",
       "      <td>9.806483</td>\n",
       "      <td>0.000000</td>\n",
       "      <td>0.000000</td>\n",
       "      <td>0.000000</td>\n",
       "      <td>0.000000</td>\n",
       "      <td>0.000000</td>\n",
       "      <td>0.000000</td>\n",
       "      <td>...</td>\n",
       "      <td>0.000000</td>\n",
       "      <td>0.000000</td>\n",
       "      <td>0.000000</td>\n",
       "      <td>0.000000</td>\n",
       "      <td>0.000000</td>\n",
       "      <td>0.00000</td>\n",
       "      <td>0.000000</td>\n",
       "      <td>0.000000</td>\n",
       "      <td>0.000000</td>\n",
       "      <td>0.000000</td>\n",
       "    </tr>\n",
       "    <tr>\n",
       "      <th>25%</th>\n",
       "      <td>4.000000</td>\n",
       "      <td>7.896215</td>\n",
       "      <td>0.000000</td>\n",
       "      <td>16.626439</td>\n",
       "      <td>0.000000</td>\n",
       "      <td>0.000000</td>\n",
       "      <td>0.000000</td>\n",
       "      <td>1.000000</td>\n",
       "      <td>0.000000</td>\n",
       "      <td>0.000000</td>\n",
       "      <td>...</td>\n",
       "      <td>0.000000</td>\n",
       "      <td>0.000000</td>\n",
       "      <td>0.000000</td>\n",
       "      <td>0.000000</td>\n",
       "      <td>0.000000</td>\n",
       "      <td>0.00000</td>\n",
       "      <td>0.000000</td>\n",
       "      <td>0.000000</td>\n",
       "      <td>0.000000</td>\n",
       "      <td>0.000000</td>\n",
       "    </tr>\n",
       "    <tr>\n",
       "      <th>50%</th>\n",
       "      <td>5.000000</td>\n",
       "      <td>35.836244</td>\n",
       "      <td>0.000000</td>\n",
       "      <td>17.951122</td>\n",
       "      <td>0.000000</td>\n",
       "      <td>0.000000</td>\n",
       "      <td>0.000000</td>\n",
       "      <td>1.000000</td>\n",
       "      <td>1.000000</td>\n",
       "      <td>0.000000</td>\n",
       "      <td>...</td>\n",
       "      <td>0.000000</td>\n",
       "      <td>0.000000</td>\n",
       "      <td>0.000000</td>\n",
       "      <td>0.000000</td>\n",
       "      <td>0.000000</td>\n",
       "      <td>0.00000</td>\n",
       "      <td>1.000000</td>\n",
       "      <td>0.000000</td>\n",
       "      <td>0.000000</td>\n",
       "      <td>0.000000</td>\n",
       "    </tr>\n",
       "    <tr>\n",
       "      <th>75%</th>\n",
       "      <td>6.000000</td>\n",
       "      <td>61.161020</td>\n",
       "      <td>1.000000</td>\n",
       "      <td>19.347963</td>\n",
       "      <td>1.000000</td>\n",
       "      <td>1.000000</td>\n",
       "      <td>0.000000</td>\n",
       "      <td>2.000000</td>\n",
       "      <td>1.000000</td>\n",
       "      <td>1.000000</td>\n",
       "      <td>...</td>\n",
       "      <td>1.000000</td>\n",
       "      <td>1.000000</td>\n",
       "      <td>1.000000</td>\n",
       "      <td>1.000000</td>\n",
       "      <td>1.000000</td>\n",
       "      <td>1.00000</td>\n",
       "      <td>1.000000</td>\n",
       "      <td>0.000000</td>\n",
       "      <td>1.000000</td>\n",
       "      <td>0.000000</td>\n",
       "    </tr>\n",
       "    <tr>\n",
       "      <th>max</th>\n",
       "      <td>9.000000</td>\n",
       "      <td>71.981490</td>\n",
       "      <td>1.000000</td>\n",
       "      <td>26.394449</td>\n",
       "      <td>1.000000</td>\n",
       "      <td>1.000000</td>\n",
       "      <td>1.000000</td>\n",
       "      <td>2.000000</td>\n",
       "      <td>1.000000</td>\n",
       "      <td>1.000000</td>\n",
       "      <td>...</td>\n",
       "      <td>1.000000</td>\n",
       "      <td>1.000000</td>\n",
       "      <td>1.000000</td>\n",
       "      <td>1.000000</td>\n",
       "      <td>1.000000</td>\n",
       "      <td>1.00000</td>\n",
       "      <td>1.000000</td>\n",
       "      <td>1.000000</td>\n",
       "      <td>1.000000</td>\n",
       "      <td>1.000000</td>\n",
       "    </tr>\n",
       "  </tbody>\n",
       "</table>\n",
       "<p>8 rows × 21 columns</p>\n",
       "</div>"
      ],
      "text/plain": [
       "         Doc_visits  Initial_days       ReAdmis   VitD_levels    Soft_drink  \\\n",
       "count  10000.000000  10000.000000  10000.000000  10000.000000  10000.000000   \n",
       "mean       5.012200     34.455299      0.366900     17.964262      0.257500   \n",
       "std        1.045734     26.309341      0.481983      2.017231      0.437279   \n",
       "min        1.000000      1.001981      0.000000      9.806483      0.000000   \n",
       "25%        4.000000      7.896215      0.000000     16.626439      0.000000   \n",
       "50%        5.000000     35.836244      0.000000     17.951122      0.000000   \n",
       "75%        6.000000     61.161020      1.000000     19.347963      1.000000   \n",
       "max        9.000000     71.981490      1.000000     26.394449      1.000000   \n",
       "\n",
       "          HighBlood        Stroke  Complication_risk    Overweight  \\\n",
       "count  10000.000000  10000.000000       10000.000000  10000.000000   \n",
       "mean       0.409000      0.199300           1.123300      0.709400   \n",
       "std        0.491674      0.399494           0.730172      0.454062   \n",
       "min        0.000000      0.000000           0.000000      0.000000   \n",
       "25%        0.000000      0.000000           1.000000      0.000000   \n",
       "50%        0.000000      0.000000           1.000000      1.000000   \n",
       "75%        1.000000      0.000000           2.000000      1.000000   \n",
       "max        1.000000      1.000000           2.000000      1.000000   \n",
       "\n",
       "          Arthritis  ...  Hyperlipidemia      BackPain       Anxiety  \\\n",
       "count  10000.000000  ...    10000.000000  10000.000000  10000.000000   \n",
       "mean       0.357400  ...        0.337200      0.411400      0.321500   \n",
       "std        0.479258  ...        0.472777      0.492112      0.467076   \n",
       "min        0.000000  ...        0.000000      0.000000      0.000000   \n",
       "25%        0.000000  ...        0.000000      0.000000      0.000000   \n",
       "50%        0.000000  ...        0.000000      0.000000      0.000000   \n",
       "75%        1.000000  ...        1.000000      1.000000      1.000000   \n",
       "max        1.000000  ...        1.000000      1.000000      1.000000   \n",
       "\n",
       "       Allergic_rhinitis  Reflux_esophagitis       Asthma  \\\n",
       "count       10000.000000        10000.000000  10000.00000   \n",
       "mean            0.394100            0.413500      0.28930   \n",
       "std             0.488681            0.492486      0.45346   \n",
       "min             0.000000            0.000000      0.00000   \n",
       "25%             0.000000            0.000000      0.00000   \n",
       "50%             0.000000            0.000000      0.00000   \n",
       "75%             1.000000            1.000000      1.00000   \n",
       "max             1.000000            1.000000      1.00000   \n",
       "\n",
       "       Services_Blood Work  Services_CT Scan  Services_Intravenous  \\\n",
       "count         10000.000000      10000.000000          10000.000000   \n",
       "mean              0.526500          0.122500              0.313000   \n",
       "std               0.499322          0.327879              0.463738   \n",
       "min               0.000000          0.000000              0.000000   \n",
       "25%               0.000000          0.000000              0.000000   \n",
       "50%               1.000000          0.000000              0.000000   \n",
       "75%               1.000000          0.000000              1.000000   \n",
       "max               1.000000          1.000000              1.000000   \n",
       "\n",
       "       Services_MRI  \n",
       "count  10000.000000  \n",
       "mean       0.038000  \n",
       "std        0.191206  \n",
       "min        0.000000  \n",
       "25%        0.000000  \n",
       "50%        0.000000  \n",
       "75%        0.000000  \n",
       "max        1.000000  \n",
       "\n",
       "[8 rows x 21 columns]"
      ]
     },
     "execution_count": 12,
     "metadata": {},
     "output_type": "execute_result"
    }
   ],
   "source": [
    "med_df.describe()"
   ]
  },
  {
   "cell_type": "code",
   "execution_count": 10,
   "id": "1c0fb667",
   "metadata": {},
   "outputs": [],
   "source": [
    "#Standardize the data so that all the variables are uniform in comparison\n",
    "x = med_df[[\"Initial_days\",\"VitD_levels\", \"Soft_drink\", \"HighBlood\", \"Stroke\", \"Complication_risk\", \"Overweight\", \"Arthritis\", \"Diabetes\", \"Hyperlipidemia\", \"BackPain\", \"Anxiety\", \"Allergic_rhinitis\", \"Reflux_esophagitis\", \"Asthma\",'Services_Blood Work', 'Services_CT Scan',\n",
    "       'Services_Intravenous', 'Services_MRI']]\n",
    "y = med_df[\"ReAdmis\"]\n",
    "x_data=x\n",
    "target=y\n",
    "scaled_data=preprocessing.scale(x_data)"
   ]
  },
  {
   "cell_type": "code",
   "execution_count": 11,
   "id": "9ee93a30",
   "metadata": {},
   "outputs": [
    {
     "data": {
      "text/plain": [
       "<AxesSubplot:xlabel='ReAdmis', ylabel='Count'>"
      ]
     },
     "execution_count": 11,
     "metadata": {},
     "output_type": "execute_result"
    },
    {
     "data": {
      "image/png": "[encoded data removed]",
      "text/plain": [
       "<Figure size 288x216 with 1 Axes>"
      ]
     },
     "metadata": {},
     "output_type": "display_data"
    }
   ],
   "source": [
    "#Create histograms of every column to visualize \n",
    "sns.set(rc = {'figure.figsize':(4,3)})\n",
    "sns.histplot(data=med_df, x=\"ReAdmis\", bins=10)"
   ]
  },
  {
   "cell_type": "code",
   "execution_count": 12,
   "id": "e85f9919",
   "metadata": {
    "scrolled": true
   },
   "outputs": [
    {
     "data": {
      "text/plain": [
       "<AxesSubplot:xlabel='Initial_days', ylabel='Count'>"
      ]
     },
     "execution_count": 12,
     "metadata": {},
     "output_type": "execute_result"
    },
    {
     "data": {
      "image/png": "[encoded data removed]",
      "text/plain": [
       "<Figure size 288x216 with 1 Axes>"
      ]
     },
     "metadata": {},
     "output_type": "display_data"
    }
   ],
   "source": [
    "sns.histplot(data=med_df, x=\"Initial_days\", bins=10)"
   ]
  },
  {
   "cell_type": "code",
   "execution_count": 13,
   "id": "4a38c265",
   "metadata": {},
   "outputs": [
    {
     "data": {
      "text/plain": [
       "<AxesSubplot:xlabel='VitD_levels', ylabel='Count'>"
      ]
     },
     "execution_count": 13,
     "metadata": {},
     "output_type": "execute_result"
    },
    {
     "data": {
      "image/png": "[encoded data removed]",
      "text/plain": [
       "<Figure size 288x216 with 1 Axes>"
      ]
     },
     "metadata": {},
     "output_type": "display_data"
    }
   ],
   "source": [
    "sns.histplot(data=med_df, x=\"VitD_levels\", bins=10)"
   ]
  },
  {
   "cell_type": "code",
   "execution_count": 14,
   "id": "ce2dc963",
   "metadata": {},
   "outputs": [
    {
     "data": {
      "text/plain": [
       "<AxesSubplot:xlabel='Soft_drink', ylabel='Count'>"
      ]
     },
     "execution_count": 14,
     "metadata": {},
     "output_type": "execute_result"
    },
    {
     "data": {
      "image/png": "[encoded data removed]",
      "text/plain": [
       "<Figure size 288x216 with 1 Axes>"
      ]
     },
     "metadata": {},
     "output_type": "display_data"
    }
   ],
   "source": [
    "sns.histplot(data=med_df, x=\"Soft_drink\", bins=10)"
   ]
  },
  {
   "cell_type": "code",
   "execution_count": 15,
   "id": "38fad8cc",
   "metadata": {},
   "outputs": [
    {
     "data": {
      "text/plain": [
       "<AxesSubplot:xlabel='HighBlood', ylabel='Count'>"
      ]
     },
     "execution_count": 15,
     "metadata": {},
     "output_type": "execute_result"
    },
    {
     "data": {
      "image/png": "[encoded data removed]",
      "text/plain": [
       "<Figure size 288x216 with 1 Axes>"
      ]
     },
     "metadata": {},
     "output_type": "display_data"
    }
   ],
   "source": [
    "sns.histplot(data=med_df, x=\"HighBlood\", bins=10)"
   ]
  },
  {
   "cell_type": "code",
   "execution_count": 16,
   "id": "c84e4419",
   "metadata": {},
   "outputs": [
    {
     "data": {
      "text/plain": [
       "<AxesSubplot:xlabel='Stroke', ylabel='Count'>"
      ]
     },
     "execution_count": 16,
     "metadata": {},
     "output_type": "execute_result"
    },
    {
     "data": {
      "image/png": "[encoded data removed]",
      "text/plain": [
       "<Figure size 288x216 with 1 Axes>"
      ]
     },
     "metadata": {},
     "output_type": "display_data"
    }
   ],
   "source": [
    "sns.histplot(data=med_df, x=\"Stroke\", bins=10)"
   ]
  },
  {
   "cell_type": "code",
   "execution_count": 17,
   "id": "e4c9a18e",
   "metadata": {},
   "outputs": [
    {
     "data": {
      "text/plain": [
       "<AxesSubplot:xlabel='Complication_risk', ylabel='Count'>"
      ]
     },
     "execution_count": 17,
     "metadata": {},
     "output_type": "execute_result"
    },
    {
     "data": {
      "image/png": "[encoded data removed]",
      "text/plain": [
       "<Figure size 288x216 with 1 Axes>"
      ]
     },
     "metadata": {},
     "output_type": "display_data"
    }
   ],
   "source": [
    "sns.histplot(data=med_df, x=\"Complication_risk\", bins=10)"
   ]
  },
  {
   "cell_type": "code",
   "execution_count": 18,
   "id": "d531deef",
   "metadata": {},
   "outputs": [
    {
     "data": {
      "text/plain": [
       "<AxesSubplot:xlabel='Overweight', ylabel='Count'>"
      ]
     },
     "execution_count": 18,
     "metadata": {},
     "output_type": "execute_result"
    },
    {
     "data": {
      "image/png": "[encoded data removed]",
      "text/plain": [
       "<Figure size 288x216 with 1 Axes>"
      ]
     },
     "metadata": {},
     "output_type": "display_data"
    }
   ],
   "source": [
    "sns.histplot(data=med_df, x=\"Overweight\", bins=10)"
   ]
  },
  {
   "cell_type": "code",
   "execution_count": 19,
   "id": "ffb05721",
   "metadata": {},
   "outputs": [
    {
     "data": {
      "text/plain": [
       "<AxesSubplot:xlabel='Arthritis', ylabel='Count'>"
      ]
     },
     "execution_count": 19,
     "metadata": {},
     "output_type": "execute_result"
    },
    {
     "data": {
      "image/png": "[encoded data removed]",
      "text/plain": [
       "<Figure size 288x216 with 1 Axes>"
      ]
     },
     "metadata": {},
     "output_type": "display_data"
    }
   ],
   "source": [
    "sns.histplot(data=med_df, x=\"Arthritis\", bins=10)"
   ]
  },
  {
   "cell_type": "code",
   "execution_count": 20,
   "id": "33bfa15c",
   "metadata": {},
   "outputs": [
    {
     "data": {
      "text/plain": [
       "<AxesSubplot:xlabel='Diabetes', ylabel='Count'>"
      ]
     },
     "execution_count": 20,
     "metadata": {},
     "output_type": "execute_result"
    },
    {
     "data": {
      "image/png": "[encoded data removed]",
      "text/plain": [
       "<Figure size 288x216 with 1 Axes>"
      ]
     },
     "metadata": {},
     "output_type": "display_data"
    }
   ],
   "source": [
    "sns.histplot(data=med_df, x=\"Diabetes\", bins=10)"
   ]
  },
  {
   "cell_type": "code",
   "execution_count": 21,
   "id": "f8c719ef",
   "metadata": {},
   "outputs": [
    {
     "data": {
      "text/plain": [
       "<AxesSubplot:xlabel='Hyperlipidemia', ylabel='Count'>"
      ]
     },
     "execution_count": 21,
     "metadata": {},
     "output_type": "execute_result"
    },
    {
     "data": {
      "image/png": "[encoded data removed]",
      "text/plain": [
       "<Figure size 288x216 with 1 Axes>"
      ]
     },
     "metadata": {},
     "output_type": "display_data"
    }
   ],
   "source": [
    "sns.histplot(data=med_df, x=\"Hyperlipidemia\", bins=10)"
   ]
  },
  {
   "cell_type": "code",
   "execution_count": 22,
   "id": "50016713",
   "metadata": {},
   "outputs": [
    {
     "data": {
      "text/plain": [
       "<AxesSubplot:xlabel='BackPain', ylabel='Count'>"
      ]
     },
     "execution_count": 22,
     "metadata": {},
     "output_type": "execute_result"
    },
    {
     "data": {
      "image/png": "[encoded data removed]",
      "text/plain": [
       "<Figure size 288x216 with 1 Axes>"
      ]
     },
     "metadata": {},
     "output_type": "display_data"
    }
   ],
   "source": [
    "sns.histplot(data=med_df, x=\"BackPain\", bins=10)"
   ]
  },
  {
   "cell_type": "code",
   "execution_count": 23,
   "id": "47cc03c4",
   "metadata": {},
   "outputs": [
    {
     "data": {
      "text/plain": [
       "<AxesSubplot:xlabel='Anxiety', ylabel='Count'>"
      ]
     },
     "execution_count": 23,
     "metadata": {},
     "output_type": "execute_result"
    },
    {
     "data": {
      "image/png": "[encoded data removed]",
      "text/plain": [
       "<Figure size 288x216 with 1 Axes>"
      ]
     },
     "metadata": {},
     "output_type": "display_data"
    }
   ],
   "source": [
    "sns.histplot(data=med_df, x=\"Anxiety\", bins=10)"
   ]
  },
  {
   "cell_type": "code",
   "execution_count": 24,
   "id": "597445f0",
   "metadata": {},
   "outputs": [
    {
     "data": {
      "text/plain": [
       "<AxesSubplot:xlabel='Allergic_rhinitis', ylabel='Count'>"
      ]
     },
     "execution_count": 24,
     "metadata": {},
     "output_type": "execute_result"
    },
    {
     "data": {
      "image/png": "[encoded data removed]",
      "text/plain": [
       "<Figure size 288x216 with 1 Axes>"
      ]
     },
     "metadata": {},
     "output_type": "display_data"
    }
   ],
   "source": [
    "sns.histplot(data=med_df, x=\"Allergic_rhinitis\", bins=10)"
   ]
  },
  {
   "cell_type": "code",
   "execution_count": 25,
   "id": "9a1006aa",
   "metadata": {},
   "outputs": [
    {
     "data": {
      "text/plain": [
       "<AxesSubplot:xlabel='Reflux_esophagitis', ylabel='Count'>"
      ]
     },
     "execution_count": 25,
     "metadata": {},
     "output_type": "execute_result"
    },
    {
     "data": {
      "image/png": "[encoded data removed]",
      "text/plain": [
       "<Figure size 288x216 with 1 Axes>"
      ]
     },
     "metadata": {},
     "output_type": "display_data"
    }
   ],
   "source": [
    "sns.histplot(data=med_df, x=\"Reflux_esophagitis\", bins=10)"
   ]
  },
  {
   "cell_type": "code",
   "execution_count": 26,
   "id": "36044442",
   "metadata": {},
   "outputs": [
    {
     "data": {
      "text/plain": [
       "<AxesSubplot:xlabel='Asthma', ylabel='Count'>"
      ]
     },
     "execution_count": 26,
     "metadata": {},
     "output_type": "execute_result"
    },
    {
     "data": {
      "image/png": "[encoded data removed]",
      "text/plain": [
       "<Figure size 288x216 with 1 Axes>"
      ]
     },
     "metadata": {},
     "output_type": "display_data"
    }
   ],
   "source": [
    "sns.histplot(data=med_df, x=\"Asthma\", bins=10)"
   ]
  },
  {
   "cell_type": "code",
   "execution_count": 27,
   "id": "7a8bffcc",
   "metadata": {},
   "outputs": [
    {
     "data": {
      "image/png": "[encoded data removed]",
      "text/plain": [
       "<Figure size 1080x360 with 3 Axes>"
      ]
     },
     "metadata": {},
     "output_type": "display_data"
    }
   ],
   "source": [
    "#Create bivariate visualizations of data against \"ReAdmis\"\n",
    "sns.displot(data=med_df, x=\"ReAdmis\", col=\"Complication_risk\", col_wrap=3, bins=10)\n",
    "plt.show()"
   ]
  },
  {
   "cell_type": "code",
   "execution_count": 28,
   "id": "5caf2f8b",
   "metadata": {},
   "outputs": [
    {
     "data": {
      "text/plain": [
       "<matplotlib.legend.Legend at 0x1e5307b8f40>"
      ]
     },
     "execution_count": 28,
     "metadata": {},
     "output_type": "execute_result"
    },
    {
     "data": {
      "image/png": "[encoded data removed]",
      "text/plain": [
       "<Figure size 288x216 with 1 Axes>"
      ]
     },
     "metadata": {},
     "output_type": "display_data"
    }
   ],
   "source": [
    "readmits = med_df[med_df['ReAdmis']==1]\n",
    "admits = med_df[med_df['ReAdmis']==0]\n",
    "sns.histplot(data=admits, x=\"HighBlood\", color='violet')\n",
    "sns.histplot(data=readmits, x=\"HighBlood\", color='grey')\n",
    "plt.legend(labels=[\"Initial admit\", \"Readmit\"], bbox_to_anchor=(1,1))"
   ]
  },
  {
   "cell_type": "code",
   "execution_count": 29,
   "id": "5c142981",
   "metadata": {},
   "outputs": [
    {
     "data": {
      "text/plain": [
       "<matplotlib.legend.Legend at 0x1e530818df0>"
      ]
     },
     "execution_count": 29,
     "metadata": {},
     "output_type": "execute_result"
    },
    {
     "data": {
      "image/png": "[encoded data removed]",
      "text/plain": [
       "<Figure size 288x216 with 1 Axes>"
      ]
     },
     "metadata": {},
     "output_type": "display_data"
    }
   ],
   "source": [
    "sns.histplot(data=admits, x=\"Initial_days\", bins=10,color='violet')\n",
    "sns.histplot(data=readmits, x=\"Initial_days\",bins=10, color='grey')\n",
    "plt.legend(labels=[\"Initial admit\", \"Readmit\"], bbox_to_anchor=(1,1))"
   ]
  },
  {
   "cell_type": "code",
   "execution_count": 30,
   "id": "94b6cca0",
   "metadata": {},
   "outputs": [
    {
     "data": {
      "text/plain": [
       "<matplotlib.legend.Legend at 0x1e5308a7eb0>"
      ]
     },
     "execution_count": 30,
     "metadata": {},
     "output_type": "execute_result"
    },
    {
     "data": {
      "image/png": "[encoded data removed]",
      "text/plain": [
       "<Figure size 288x216 with 1 Axes>"
      ]
     },
     "metadata": {},
     "output_type": "display_data"
    }
   ],
   "source": [
    "sns.histplot(data=admits, x=\"Soft_drink\", color='green')\n",
    "sns.histplot(data=readmits, x=\"Soft_drink\", color='grey')\n",
    "plt.legend(labels=[\"Initial admit\", \"Readmit\"], bbox_to_anchor=(1,1))"
   ]
  },
  {
   "cell_type": "code",
   "execution_count": 31,
   "id": "4694f556",
   "metadata": {},
   "outputs": [
    {
     "data": {
      "text/plain": [
       "<matplotlib.legend.Legend at 0x1e530946940>"
      ]
     },
     "execution_count": 31,
     "metadata": {},
     "output_type": "execute_result"
    },
    {
     "data": {
      "image/png": "[encoded data removed]",
      "text/plain": [
       "<Figure size 288x216 with 1 Axes>"
      ]
     },
     "metadata": {},
     "output_type": "display_data"
    }
   ],
   "source": [
    "sns.histplot(data=admits, x=\"Stroke\", color='blue')\n",
    "sns.histplot(data=readmits, x=\"Stroke\", color='grey')\n",
    "plt.legend(labels=[\"Initial admit\", \"Readmit\"], bbox_to_anchor=(1,1))"
   ]
  },
  {
   "cell_type": "code",
   "execution_count": 32,
   "id": "1d3f0368",
   "metadata": {},
   "outputs": [
    {
     "data": {
      "text/plain": [
       "<matplotlib.legend.Legend at 0x1e530a03580>"
      ]
     },
     "execution_count": 32,
     "metadata": {},
     "output_type": "execute_result"
    },
    {
     "data": {
      "image/png": "[encoded data removed]",
      "text/plain": [
       "<Figure size 288x216 with 1 Axes>"
      ]
     },
     "metadata": {},
     "output_type": "display_data"
    }
   ],
   "source": [
    "sns.histplot(data=admits, x=\"Complication_risk\", color='orange')\n",
    "sns.histplot(data=readmits, x=\"Complication_risk\", color='grey')\n",
    "plt.legend(labels=[\"Initial admit\", \"Readmit\"], bbox_to_anchor=(1,1))"
   ]
  },
  {
   "cell_type": "code",
   "execution_count": 33,
   "id": "18872e08",
   "metadata": {},
   "outputs": [
    {
     "data": {
      "text/plain": [
       "<matplotlib.legend.Legend at 0x1e530abe8e0>"
      ]
     },
     "execution_count": 33,
     "metadata": {},
     "output_type": "execute_result"
    },
    {
     "data": {
      "image/png": "[encoded data removed]",
      "text/plain": [
       "<Figure size 288x216 with 1 Axes>"
      ]
     },
     "metadata": {},
     "output_type": "display_data"
    }
   ],
   "source": [
    "sns.histplot(data=admits, x=\"Overweight\", color='pink')\n",
    "sns.histplot(data=readmits, x=\"Overweight\", color='grey')\n",
    "plt.legend(labels=[\"Initial admit\", \"Readmit\"], bbox_to_anchor=(1,1))"
   ]
  },
  {
   "cell_type": "code",
   "execution_count": 34,
   "id": "9a96d4f8",
   "metadata": {},
   "outputs": [
    {
     "data": {
      "text/plain": [
       "<matplotlib.legend.Legend at 0x1e52fdcfa00>"
      ]
     },
     "execution_count": 34,
     "metadata": {},
     "output_type": "execute_result"
    },
    {
     "data": {
      "image/png": "[encoded data removed]",
      "text/plain": [
       "<Figure size 288x216 with 1 Axes>"
      ]
     },
     "metadata": {},
     "output_type": "display_data"
    }
   ],
   "source": [
    "sns.histplot(data=admits, x=\"Arthritis\", color='aqua')\n",
    "sns.histplot(data=readmits, x=\"Arthritis\", color='grey')\n",
    "plt.legend(labels=[\"Initial admit\", \"Readmit\"], bbox_to_anchor=(1,1))"
   ]
  },
  {
   "cell_type": "code",
   "execution_count": 35,
   "id": "2c8b3810",
   "metadata": {},
   "outputs": [
    {
     "data": {
      "text/plain": [
       "<matplotlib.legend.Legend at 0x1e5309eefa0>"
      ]
     },
     "execution_count": 35,
     "metadata": {},
     "output_type": "execute_result"
    },
    {
     "data": {
      "image/png": "[encoded data removed]",
      "text/plain": [
       "<Figure size 288x216 with 1 Axes>"
      ]
     },
     "metadata": {},
     "output_type": "display_data"
    }
   ],
   "source": [
    "sns.histplot(data=admits, x=\"Anxiety\", color='lightgreen')\n",
    "sns.histplot(data=readmits, x=\"Anxiety\", color='grey')\n",
    "plt.legend(labels=[\"Initial admit\", \"Readmit\"], bbox_to_anchor=(1,1))"
   ]
  },
  {
   "cell_type": "code",
   "execution_count": 36,
   "id": "6a1b5a51",
   "metadata": {},
   "outputs": [
    {
     "data": {
      "text/plain": [
       "<matplotlib.legend.Legend at 0x1e530c76d60>"
      ]
     },
     "execution_count": 36,
     "metadata": {},
     "output_type": "execute_result"
    },
    {
     "data": {
      "image/png": "[encoded data removed]",
      "text/plain": [
       "<Figure size 288x216 with 1 Axes>"
      ]
     },
     "metadata": {},
     "output_type": "display_data"
    }
   ],
   "source": [
    "sns.histplot(data=admits, x=\"Diabetes\", color='lightblue')\n",
    "sns.histplot(data=readmits, x=\"Diabetes\", color='grey')\n",
    "plt.legend(labels=[\"Initial admit\", \"Readmit\"], bbox_to_anchor=(1,1))"
   ]
  },
  {
   "cell_type": "code",
   "execution_count": 37,
   "id": "e28e8616",
   "metadata": {},
   "outputs": [
    {
     "data": {
      "text/plain": [
       "<matplotlib.legend.Legend at 0x1e530d20e80>"
      ]
     },
     "execution_count": 37,
     "metadata": {},
     "output_type": "execute_result"
    },
    {
     "data": {
      "image/png": "[encoded data removed]",
      "text/plain": [
       "<Figure size 288x216 with 1 Axes>"
      ]
     },
     "metadata": {},
     "output_type": "display_data"
    }
   ],
   "source": [
    "sns.histplot(data=admits, x=\"Hyperlipidemia\", color='purple')\n",
    "sns.histplot(data=readmits, x=\"Hyperlipidemia\", color='grey')\n",
    "plt.legend(labels=[\"Initial admit\", \"Readmit\"], bbox_to_anchor=(1,1))"
   ]
  },
  {
   "cell_type": "code",
   "execution_count": 38,
   "id": "332e819f",
   "metadata": {},
   "outputs": [
    {
     "data": {
      "text/plain": [
       "<matplotlib.legend.Legend at 0x1e533fc8f70>"
      ]
     },
     "execution_count": 38,
     "metadata": {},
     "output_type": "execute_result"
    },
    {
     "data": {
      "image/png": "[encoded data removed]",
      "text/plain": [
       "<Figure size 288x216 with 1 Axes>"
      ]
     },
     "metadata": {},
     "output_type": "display_data"
    }
   ],
   "source": [
    "sns.histplot(data=admits, x=\"BackPain\", color='grey')\n",
    "sns.histplot(data=readmits, x=\"BackPain\", color='white')\n",
    "plt.legend(labels=[\"Initial admit\", \"Readmit\"], bbox_to_anchor=(1,1))"
   ]
  },
  {
   "cell_type": "code",
   "execution_count": 39,
   "id": "01f2e733",
   "metadata": {},
   "outputs": [
    {
     "data": {
      "text/plain": [
       "<matplotlib.legend.Legend at 0x1e534071c40>"
      ]
     },
     "execution_count": 39,
     "metadata": {},
     "output_type": "execute_result"
    },
    {
     "data": {
      "image/png": "[encoded data removed]",
      "text/plain": [
       "<Figure size 288x216 with 1 Axes>"
      ]
     },
     "metadata": {},
     "output_type": "display_data"
    }
   ],
   "source": [
    "sns.histplot(data=admits, x=\"Allergic_rhinitis\", color='lightblue')\n",
    "sns.histplot(data=readmits, x=\"Allergic_rhinitis\", color='white')\n",
    "plt.legend(labels=[\"Initial admit\", \"Readmit\"], bbox_to_anchor=(1,1))"
   ]
  },
  {
   "cell_type": "code",
   "execution_count": 40,
   "id": "f3b3dbdf",
   "metadata": {},
   "outputs": [
    {
     "data": {
      "text/plain": [
       "<matplotlib.legend.Legend at 0x1e5350e9d30>"
      ]
     },
     "execution_count": 40,
     "metadata": {},
     "output_type": "execute_result"
    },
    {
     "data": {
      "image/png": "[encoded data removed]",
      "text/plain": [
       "<Figure size 288x216 with 1 Axes>"
      ]
     },
     "metadata": {},
     "output_type": "display_data"
    }
   ],
   "source": [
    "sns.histplot(data=admits, x=\"Reflux_esophagitis\", color='lightgreen')\n",
    "sns.histplot(data=readmits, x=\"Reflux_esophagitis\", color='white')\n",
    "plt.legend(labels=[\"Initial admit\", \"Readmit\"], bbox_to_anchor=(1,1))"
   ]
  },
  {
   "cell_type": "code",
   "execution_count": 41,
   "id": "d112fb41",
   "metadata": {},
   "outputs": [
    {
     "data": {
      "text/plain": [
       "<matplotlib.legend.Legend at 0x1e535193940>"
      ]
     },
     "execution_count": 41,
     "metadata": {},
     "output_type": "execute_result"
    },
    {
     "data": {
      "image/png": "[encoded data removed]",
      "text/plain": [
       "<Figure size 288x216 with 1 Axes>"
      ]
     },
     "metadata": {},
     "output_type": "display_data"
    }
   ],
   "source": [
    "sns.histplot(data=admits, x=\"Services_Blood Work\", color='purple')\n",
    "sns.histplot(data=readmits, x=\"Services_Blood Work\", color='white')\n",
    "plt.legend(labels=[\"Initial admit\", \"Readmit\"], bbox_to_anchor=(1,1))"
   ]
  },
  {
   "cell_type": "code",
   "execution_count": 42,
   "id": "5afc9ee5",
   "metadata": {},
   "outputs": [
    {
     "data": {
      "text/plain": [
       "<matplotlib.legend.Legend at 0x1e53523f4f0>"
      ]
     },
     "execution_count": 42,
     "metadata": {},
     "output_type": "execute_result"
    },
    {
     "data": {
      "image/png": "[encoded data removed]",
      "text/plain": [
       "<Figure size 288x216 with 1 Axes>"
      ]
     },
     "metadata": {},
     "output_type": "display_data"
    }
   ],
   "source": [
    "sns.histplot(data=admits, x=\"Services_CT Scan\", color='lightgreen')\n",
    "sns.histplot(data=readmits, x=\"Services_CT Scan\", color='white')\n",
    "plt.legend(labels=[\"Initial admit\", \"Readmit\"], bbox_to_anchor=(1,1))"
   ]
  },
  {
   "cell_type": "code",
   "execution_count": 43,
   "id": "5c123882",
   "metadata": {},
   "outputs": [
    {
     "data": {
      "text/plain": [
       "<matplotlib.legend.Legend at 0x1e53524c7f0>"
      ]
     },
     "execution_count": 43,
     "metadata": {},
     "output_type": "execute_result"
    },
    {
     "data": {
      "image/png": "[encoded data removed]",
      "text/plain": [
       "<Figure size 288x216 with 1 Axes>"
      ]
     },
     "metadata": {},
     "output_type": "display_data"
    }
   ],
   "source": [
    "sns.histplot(data=admits, x=\"Services_MRI\", color='lightblue')\n",
    "sns.histplot(data=readmits, x=\"Services_MRI\", color='white')\n",
    "plt.legend(labels=[\"Initial admit\", \"Readmit\"], bbox_to_anchor=(1,1))"
   ]
  },
  {
   "cell_type": "code",
   "execution_count": 44,
   "id": "b9e4cb3d",
   "metadata": {},
   "outputs": [
    {
     "data": {
      "text/plain": [
       "<matplotlib.legend.Legend at 0x1e535394460>"
      ]
     },
     "execution_count": 44,
     "metadata": {},
     "output_type": "execute_result"
    },
    {
     "data": {
      "image/png": "[encoded data removed]",
      "text/plain": [
       "<Figure size 288x216 with 1 Axes>"
      ]
     },
     "metadata": {},
     "output_type": "display_data"
    }
   ],
   "source": [
    "sns.histplot(data=admits, x=\"Services_Intravenous\", color='orange')\n",
    "sns.histplot(data=readmits, x=\"Services_Intravenous\", color='white')\n",
    "plt.legend(labels=[\"Initial admit\", \"Readmit\"], bbox_to_anchor=(1,1))"
   ]
  },
  {
   "cell_type": "code",
   "execution_count": 46,
   "id": "0a712c01",
   "metadata": {},
   "outputs": [],
   "source": [
    "#Separate data into 30% test data and 70% training data\n",
    "X= med_df[['Initial_days','VitD_levels','Soft_drink','HighBlood','Stroke','Complication_risk','Overweight','Arthritis','Diabetes','Hyperlipidemia','BackPain','Anxiety', 'Allergic_rhinitis','Reflux_esophagitis','Asthma','Services_Blood Work', 'Services_CT Scan',\n",
    "       'Services_Intravenous', 'Services_MRI']]\n",
    "y= med_df[['ReAdmis']]\n",
    "X_train,X_test,y_train,y_test = train_test_split(X,y, train_size=0.7, test_size=0.3, random_state=944)"
   ]
  },
  {
   "cell_type": "code",
   "execution_count": 47,
   "id": "643a77d2",
   "metadata": {},
   "outputs": [
    {
     "name": "stdout",
     "output_type": "stream",
     "text": [
      "0.37\n",
      "0.35\n"
     ]
    }
   ],
   "source": [
    "#Verify train and test sets have the same percentage of ReAdmis\n",
    "train = pd.concat([X_train, y_train], axis=1)\n",
    "test = pd.concat([X_test, y_test], axis=1)\n",
    "print(round(sum(train['ReAdmis'])/len(train), 2))\n",
    "print(round(sum(test['ReAdmis'])/len(test), 2))"
   ]
  },
  {
   "cell_type": "code",
   "execution_count": 48,
   "id": "bf2372f8",
   "metadata": {},
   "outputs": [
    {
     "data": {
      "text/html": [
       "<div>\n",
       "<style scoped>\n",
       "    .dataframe tbody tr th:only-of-type {\n",
       "        vertical-align: middle;\n",
       "    }\n",
       "\n",
       "    .dataframe tbody tr th {\n",
       "        vertical-align: top;\n",
       "    }\n",
       "\n",
       "    .dataframe thead th {\n",
       "        text-align: right;\n",
       "    }\n",
       "</style>\n",
       "<table border=\"1\" class=\"dataframe\">\n",
       "  <thead>\n",
       "    <tr style=\"text-align: right;\">\n",
       "      <th></th>\n",
       "      <th>Initial_days</th>\n",
       "      <th>VitD_levels</th>\n",
       "      <th>Soft_drink</th>\n",
       "      <th>HighBlood</th>\n",
       "      <th>Stroke</th>\n",
       "      <th>Complication_risk</th>\n",
       "      <th>Overweight</th>\n",
       "      <th>Arthritis</th>\n",
       "      <th>Diabetes</th>\n",
       "      <th>Hyperlipidemia</th>\n",
       "      <th>BackPain</th>\n",
       "      <th>Anxiety</th>\n",
       "      <th>Allergic_rhinitis</th>\n",
       "      <th>Reflux_esophagitis</th>\n",
       "      <th>Asthma</th>\n",
       "      <th>Services_Blood Work</th>\n",
       "      <th>Services_CT Scan</th>\n",
       "      <th>Services_Intravenous</th>\n",
       "      <th>Services_MRI</th>\n",
       "      <th>ReAdmis</th>\n",
       "    </tr>\n",
       "  </thead>\n",
       "  <tbody>\n",
       "    <tr>\n",
       "      <th>count</th>\n",
       "      <td>7000.000000</td>\n",
       "      <td>7000.000000</td>\n",
       "      <td>7000.000000</td>\n",
       "      <td>7000.000000</td>\n",
       "      <td>7000.000000</td>\n",
       "      <td>7000.000000</td>\n",
       "      <td>7000.000000</td>\n",
       "      <td>7000.000000</td>\n",
       "      <td>7000.000000</td>\n",
       "      <td>7000.000000</td>\n",
       "      <td>7000.000000</td>\n",
       "      <td>7000.000000</td>\n",
       "      <td>7000.000000</td>\n",
       "      <td>7000.000000</td>\n",
       "      <td>7000.000000</td>\n",
       "      <td>7000.000000</td>\n",
       "      <td>7000.000000</td>\n",
       "      <td>7000.000000</td>\n",
       "      <td>7000.000000</td>\n",
       "      <td>7000.000000</td>\n",
       "    </tr>\n",
       "    <tr>\n",
       "      <th>mean</th>\n",
       "      <td>34.731999</td>\n",
       "      <td>17.992967</td>\n",
       "      <td>0.254429</td>\n",
       "      <td>0.411286</td>\n",
       "      <td>0.197429</td>\n",
       "      <td>1.128857</td>\n",
       "      <td>0.709143</td>\n",
       "      <td>0.360429</td>\n",
       "      <td>0.272429</td>\n",
       "      <td>0.335857</td>\n",
       "      <td>0.410571</td>\n",
       "      <td>0.327000</td>\n",
       "      <td>0.390286</td>\n",
       "      <td>0.412429</td>\n",
       "      <td>0.286571</td>\n",
       "      <td>0.530286</td>\n",
       "      <td>0.122429</td>\n",
       "      <td>0.309857</td>\n",
       "      <td>0.037429</td>\n",
       "      <td>0.372429</td>\n",
       "    </tr>\n",
       "    <tr>\n",
       "      <th>std</th>\n",
       "      <td>26.316482</td>\n",
       "      <td>2.010588</td>\n",
       "      <td>0.435571</td>\n",
       "      <td>0.492102</td>\n",
       "      <td>0.398087</td>\n",
       "      <td>0.730978</td>\n",
       "      <td>0.454190</td>\n",
       "      <td>0.480159</td>\n",
       "      <td>0.445241</td>\n",
       "      <td>0.472323</td>\n",
       "      <td>0.491973</td>\n",
       "      <td>0.469151</td>\n",
       "      <td>0.487849</td>\n",
       "      <td>0.492307</td>\n",
       "      <td>0.452192</td>\n",
       "      <td>0.499118</td>\n",
       "      <td>0.327804</td>\n",
       "      <td>0.462468</td>\n",
       "      <td>0.189823</td>\n",
       "      <td>0.483486</td>\n",
       "    </tr>\n",
       "    <tr>\n",
       "      <th>min</th>\n",
       "      <td>1.001981</td>\n",
       "      <td>10.315234</td>\n",
       "      <td>0.000000</td>\n",
       "      <td>0.000000</td>\n",
       "      <td>0.000000</td>\n",
       "      <td>0.000000</td>\n",
       "      <td>0.000000</td>\n",
       "      <td>0.000000</td>\n",
       "      <td>0.000000</td>\n",
       "      <td>0.000000</td>\n",
       "      <td>0.000000</td>\n",
       "      <td>0.000000</td>\n",
       "      <td>0.000000</td>\n",
       "      <td>0.000000</td>\n",
       "      <td>0.000000</td>\n",
       "      <td>0.000000</td>\n",
       "      <td>0.000000</td>\n",
       "      <td>0.000000</td>\n",
       "      <td>0.000000</td>\n",
       "      <td>0.000000</td>\n",
       "    </tr>\n",
       "    <tr>\n",
       "      <th>25%</th>\n",
       "      <td>8.118691</td>\n",
       "      <td>16.669116</td>\n",
       "      <td>0.000000</td>\n",
       "      <td>0.000000</td>\n",
       "      <td>0.000000</td>\n",
       "      <td>1.000000</td>\n",
       "      <td>0.000000</td>\n",
       "      <td>0.000000</td>\n",
       "      <td>0.000000</td>\n",
       "      <td>0.000000</td>\n",
       "      <td>0.000000</td>\n",
       "      <td>0.000000</td>\n",
       "      <td>0.000000</td>\n",
       "      <td>0.000000</td>\n",
       "      <td>0.000000</td>\n",
       "      <td>0.000000</td>\n",
       "      <td>0.000000</td>\n",
       "      <td>0.000000</td>\n",
       "      <td>0.000000</td>\n",
       "      <td>0.000000</td>\n",
       "    </tr>\n",
       "    <tr>\n",
       "      <th>50%</th>\n",
       "      <td>37.605210</td>\n",
       "      <td>17.977789</td>\n",
       "      <td>0.000000</td>\n",
       "      <td>0.000000</td>\n",
       "      <td>0.000000</td>\n",
       "      <td>1.000000</td>\n",
       "      <td>1.000000</td>\n",
       "      <td>0.000000</td>\n",
       "      <td>0.000000</td>\n",
       "      <td>0.000000</td>\n",
       "      <td>0.000000</td>\n",
       "      <td>0.000000</td>\n",
       "      <td>0.000000</td>\n",
       "      <td>0.000000</td>\n",
       "      <td>0.000000</td>\n",
       "      <td>1.000000</td>\n",
       "      <td>0.000000</td>\n",
       "      <td>0.000000</td>\n",
       "      <td>0.000000</td>\n",
       "      <td>0.000000</td>\n",
       "    </tr>\n",
       "    <tr>\n",
       "      <th>75%</th>\n",
       "      <td>61.283375</td>\n",
       "      <td>19.363805</td>\n",
       "      <td>1.000000</td>\n",
       "      <td>1.000000</td>\n",
       "      <td>0.000000</td>\n",
       "      <td>2.000000</td>\n",
       "      <td>1.000000</td>\n",
       "      <td>1.000000</td>\n",
       "      <td>1.000000</td>\n",
       "      <td>1.000000</td>\n",
       "      <td>1.000000</td>\n",
       "      <td>1.000000</td>\n",
       "      <td>1.000000</td>\n",
       "      <td>1.000000</td>\n",
       "      <td>1.000000</td>\n",
       "      <td>1.000000</td>\n",
       "      <td>0.000000</td>\n",
       "      <td>1.000000</td>\n",
       "      <td>0.000000</td>\n",
       "      <td>1.000000</td>\n",
       "    </tr>\n",
       "    <tr>\n",
       "      <th>max</th>\n",
       "      <td>71.981490</td>\n",
       "      <td>25.444099</td>\n",
       "      <td>1.000000</td>\n",
       "      <td>1.000000</td>\n",
       "      <td>1.000000</td>\n",
       "      <td>2.000000</td>\n",
       "      <td>1.000000</td>\n",
       "      <td>1.000000</td>\n",
       "      <td>1.000000</td>\n",
       "      <td>1.000000</td>\n",
       "      <td>1.000000</td>\n",
       "      <td>1.000000</td>\n",
       "      <td>1.000000</td>\n",
       "      <td>1.000000</td>\n",
       "      <td>1.000000</td>\n",
       "      <td>1.000000</td>\n",
       "      <td>1.000000</td>\n",
       "      <td>1.000000</td>\n",
       "      <td>1.000000</td>\n",
       "      <td>1.000000</td>\n",
       "    </tr>\n",
       "  </tbody>\n",
       "</table>\n",
       "</div>"
      ],
      "text/plain": [
       "       Initial_days  VitD_levels   Soft_drink    HighBlood       Stroke  \\\n",
       "count   7000.000000  7000.000000  7000.000000  7000.000000  7000.000000   \n",
       "mean      34.731999    17.992967     0.254429     0.411286     0.197429   \n",
       "std       26.316482     2.010588     0.435571     0.492102     0.398087   \n",
       "min        1.001981    10.315234     0.000000     0.000000     0.000000   \n",
       "25%        8.118691    16.669116     0.000000     0.000000     0.000000   \n",
       "50%       37.605210    17.977789     0.000000     0.000000     0.000000   \n",
       "75%       61.283375    19.363805     1.000000     1.000000     0.000000   \n",
       "max       71.981490    25.444099     1.000000     1.000000     1.000000   \n",
       "\n",
       "       Complication_risk   Overweight    Arthritis     Diabetes  \\\n",
       "count        7000.000000  7000.000000  7000.000000  7000.000000   \n",
       "mean            1.128857     0.709143     0.360429     0.272429   \n",
       "std             0.730978     0.454190     0.480159     0.445241   \n",
       "min             0.000000     0.000000     0.000000     0.000000   \n",
       "25%             1.000000     0.000000     0.000000     0.000000   \n",
       "50%             1.000000     1.000000     0.000000     0.000000   \n",
       "75%             2.000000     1.000000     1.000000     1.000000   \n",
       "max             2.000000     1.000000     1.000000     1.000000   \n",
       "\n",
       "       Hyperlipidemia     BackPain      Anxiety  Allergic_rhinitis  \\\n",
       "count     7000.000000  7000.000000  7000.000000        7000.000000   \n",
       "mean         0.335857     0.410571     0.327000           0.390286   \n",
       "std          0.472323     0.491973     0.469151           0.487849   \n",
       "min          0.000000     0.000000     0.000000           0.000000   \n",
       "25%          0.000000     0.000000     0.000000           0.000000   \n",
       "50%          0.000000     0.000000     0.000000           0.000000   \n",
       "75%          1.000000     1.000000     1.000000           1.000000   \n",
       "max          1.000000     1.000000     1.000000           1.000000   \n",
       "\n",
       "       Reflux_esophagitis       Asthma  Services_Blood Work  Services_CT Scan  \\\n",
       "count         7000.000000  7000.000000          7000.000000       7000.000000   \n",
       "mean             0.412429     0.286571             0.530286          0.122429   \n",
       "std              0.492307     0.452192             0.499118          0.327804   \n",
       "min              0.000000     0.000000             0.000000          0.000000   \n",
       "25%              0.000000     0.000000             0.000000          0.000000   \n",
       "50%              0.000000     0.000000             1.000000          0.000000   \n",
       "75%              1.000000     1.000000             1.000000          0.000000   \n",
       "max              1.000000     1.000000             1.000000          1.000000   \n",
       "\n",
       "       Services_Intravenous  Services_MRI      ReAdmis  \n",
       "count           7000.000000   7000.000000  7000.000000  \n",
       "mean               0.309857      0.037429     0.372429  \n",
       "std                0.462468      0.189823     0.483486  \n",
       "min                0.000000      0.000000     0.000000  \n",
       "25%                0.000000      0.000000     0.000000  \n",
       "50%                0.000000      0.000000     0.000000  \n",
       "75%                1.000000      0.000000     1.000000  \n",
       "max                1.000000      1.000000     1.000000  "
      ]
     },
     "execution_count": 48,
     "metadata": {},
     "output_type": "execute_result"
    }
   ],
   "source": [
    "#check statistics of training data\n",
    "train.describe()"
   ]
  },
  {
   "cell_type": "code",
   "execution_count": 49,
   "id": "607ba3d5",
   "metadata": {},
   "outputs": [
    {
     "data": {
      "text/html": [
       "<div>\n",
       "<style scoped>\n",
       "    .dataframe tbody tr th:only-of-type {\n",
       "        vertical-align: middle;\n",
       "    }\n",
       "\n",
       "    .dataframe tbody tr th {\n",
       "        vertical-align: top;\n",
       "    }\n",
       "\n",
       "    .dataframe thead th {\n",
       "        text-align: right;\n",
       "    }\n",
       "</style>\n",
       "<table border=\"1\" class=\"dataframe\">\n",
       "  <thead>\n",
       "    <tr style=\"text-align: right;\">\n",
       "      <th></th>\n",
       "      <th>Initial_days</th>\n",
       "      <th>VitD_levels</th>\n",
       "      <th>Soft_drink</th>\n",
       "      <th>HighBlood</th>\n",
       "      <th>Stroke</th>\n",
       "      <th>Complication_risk</th>\n",
       "      <th>Overweight</th>\n",
       "      <th>Arthritis</th>\n",
       "      <th>Diabetes</th>\n",
       "      <th>Hyperlipidemia</th>\n",
       "      <th>BackPain</th>\n",
       "      <th>Anxiety</th>\n",
       "      <th>Allergic_rhinitis</th>\n",
       "      <th>Reflux_esophagitis</th>\n",
       "      <th>Asthma</th>\n",
       "      <th>Services_Blood Work</th>\n",
       "      <th>Services_CT Scan</th>\n",
       "      <th>Services_Intravenous</th>\n",
       "      <th>Services_MRI</th>\n",
       "      <th>ReAdmis</th>\n",
       "    </tr>\n",
       "  </thead>\n",
       "  <tbody>\n",
       "    <tr>\n",
       "      <th>count</th>\n",
       "      <td>3000.000000</td>\n",
       "      <td>3000.000000</td>\n",
       "      <td>3000.000000</td>\n",
       "      <td>3000.000000</td>\n",
       "      <td>3000.000000</td>\n",
       "      <td>3000.000000</td>\n",
       "      <td>3000.000000</td>\n",
       "      <td>3000.000000</td>\n",
       "      <td>3000.000000</td>\n",
       "      <td>3000.000000</td>\n",
       "      <td>3000.000000</td>\n",
       "      <td>3000.000000</td>\n",
       "      <td>3000.000000</td>\n",
       "      <td>3000.000000</td>\n",
       "      <td>3000.000000</td>\n",
       "      <td>3000.000000</td>\n",
       "      <td>3000.000000</td>\n",
       "      <td>3000.000000</td>\n",
       "      <td>3000.000000</td>\n",
       "      <td>3000.000000</td>\n",
       "    </tr>\n",
       "    <tr>\n",
       "      <th>mean</th>\n",
       "      <td>33.809665</td>\n",
       "      <td>17.897283</td>\n",
       "      <td>0.264667</td>\n",
       "      <td>0.403667</td>\n",
       "      <td>0.203667</td>\n",
       "      <td>1.110333</td>\n",
       "      <td>0.710000</td>\n",
       "      <td>0.350333</td>\n",
       "      <td>0.277000</td>\n",
       "      <td>0.340333</td>\n",
       "      <td>0.413333</td>\n",
       "      <td>0.308667</td>\n",
       "      <td>0.403000</td>\n",
       "      <td>0.416000</td>\n",
       "      <td>0.295667</td>\n",
       "      <td>0.517667</td>\n",
       "      <td>0.122667</td>\n",
       "      <td>0.320333</td>\n",
       "      <td>0.039333</td>\n",
       "      <td>0.354000</td>\n",
       "    </tr>\n",
       "    <tr>\n",
       "      <th>std</th>\n",
       "      <td>26.285728</td>\n",
       "      <td>2.031407</td>\n",
       "      <td>0.441229</td>\n",
       "      <td>0.490714</td>\n",
       "      <td>0.402791</td>\n",
       "      <td>0.728242</td>\n",
       "      <td>0.453838</td>\n",
       "      <td>0.477154</td>\n",
       "      <td>0.447591</td>\n",
       "      <td>0.473900</td>\n",
       "      <td>0.492514</td>\n",
       "      <td>0.462020</td>\n",
       "      <td>0.490583</td>\n",
       "      <td>0.492976</td>\n",
       "      <td>0.456418</td>\n",
       "      <td>0.499771</td>\n",
       "      <td>0.328109</td>\n",
       "      <td>0.466682</td>\n",
       "      <td>0.194419</td>\n",
       "      <td>0.478289</td>\n",
       "    </tr>\n",
       "    <tr>\n",
       "      <th>min</th>\n",
       "      <td>1.009143</td>\n",
       "      <td>9.806483</td>\n",
       "      <td>0.000000</td>\n",
       "      <td>0.000000</td>\n",
       "      <td>0.000000</td>\n",
       "      <td>0.000000</td>\n",
       "      <td>0.000000</td>\n",
       "      <td>0.000000</td>\n",
       "      <td>0.000000</td>\n",
       "      <td>0.000000</td>\n",
       "      <td>0.000000</td>\n",
       "      <td>0.000000</td>\n",
       "      <td>0.000000</td>\n",
       "      <td>0.000000</td>\n",
       "      <td>0.000000</td>\n",
       "      <td>0.000000</td>\n",
       "      <td>0.000000</td>\n",
       "      <td>0.000000</td>\n",
       "      <td>0.000000</td>\n",
       "      <td>0.000000</td>\n",
       "    </tr>\n",
       "    <tr>\n",
       "      <th>25%</th>\n",
       "      <td>7.534621</td>\n",
       "      <td>16.555168</td>\n",
       "      <td>0.000000</td>\n",
       "      <td>0.000000</td>\n",
       "      <td>0.000000</td>\n",
       "      <td>1.000000</td>\n",
       "      <td>0.000000</td>\n",
       "      <td>0.000000</td>\n",
       "      <td>0.000000</td>\n",
       "      <td>0.000000</td>\n",
       "      <td>0.000000</td>\n",
       "      <td>0.000000</td>\n",
       "      <td>0.000000</td>\n",
       "      <td>0.000000</td>\n",
       "      <td>0.000000</td>\n",
       "      <td>0.000000</td>\n",
       "      <td>0.000000</td>\n",
       "      <td>0.000000</td>\n",
       "      <td>0.000000</td>\n",
       "      <td>0.000000</td>\n",
       "    </tr>\n",
       "    <tr>\n",
       "      <th>50%</th>\n",
       "      <td>24.475938</td>\n",
       "      <td>17.864851</td>\n",
       "      <td>0.000000</td>\n",
       "      <td>0.000000</td>\n",
       "      <td>0.000000</td>\n",
       "      <td>1.000000</td>\n",
       "      <td>1.000000</td>\n",
       "      <td>0.000000</td>\n",
       "      <td>0.000000</td>\n",
       "      <td>0.000000</td>\n",
       "      <td>0.000000</td>\n",
       "      <td>0.000000</td>\n",
       "      <td>0.000000</td>\n",
       "      <td>0.000000</td>\n",
       "      <td>0.000000</td>\n",
       "      <td>1.000000</td>\n",
       "      <td>0.000000</td>\n",
       "      <td>0.000000</td>\n",
       "      <td>0.000000</td>\n",
       "      <td>0.000000</td>\n",
       "    </tr>\n",
       "    <tr>\n",
       "      <th>75%</th>\n",
       "      <td>60.612885</td>\n",
       "      <td>19.281052</td>\n",
       "      <td>1.000000</td>\n",
       "      <td>1.000000</td>\n",
       "      <td>0.000000</td>\n",
       "      <td>2.000000</td>\n",
       "      <td>1.000000</td>\n",
       "      <td>1.000000</td>\n",
       "      <td>1.000000</td>\n",
       "      <td>1.000000</td>\n",
       "      <td>1.000000</td>\n",
       "      <td>1.000000</td>\n",
       "      <td>1.000000</td>\n",
       "      <td>1.000000</td>\n",
       "      <td>1.000000</td>\n",
       "      <td>1.000000</td>\n",
       "      <td>0.000000</td>\n",
       "      <td>1.000000</td>\n",
       "      <td>0.000000</td>\n",
       "      <td>1.000000</td>\n",
       "    </tr>\n",
       "    <tr>\n",
       "      <th>max</th>\n",
       "      <td>71.958130</td>\n",
       "      <td>26.394449</td>\n",
       "      <td>1.000000</td>\n",
       "      <td>1.000000</td>\n",
       "      <td>1.000000</td>\n",
       "      <td>2.000000</td>\n",
       "      <td>1.000000</td>\n",
       "      <td>1.000000</td>\n",
       "      <td>1.000000</td>\n",
       "      <td>1.000000</td>\n",
       "      <td>1.000000</td>\n",
       "      <td>1.000000</td>\n",
       "      <td>1.000000</td>\n",
       "      <td>1.000000</td>\n",
       "      <td>1.000000</td>\n",
       "      <td>1.000000</td>\n",
       "      <td>1.000000</td>\n",
       "      <td>1.000000</td>\n",
       "      <td>1.000000</td>\n",
       "      <td>1.000000</td>\n",
       "    </tr>\n",
       "  </tbody>\n",
       "</table>\n",
       "</div>"
      ],
      "text/plain": [
       "       Initial_days  VitD_levels   Soft_drink    HighBlood       Stroke  \\\n",
       "count   3000.000000  3000.000000  3000.000000  3000.000000  3000.000000   \n",
       "mean      33.809665    17.897283     0.264667     0.403667     0.203667   \n",
       "std       26.285728     2.031407     0.441229     0.490714     0.402791   \n",
       "min        1.009143     9.806483     0.000000     0.000000     0.000000   \n",
       "25%        7.534621    16.555168     0.000000     0.000000     0.000000   \n",
       "50%       24.475938    17.864851     0.000000     0.000000     0.000000   \n",
       "75%       60.612885    19.281052     1.000000     1.000000     0.000000   \n",
       "max       71.958130    26.394449     1.000000     1.000000     1.000000   \n",
       "\n",
       "       Complication_risk   Overweight    Arthritis     Diabetes  \\\n",
       "count        3000.000000  3000.000000  3000.000000  3000.000000   \n",
       "mean            1.110333     0.710000     0.350333     0.277000   \n",
       "std             0.728242     0.453838     0.477154     0.447591   \n",
       "min             0.000000     0.000000     0.000000     0.000000   \n",
       "25%             1.000000     0.000000     0.000000     0.000000   \n",
       "50%             1.000000     1.000000     0.000000     0.000000   \n",
       "75%             2.000000     1.000000     1.000000     1.000000   \n",
       "max             2.000000     1.000000     1.000000     1.000000   \n",
       "\n",
       "       Hyperlipidemia     BackPain      Anxiety  Allergic_rhinitis  \\\n",
       "count     3000.000000  3000.000000  3000.000000        3000.000000   \n",
       "mean         0.340333     0.413333     0.308667           0.403000   \n",
       "std          0.473900     0.492514     0.462020           0.490583   \n",
       "min          0.000000     0.000000     0.000000           0.000000   \n",
       "25%          0.000000     0.000000     0.000000           0.000000   \n",
       "50%          0.000000     0.000000     0.000000           0.000000   \n",
       "75%          1.000000     1.000000     1.000000           1.000000   \n",
       "max          1.000000     1.000000     1.000000           1.000000   \n",
       "\n",
       "       Reflux_esophagitis       Asthma  Services_Blood Work  Services_CT Scan  \\\n",
       "count         3000.000000  3000.000000          3000.000000       3000.000000   \n",
       "mean             0.416000     0.295667             0.517667          0.122667   \n",
       "std              0.492976     0.456418             0.499771          0.328109   \n",
       "min              0.000000     0.000000             0.000000          0.000000   \n",
       "25%              0.000000     0.000000             0.000000          0.000000   \n",
       "50%              0.000000     0.000000             1.000000          0.000000   \n",
       "75%              1.000000     1.000000             1.000000          0.000000   \n",
       "max              1.000000     1.000000             1.000000          1.000000   \n",
       "\n",
       "       Services_Intravenous  Services_MRI      ReAdmis  \n",
       "count           3000.000000   3000.000000  3000.000000  \n",
       "mean               0.320333      0.039333     0.354000  \n",
       "std                0.466682      0.194419     0.478289  \n",
       "min                0.000000      0.000000     0.000000  \n",
       "25%                0.000000      0.000000     0.000000  \n",
       "50%                0.000000      0.000000     0.000000  \n",
       "75%                1.000000      0.000000     1.000000  \n",
       "max                1.000000      1.000000     1.000000  "
      ]
     },
     "execution_count": 49,
     "metadata": {},
     "output_type": "execute_result"
    }
   ],
   "source": [
    "#check statistics of test data\n",
    "test.describe()"
   ]
  },
  {
   "cell_type": "code",
   "execution_count": 50,
   "id": "f1607ca1",
   "metadata": {},
   "outputs": [
    {
     "name": "stdout",
     "output_type": "stream",
     "text": [
      "                Med_cond        VIF\n",
      "0           Initial_days   1.001819\n",
      "1            VitD_levels   1.001634\n",
      "2             Soft_drink   1.001825\n",
      "3              HighBlood   1.001891\n",
      "4                 Stroke   1.001443\n",
      "5      Complication_risk   1.001665\n",
      "6             Overweight   1.001643\n",
      "7              Arthritis   1.002060\n",
      "8               Diabetes   1.002595\n",
      "9         Hyperlipidemia   1.001333\n",
      "10              BackPain   1.002536\n",
      "11               Anxiety   1.001602\n",
      "12     Allergic_rhinitis   1.000798\n",
      "13    Reflux_esophagitis   1.001818\n",
      "14                Asthma   1.001697\n",
      "15   Services_Blood Work  49.374997\n",
      "16      Services_CT Scan  12.369497\n",
      "17  Services_Intravenous  29.673159\n",
      "18          Services_MRI   4.447727\n"
     ]
    }
   ],
   "source": [
    "# VIF for demographic data. Adding gender columns returned an error when mixed with marital\n",
    "from statsmodels.stats.outliers_influence import variance_inflation_factor\n",
    "X = med_df[[\"Initial_days\",\"VitD_levels\",\"Soft_drink\", \"HighBlood\",\"Stroke\",\"Complication_risk\",\"Overweight\",\"Arthritis\",\"Diabetes\", \"Hyperlipidemia\",\"BackPain\", \"Anxiety\",\"Allergic_rhinitis\",\"Reflux_esophagitis\",\"Asthma\",'Services_Blood Work', 'Services_CT Scan',\n",
    "       'Services_Intravenous', 'Services_MRI']]\n",
    "vif_demo_data = pd.DataFrame()\n",
    "vif_demo_data['Med_cond'] = X.columns\n",
    "vif_demo_data[\"VIF\"] = [variance_inflation_factor(X.values, i)\n",
    "    for i in range(len(X.columns))]\n",
    "print(vif_demo_data)"
   ]
  },
  {
   "cell_type": "code",
   "execution_count": 51,
   "id": "370c5da8",
   "metadata": {},
   "outputs": [
    {
     "data": {
      "text/html": [
       "<div>\n",
       "<style scoped>\n",
       "    .dataframe tbody tr th:only-of-type {\n",
       "        vertical-align: middle;\n",
       "    }\n",
       "\n",
       "    .dataframe tbody tr th {\n",
       "        vertical-align: top;\n",
       "    }\n",
       "\n",
       "    .dataframe thead th {\n",
       "        text-align: right;\n",
       "    }\n",
       "</style>\n",
       "<table border=\"1\" class=\"dataframe\">\n",
       "  <thead>\n",
       "    <tr style=\"text-align: right;\">\n",
       "      <th></th>\n",
       "      <th>PCA1</th>\n",
       "      <th>PCA2</th>\n",
       "      <th>PCA3</th>\n",
       "      <th>PCA4</th>\n",
       "      <th>PCA5</th>\n",
       "      <th>PCA6</th>\n",
       "      <th>PCA7</th>\n",
       "      <th>PCA8</th>\n",
       "      <th>PCA9</th>\n",
       "      <th>PCA10</th>\n",
       "      <th>PCA11</th>\n",
       "      <th>PCA12</th>\n",
       "      <th>PCA13</th>\n",
       "      <th>PCA14</th>\n",
       "      <th>PCA15</th>\n",
       "      <th>PCA16</th>\n",
       "      <th>PCA17</th>\n",
       "      <th>PCA18</th>\n",
       "      <th>PCA19</th>\n",
       "    </tr>\n",
       "  </thead>\n",
       "  <tbody>\n",
       "    <tr>\n",
       "      <th>Initial_days</th>\n",
       "      <td>-0.017985</td>\n",
       "      <td>0.059998</td>\n",
       "      <td>0.190449</td>\n",
       "      <td>-0.484233</td>\n",
       "      <td>0.011653</td>\n",
       "      <td>-0.116738</td>\n",
       "      <td>0.197698</td>\n",
       "      <td>0.065804</td>\n",
       "      <td>0.064636</td>\n",
       "      <td>0.058644</td>\n",
       "      <td>0.004302</td>\n",
       "      <td>-0.445776</td>\n",
       "      <td>-0.141178</td>\n",
       "      <td>-0.347005</td>\n",
       "      <td>0.538685</td>\n",
       "      <td>0.015790</td>\n",
       "      <td>-0.070713</td>\n",
       "      <td>-0.161308</td>\n",
       "      <td>-5.707429e-18</td>\n",
       "    </tr>\n",
       "    <tr>\n",
       "      <th>VitD_levels</th>\n",
       "      <td>-0.002942</td>\n",
       "      <td>0.006534</td>\n",
       "      <td>-0.327753</td>\n",
       "      <td>0.026308</td>\n",
       "      <td>0.141457</td>\n",
       "      <td>-0.048904</td>\n",
       "      <td>0.127932</td>\n",
       "      <td>0.493260</td>\n",
       "      <td>0.205274</td>\n",
       "      <td>-0.315299</td>\n",
       "      <td>0.111533</td>\n",
       "      <td>-0.045310</td>\n",
       "      <td>0.484350</td>\n",
       "      <td>-0.073560</td>\n",
       "      <td>0.160614</td>\n",
       "      <td>-0.077145</td>\n",
       "      <td>0.409355</td>\n",
       "      <td>0.119963</td>\n",
       "      <td>7.137681e-17</td>\n",
       "    </tr>\n",
       "    <tr>\n",
       "      <th>Soft_drink</th>\n",
       "      <td>0.007390</td>\n",
       "      <td>-0.009177</td>\n",
       "      <td>0.226941</td>\n",
       "      <td>0.175102</td>\n",
       "      <td>0.156721</td>\n",
       "      <td>-0.463735</td>\n",
       "      <td>-0.135425</td>\n",
       "      <td>0.272906</td>\n",
       "      <td>-0.223026</td>\n",
       "      <td>0.009121</td>\n",
       "      <td>0.152330</td>\n",
       "      <td>-0.254704</td>\n",
       "      <td>0.230849</td>\n",
       "      <td>-0.232164</td>\n",
       "      <td>-0.399944</td>\n",
       "      <td>-0.154084</td>\n",
       "      <td>-0.281922</td>\n",
       "      <td>-0.277485</td>\n",
       "      <td>1.072307e-16</td>\n",
       "    </tr>\n",
       "    <tr>\n",
       "      <th>HighBlood</th>\n",
       "      <td>-0.003988</td>\n",
       "      <td>0.070798</td>\n",
       "      <td>-0.267893</td>\n",
       "      <td>0.022432</td>\n",
       "      <td>0.326034</td>\n",
       "      <td>0.227709</td>\n",
       "      <td>0.026110</td>\n",
       "      <td>-0.044950</td>\n",
       "      <td>-0.476097</td>\n",
       "      <td>0.190932</td>\n",
       "      <td>0.117249</td>\n",
       "      <td>-0.249076</td>\n",
       "      <td>0.020234</td>\n",
       "      <td>0.402055</td>\n",
       "      <td>0.207086</td>\n",
       "      <td>-0.443082</td>\n",
       "      <td>-0.003570</td>\n",
       "      <td>-0.147188</td>\n",
       "      <td>-3.295403e-16</td>\n",
       "    </tr>\n",
       "    <tr>\n",
       "      <th>Stroke</th>\n",
       "      <td>-0.025506</td>\n",
       "      <td>0.084975</td>\n",
       "      <td>-0.111507</td>\n",
       "      <td>0.266913</td>\n",
       "      <td>0.018618</td>\n",
       "      <td>-0.059811</td>\n",
       "      <td>0.221381</td>\n",
       "      <td>-0.080262</td>\n",
       "      <td>0.376169</td>\n",
       "      <td>0.442139</td>\n",
       "      <td>0.334765</td>\n",
       "      <td>-0.380083</td>\n",
       "      <td>0.137693</td>\n",
       "      <td>0.244713</td>\n",
       "      <td>-0.020484</td>\n",
       "      <td>0.358998</td>\n",
       "      <td>-0.161457</td>\n",
       "      <td>0.146102</td>\n",
       "      <td>7.387126e-17</td>\n",
       "    </tr>\n",
       "    <tr>\n",
       "      <th>Complication_risk</th>\n",
       "      <td>0.008438</td>\n",
       "      <td>0.040707</td>\n",
       "      <td>-0.270287</td>\n",
       "      <td>0.213825</td>\n",
       "      <td>-0.191433</td>\n",
       "      <td>0.092901</td>\n",
       "      <td>-0.013639</td>\n",
       "      <td>0.240272</td>\n",
       "      <td>-0.479978</td>\n",
       "      <td>0.367665</td>\n",
       "      <td>-0.103923</td>\n",
       "      <td>0.025125</td>\n",
       "      <td>-0.036947</td>\n",
       "      <td>-0.473952</td>\n",
       "      <td>0.103066</td>\n",
       "      <td>0.194748</td>\n",
       "      <td>-0.032051</td>\n",
       "      <td>0.351770</td>\n",
       "      <td>1.248816e-16</td>\n",
       "    </tr>\n",
       "    <tr>\n",
       "      <th>Overweight</th>\n",
       "      <td>0.007498</td>\n",
       "      <td>0.008775</td>\n",
       "      <td>-0.240068</td>\n",
       "      <td>0.127084</td>\n",
       "      <td>0.369852</td>\n",
       "      <td>0.133084</td>\n",
       "      <td>0.042090</td>\n",
       "      <td>-0.296041</td>\n",
       "      <td>-0.176597</td>\n",
       "      <td>-0.432568</td>\n",
       "      <td>0.187167</td>\n",
       "      <td>-0.210433</td>\n",
       "      <td>-0.231759</td>\n",
       "      <td>-0.255730</td>\n",
       "      <td>-0.140818</td>\n",
       "      <td>0.445369</td>\n",
       "      <td>0.130651</td>\n",
       "      <td>-0.173760</td>\n",
       "      <td>4.243426e-17</td>\n",
       "    </tr>\n",
       "    <tr>\n",
       "      <th>Arthritis</th>\n",
       "      <td>-0.003261</td>\n",
       "      <td>-0.002654</td>\n",
       "      <td>0.047991</td>\n",
       "      <td>-0.511366</td>\n",
       "      <td>0.036007</td>\n",
       "      <td>0.274259</td>\n",
       "      <td>-0.274587</td>\n",
       "      <td>0.061148</td>\n",
       "      <td>-0.068702</td>\n",
       "      <td>-0.141012</td>\n",
       "      <td>0.420315</td>\n",
       "      <td>-0.078510</td>\n",
       "      <td>0.104527</td>\n",
       "      <td>0.013312</td>\n",
       "      <td>-0.222219</td>\n",
       "      <td>0.010596</td>\n",
       "      <td>-0.269272</td>\n",
       "      <td>0.489893</td>\n",
       "      <td>3.661674e-17</td>\n",
       "    </tr>\n",
       "    <tr>\n",
       "      <th>Diabetes</th>\n",
       "      <td>0.025153</td>\n",
       "      <td>0.072674</td>\n",
       "      <td>0.319300</td>\n",
       "      <td>0.162686</td>\n",
       "      <td>0.038814</td>\n",
       "      <td>0.063375</td>\n",
       "      <td>-0.548887</td>\n",
       "      <td>-0.117205</td>\n",
       "      <td>0.096950</td>\n",
       "      <td>0.230887</td>\n",
       "      <td>0.197024</td>\n",
       "      <td>-0.186198</td>\n",
       "      <td>-0.071825</td>\n",
       "      <td>-0.140606</td>\n",
       "      <td>0.055513</td>\n",
       "      <td>-0.112721</td>\n",
       "      <td>0.603080</td>\n",
       "      <td>0.067168</td>\n",
       "      <td>5.261227e-17</td>\n",
       "    </tr>\n",
       "    <tr>\n",
       "      <th>Hyperlipidemia</th>\n",
       "      <td>-0.006332</td>\n",
       "      <td>-0.005175</td>\n",
       "      <td>0.195705</td>\n",
       "      <td>0.168084</td>\n",
       "      <td>-0.324954</td>\n",
       "      <td>-0.174613</td>\n",
       "      <td>-0.223756</td>\n",
       "      <td>-0.099645</td>\n",
       "      <td>-0.322602</td>\n",
       "      <td>-0.372784</td>\n",
       "      <td>-0.141139</td>\n",
       "      <td>-0.263235</td>\n",
       "      <td>0.262101</td>\n",
       "      <td>0.349024</td>\n",
       "      <td>0.328616</td>\n",
       "      <td>0.290179</td>\n",
       "      <td>-0.051456</td>\n",
       "      <td>0.140328</td>\n",
       "      <td>2.452451e-17</td>\n",
       "    </tr>\n",
       "    <tr>\n",
       "      <th>BackPain</th>\n",
       "      <td>-0.011244</td>\n",
       "      <td>0.097517</td>\n",
       "      <td>0.040308</td>\n",
       "      <td>-0.109720</td>\n",
       "      <td>0.259786</td>\n",
       "      <td>-0.498439</td>\n",
       "      <td>0.296276</td>\n",
       "      <td>-0.346584</td>\n",
       "      <td>-0.116243</td>\n",
       "      <td>0.000895</td>\n",
       "      <td>-0.188366</td>\n",
       "      <td>-0.053820</td>\n",
       "      <td>-0.029420</td>\n",
       "      <td>0.000993</td>\n",
       "      <td>-0.142054</td>\n",
       "      <td>-0.172698</td>\n",
       "      <td>0.214295</td>\n",
       "      <td>0.551531</td>\n",
       "      <td>-2.657041e-17</td>\n",
       "    </tr>\n",
       "    <tr>\n",
       "      <th>Anxiety</th>\n",
       "      <td>0.004715</td>\n",
       "      <td>-0.036449</td>\n",
       "      <td>-0.026211</td>\n",
       "      <td>-0.307426</td>\n",
       "      <td>0.314481</td>\n",
       "      <td>-0.246376</td>\n",
       "      <td>-0.210213</td>\n",
       "      <td>0.413060</td>\n",
       "      <td>-0.106314</td>\n",
       "      <td>0.213448</td>\n",
       "      <td>-0.161619</td>\n",
       "      <td>0.112653</td>\n",
       "      <td>-0.234657</td>\n",
       "      <td>0.361190</td>\n",
       "      <td>-0.052313</td>\n",
       "      <td>0.458850</td>\n",
       "      <td>0.172990</td>\n",
       "      <td>-0.068134</td>\n",
       "      <td>1.321545e-16</td>\n",
       "    </tr>\n",
       "    <tr>\n",
       "      <th>Allergic_rhinitis</th>\n",
       "      <td>-0.000253</td>\n",
       "      <td>0.037914</td>\n",
       "      <td>-0.059460</td>\n",
       "      <td>-0.194779</td>\n",
       "      <td>0.218404</td>\n",
       "      <td>0.251385</td>\n",
       "      <td>-0.183250</td>\n",
       "      <td>-0.249529</td>\n",
       "      <td>0.086985</td>\n",
       "      <td>0.192594</td>\n",
       "      <td>-0.556497</td>\n",
       "      <td>-0.148985</td>\n",
       "      <td>0.549833</td>\n",
       "      <td>-0.133494</td>\n",
       "      <td>-0.145670</td>\n",
       "      <td>0.135569</td>\n",
       "      <td>-0.042766</td>\n",
       "      <td>-0.110627</td>\n",
       "      <td>3.178867e-17</td>\n",
       "    </tr>\n",
       "    <tr>\n",
       "      <th>Reflux_esophagitis</th>\n",
       "      <td>-0.024335</td>\n",
       "      <td>0.109261</td>\n",
       "      <td>0.090583</td>\n",
       "      <td>-0.270935</td>\n",
       "      <td>-0.200150</td>\n",
       "      <td>-0.097861</td>\n",
       "      <td>0.232112</td>\n",
       "      <td>-0.241814</td>\n",
       "      <td>-0.310981</td>\n",
       "      <td>0.189199</td>\n",
       "      <td>0.392296</td>\n",
       "      <td>0.351907</td>\n",
       "      <td>0.381573</td>\n",
       "      <td>-0.015575</td>\n",
       "      <td>-0.019567</td>\n",
       "      <td>0.195435</td>\n",
       "      <td>0.269420</td>\n",
       "      <td>-0.276815</td>\n",
       "      <td>1.688431e-16</td>\n",
       "    </tr>\n",
       "    <tr>\n",
       "      <th>Asthma</th>\n",
       "      <td>-0.011945</td>\n",
       "      <td>0.080971</td>\n",
       "      <td>-0.047736</td>\n",
       "      <td>0.141667</td>\n",
       "      <td>0.426485</td>\n",
       "      <td>-0.219417</td>\n",
       "      <td>-0.302019</td>\n",
       "      <td>-0.172105</td>\n",
       "      <td>0.109679</td>\n",
       "      <td>0.015497</td>\n",
       "      <td>0.158687</td>\n",
       "      <td>0.444108</td>\n",
       "      <td>0.126826</td>\n",
       "      <td>-0.129318</td>\n",
       "      <td>0.485479</td>\n",
       "      <td>0.027915</td>\n",
       "      <td>-0.334798</td>\n",
       "      <td>0.063511</td>\n",
       "      <td>-7.361646e-17</td>\n",
       "    </tr>\n",
       "    <tr>\n",
       "      <th>Services_Blood Work</th>\n",
       "      <td>-0.738522</td>\n",
       "      <td>-0.196245</td>\n",
       "      <td>-0.042199</td>\n",
       "      <td>-0.004991</td>\n",
       "      <td>-0.011032</td>\n",
       "      <td>-0.024692</td>\n",
       "      <td>-0.040169</td>\n",
       "      <td>-0.025866</td>\n",
       "      <td>-0.002980</td>\n",
       "      <td>0.016989</td>\n",
       "      <td>0.007028</td>\n",
       "      <td>-0.013262</td>\n",
       "      <td>-0.004192</td>\n",
       "      <td>-0.016401</td>\n",
       "      <td>-0.001489</td>\n",
       "      <td>-0.015107</td>\n",
       "      <td>0.020765</td>\n",
       "      <td>-0.002986</td>\n",
       "      <td>6.401360e-01</td>\n",
       "    </tr>\n",
       "    <tr>\n",
       "      <th>Services_CT Scan</th>\n",
       "      <td>0.164834</td>\n",
       "      <td>0.822390</td>\n",
       "      <td>-0.186626</td>\n",
       "      <td>-0.056380</td>\n",
       "      <td>-0.154572</td>\n",
       "      <td>-0.076437</td>\n",
       "      <td>-0.124978</td>\n",
       "      <td>0.028837</td>\n",
       "      <td>0.065444</td>\n",
       "      <td>-0.083356</td>\n",
       "      <td>-0.047039</td>\n",
       "      <td>-0.008729</td>\n",
       "      <td>-0.085102</td>\n",
       "      <td>0.025536</td>\n",
       "      <td>-0.079323</td>\n",
       "      <td>-0.030816</td>\n",
       "      <td>-0.042713</td>\n",
       "      <td>-0.071697</td>\n",
       "      <td>4.203438e-01</td>\n",
       "    </tr>\n",
       "    <tr>\n",
       "      <th>Services_Intravenous</th>\n",
       "      <td>0.647181</td>\n",
       "      <td>-0.445230</td>\n",
       "      <td>-0.079475</td>\n",
       "      <td>-0.038913</td>\n",
       "      <td>-0.013441</td>\n",
       "      <td>-0.071333</td>\n",
       "      <td>-0.011108</td>\n",
       "      <td>-0.082203</td>\n",
       "      <td>-0.000606</td>\n",
       "      <td>0.056736</td>\n",
       "      <td>0.046343</td>\n",
       "      <td>-0.026565</td>\n",
       "      <td>0.037447</td>\n",
       "      <td>-0.011011</td>\n",
       "      <td>0.040683</td>\n",
       "      <td>-0.008207</td>\n",
       "      <td>0.012695</td>\n",
       "      <td>0.004167</td>\n",
       "      <td>5.945161e-01</td>\n",
       "    </tr>\n",
       "    <tr>\n",
       "      <th>Services_MRI</th>\n",
       "      <td>0.076317</td>\n",
       "      <td>0.182082</td>\n",
       "      <td>0.622979</td>\n",
       "      <td>0.204091</td>\n",
       "      <td>0.326469</td>\n",
       "      <td>0.368561</td>\n",
       "      <td>0.346152</td>\n",
       "      <td>0.217468</td>\n",
       "      <td>-0.102973</td>\n",
       "      <td>-0.039033</td>\n",
       "      <td>-0.050086</td>\n",
       "      <td>0.114031</td>\n",
       "      <td>0.066059</td>\n",
       "      <td>0.025747</td>\n",
       "      <td>0.041241</td>\n",
       "      <td>0.112197</td>\n",
       "      <td>-0.011772</td>\n",
       "      <td>0.120636</td>\n",
       "      <td>2.451277e-01</td>\n",
       "    </tr>\n",
       "  </tbody>\n",
       "</table>\n",
       "</div>"
      ],
      "text/plain": [
       "                          PCA1      PCA2      PCA3      PCA4      PCA5  \\\n",
       "Initial_days         -0.017985  0.059998  0.190449 -0.484233  0.011653   \n",
       "VitD_levels          -0.002942  0.006534 -0.327753  0.026308  0.141457   \n",
       "Soft_drink            0.007390 -0.009177  0.226941  0.175102  0.156721   \n",
       "HighBlood            -0.003988  0.070798 -0.267893  0.022432  0.326034   \n",
       "Stroke               -0.025506  0.084975 -0.111507  0.266913  0.018618   \n",
       "Complication_risk     0.008438  0.040707 -0.270287  0.213825 -0.191433   \n",
       "Overweight            0.007498  0.008775 -0.240068  0.127084  0.369852   \n",
       "Arthritis            -0.003261 -0.002654  0.047991 -0.511366  0.036007   \n",
       "Diabetes              0.025153  0.072674  0.319300  0.162686  0.038814   \n",
       "Hyperlipidemia       -0.006332 -0.005175  0.195705  0.168084 -0.324954   \n",
       "BackPain             -0.011244  0.097517  0.040308 -0.109720  0.259786   \n",
       "Anxiety               0.004715 -0.036449 -0.026211 -0.307426  0.314481   \n",
       "Allergic_rhinitis    -0.000253  0.037914 -0.059460 -0.194779  0.218404   \n",
       "Reflux_esophagitis   -0.024335  0.109261  0.090583 -0.270935 -0.200150   \n",
       "Asthma               -0.011945  0.080971 -0.047736  0.141667  0.426485   \n",
       "Services_Blood Work  -0.738522 -0.196245 -0.042199 -0.004991 -0.011032   \n",
       "Services_CT Scan      0.164834  0.822390 -0.186626 -0.056380 -0.154572   \n",
       "Services_Intravenous  0.647181 -0.445230 -0.079475 -0.038913 -0.013441   \n",
       "Services_MRI          0.076317  0.182082  0.622979  0.204091  0.326469   \n",
       "\n",
       "                          PCA6      PCA7      PCA8      PCA9     PCA10  \\\n",
       "Initial_days         -0.116738  0.197698  0.065804  0.064636  0.058644   \n",
       "VitD_levels          -0.048904  0.127932  0.493260  0.205274 -0.315299   \n",
       "Soft_drink           -0.463735 -0.135425  0.272906 -0.223026  0.009121   \n",
       "HighBlood             0.227709  0.026110 -0.044950 -0.476097  0.190932   \n",
       "Stroke               -0.059811  0.221381 -0.080262  0.376169  0.442139   \n",
       "Complication_risk     0.092901 -0.013639  0.240272 -0.479978  0.367665   \n",
       "Overweight            0.133084  0.042090 -0.296041 -0.176597 -0.432568   \n",
       "Arthritis             0.274259 -0.274587  0.061148 -0.068702 -0.141012   \n",
       "Diabetes              0.063375 -0.548887 -0.117205  0.096950  0.230887   \n",
       "Hyperlipidemia       -0.174613 -0.223756 -0.099645 -0.322602 -0.372784   \n",
       "BackPain             -0.498439  0.296276 -0.346584 -0.116243  0.000895   \n",
       "Anxiety              -0.246376 -0.210213  0.413060 -0.106314  0.213448   \n",
       "Allergic_rhinitis     0.251385 -0.183250 -0.249529  0.086985  0.192594   \n",
       "Reflux_esophagitis   -0.097861  0.232112 -0.241814 -0.310981  0.189199   \n",
       "Asthma               -0.219417 -0.302019 -0.172105  0.109679  0.015497   \n",
       "Services_Blood Work  -0.024692 -0.040169 -0.025866 -0.002980  0.016989   \n",
       "Services_CT Scan     -0.076437 -0.124978  0.028837  0.065444 -0.083356   \n",
       "Services_Intravenous -0.071333 -0.011108 -0.082203 -0.000606  0.056736   \n",
       "Services_MRI          0.368561  0.346152  0.217468 -0.102973 -0.039033   \n",
       "\n",
       "                         PCA11     PCA12     PCA13     PCA14     PCA15  \\\n",
       "Initial_days          0.004302 -0.445776 -0.141178 -0.347005  0.538685   \n",
       "VitD_levels           0.111533 -0.045310  0.484350 -0.073560  0.160614   \n",
       "Soft_drink            0.152330 -0.254704  0.230849 -0.232164 -0.399944   \n",
       "HighBlood             0.117249 -0.249076  0.020234  0.402055  0.207086   \n",
       "Stroke                0.334765 -0.380083  0.137693  0.244713 -0.020484   \n",
       "Complication_risk    -0.103923  0.025125 -0.036947 -0.473952  0.103066   \n",
       "Overweight            0.187167 -0.210433 -0.231759 -0.255730 -0.140818   \n",
       "Arthritis             0.420315 -0.078510  0.104527  0.013312 -0.222219   \n",
       "Diabetes              0.197024 -0.186198 -0.071825 -0.140606  0.055513   \n",
       "Hyperlipidemia       -0.141139 -0.263235  0.262101  0.349024  0.328616   \n",
       "BackPain             -0.188366 -0.053820 -0.029420  0.000993 -0.142054   \n",
       "Anxiety              -0.161619  0.112653 -0.234657  0.361190 -0.052313   \n",
       "Allergic_rhinitis    -0.556497 -0.148985  0.549833 -0.133494 -0.145670   \n",
       "Reflux_esophagitis    0.392296  0.351907  0.381573 -0.015575 -0.019567   \n",
       "Asthma                0.158687  0.444108  0.126826 -0.129318  0.485479   \n",
       "Services_Blood Work   0.007028 -0.013262 -0.004192 -0.016401 -0.001489   \n",
       "Services_CT Scan     -0.047039 -0.008729 -0.085102  0.025536 -0.079323   \n",
       "Services_Intravenous  0.046343 -0.026565  0.037447 -0.011011  0.040683   \n",
       "Services_MRI         -0.050086  0.114031  0.066059  0.025747  0.041241   \n",
       "\n",
       "                         PCA16     PCA17     PCA18         PCA19  \n",
       "Initial_days          0.015790 -0.070713 -0.161308 -5.707429e-18  \n",
       "VitD_levels          -0.077145  0.409355  0.119963  7.137681e-17  \n",
       "Soft_drink           -0.154084 -0.281922 -0.277485  1.072307e-16  \n",
       "HighBlood            -0.443082 -0.003570 -0.147188 -3.295403e-16  \n",
       "Stroke                0.358998 -0.161457  0.146102  7.387126e-17  \n",
       "Complication_risk     0.194748 -0.032051  0.351770  1.248816e-16  \n",
       "Overweight            0.445369  0.130651 -0.173760  4.243426e-17  \n",
       "Arthritis             0.010596 -0.269272  0.489893  3.661674e-17  \n",
       "Diabetes             -0.112721  0.603080  0.067168  5.261227e-17  \n",
       "Hyperlipidemia        0.290179 -0.051456  0.140328  2.452451e-17  \n",
       "BackPain             -0.172698  0.214295  0.551531 -2.657041e-17  \n",
       "Anxiety               0.458850  0.172990 -0.068134  1.321545e-16  \n",
       "Allergic_rhinitis     0.135569 -0.042766 -0.110627  3.178867e-17  \n",
       "Reflux_esophagitis    0.195435  0.269420 -0.276815  1.688431e-16  \n",
       "Asthma                0.027915 -0.334798  0.063511 -7.361646e-17  \n",
       "Services_Blood Work  -0.015107  0.020765 -0.002986  6.401360e-01  \n",
       "Services_CT Scan     -0.030816 -0.042713 -0.071697  4.203438e-01  \n",
       "Services_Intravenous -0.008207  0.012695  0.004167  5.945161e-01  \n",
       "Services_MRI          0.112197 -0.011772  0.120636  2.451277e-01  "
      ]
     },
     "execution_count": 51,
     "metadata": {},
     "output_type": "execute_result"
    }
   ],
   "source": [
    "#Perform PCA\n",
    "from sklearn.decomposition import PCA\n",
    "\n",
    "med_pca = X\n",
    "med_normalized = (med_pca-med_pca.mean())/med_pca.std()\n",
    "pca = PCA(n_components = med_pca.shape[1])\n",
    "pca.fit(med_normalized)\n",
    "loadings = pd.DataFrame(pca.components_.T, \n",
    "columns = ['PCA1', 'PCA2', 'PCA3', 'PCA4','PCA5','PCA6', 'PCA7', 'PCA8','PCA9','PCA10','PCA11','PCA12','PCA13', \"PCA14\", \"PCA15\", \"PCA16\",\"PCA17\",\"PCA18\", \"PCA19\"],\n",
    "index=med_normalized.columns)\n",
    "loadings"
   ]
  },
  {
   "cell_type": "code",
   "execution_count": 52,
   "id": "5e4f123d",
   "metadata": {},
   "outputs": [
    {
     "data": {
      "image/png": "[encoded data removed]",
      "text/plain": [
       "<Figure size 576x432 with 1 Axes>"
      ]
     },
     "metadata": {},
     "output_type": "display_data"
    }
   ],
   "source": [
    "#Create a covariance matrix to decide which PCAs to keep\n",
    "sns.set(rc = {'figure.figsize':(8,6)})\n",
    "cov_matrix = np.dot(med_normalized.T, med_normalized)/med_pca.shape[0]\n",
    "eigenvalues = [np.dot(eigenvector.T, np.dot(cov_matrix, eigenvector)) for eigenvector in pca.components_]\n",
    "plt.plot(eigenvalues, 'ro-')\n",
    "plt.xlabel('Number of Components')\n",
    "plt.ylabel('Eigenvalues')\n",
    "plt.show()"
   ]
  },
  {
   "cell_type": "code",
   "execution_count": 53,
   "id": "06a2831a",
   "metadata": {},
   "outputs": [
    {
     "data": {
      "image/png": "[encoded data removed]",
      "text/plain": [
       "<Figure size 1080x576 with 2 Axes>"
      ]
     },
     "metadata": {},
     "output_type": "display_data"
    }
   ],
   "source": [
    "#heatmap to view correlation\n",
    "sns.set(rc = {'figure.figsize':(15,8)})\n",
    "sns.heatmap(med_df.corr(), annot=True)\n",
    "plt.show()"
   ]
  },
  {
   "cell_type": "code",
   "execution_count": 54,
   "id": "030bd391",
   "metadata": {},
   "outputs": [
    {
     "data": {
      "text/html": [
       "<div>\n",
       "<style scoped>\n",
       "    .dataframe tbody tr th:only-of-type {\n",
       "        vertical-align: middle;\n",
       "    }\n",
       "\n",
       "    .dataframe tbody tr th {\n",
       "        vertical-align: top;\n",
       "    }\n",
       "\n",
       "    .dataframe thead th {\n",
       "        text-align: right;\n",
       "    }\n",
       "</style>\n",
       "<table border=\"1\" class=\"dataframe\">\n",
       "  <thead>\n",
       "    <tr style=\"text-align: right;\">\n",
       "      <th></th>\n",
       "      <th>Doc_visits</th>\n",
       "      <th>Initial_days</th>\n",
       "      <th>ReAdmis</th>\n",
       "      <th>VitD_levels</th>\n",
       "      <th>Soft_drink</th>\n",
       "      <th>HighBlood</th>\n",
       "      <th>Stroke</th>\n",
       "      <th>Complication_risk</th>\n",
       "      <th>Overweight</th>\n",
       "      <th>Arthritis</th>\n",
       "      <th>...</th>\n",
       "      <th>Hyperlipidemia</th>\n",
       "      <th>BackPain</th>\n",
       "      <th>Anxiety</th>\n",
       "      <th>Allergic_rhinitis</th>\n",
       "      <th>Reflux_esophagitis</th>\n",
       "      <th>Asthma</th>\n",
       "      <th>Services_Blood Work</th>\n",
       "      <th>Services_CT Scan</th>\n",
       "      <th>Services_Intravenous</th>\n",
       "      <th>Services_MRI</th>\n",
       "    </tr>\n",
       "  </thead>\n",
       "  <tbody>\n",
       "    <tr>\n",
       "      <th>Doc_visits</th>\n",
       "      <td>1.000000</td>\n",
       "      <td>-0.006754</td>\n",
       "      <td>0.000246</td>\n",
       "      <td>0.010210</td>\n",
       "      <td>0.011282</td>\n",
       "      <td>0.008967</td>\n",
       "      <td>-0.002230</td>\n",
       "      <td>0.012306</td>\n",
       "      <td>0.011890</td>\n",
       "      <td>-0.000719</td>\n",
       "      <td>...</td>\n",
       "      <td>-0.026730</td>\n",
       "      <td>0.008514</td>\n",
       "      <td>-0.001684</td>\n",
       "      <td>0.002920</td>\n",
       "      <td>-0.005330</td>\n",
       "      <td>-0.017989</td>\n",
       "      <td>0.003403</td>\n",
       "      <td>0.014600</td>\n",
       "      <td>-0.008700</td>\n",
       "      <td>-0.012822</td>\n",
       "    </tr>\n",
       "    <tr>\n",
       "      <th>Initial_days</th>\n",
       "      <td>-0.006754</td>\n",
       "      <td>1.000000</td>\n",
       "      <td>0.850862</td>\n",
       "      <td>-0.003642</td>\n",
       "      <td>0.002432</td>\n",
       "      <td>-0.006333</td>\n",
       "      <td>-0.002043</td>\n",
       "      <td>-0.014294</td>\n",
       "      <td>-0.011077</td>\n",
       "      <td>0.018907</td>\n",
       "      <td>...</td>\n",
       "      <td>-0.003974</td>\n",
       "      <td>0.017344</td>\n",
       "      <td>0.011908</td>\n",
       "      <td>0.003635</td>\n",
       "      <td>0.012237</td>\n",
       "      <td>-0.013496</td>\n",
       "      <td>0.006272</td>\n",
       "      <td>0.007786</td>\n",
       "      <td>-0.015430</td>\n",
       "      <td>0.007692</td>\n",
       "    </tr>\n",
       "    <tr>\n",
       "      <th>ReAdmis</th>\n",
       "      <td>0.000246</td>\n",
       "      <td>0.850862</td>\n",
       "      <td>1.000000</td>\n",
       "      <td>0.004083</td>\n",
       "      <td>0.007703</td>\n",
       "      <td>0.002270</td>\n",
       "      <td>0.000918</td>\n",
       "      <td>-0.003236</td>\n",
       "      <td>-0.008586</td>\n",
       "      <td>0.007663</td>\n",
       "      <td>...</td>\n",
       "      <td>0.004307</td>\n",
       "      <td>0.013313</td>\n",
       "      <td>0.002406</td>\n",
       "      <td>-0.004651</td>\n",
       "      <td>0.005422</td>\n",
       "      <td>-0.017133</td>\n",
       "      <td>-0.000718</td>\n",
       "      <td>0.024395</td>\n",
       "      <td>-0.020313</td>\n",
       "      <td>0.009309</td>\n",
       "    </tr>\n",
       "    <tr>\n",
       "      <th>VitD_levels</th>\n",
       "      <td>0.010210</td>\n",
       "      <td>-0.003642</td>\n",
       "      <td>0.004083</td>\n",
       "      <td>1.000000</td>\n",
       "      <td>0.004172</td>\n",
       "      <td>0.005660</td>\n",
       "      <td>0.006721</td>\n",
       "      <td>0.003787</td>\n",
       "      <td>0.009689</td>\n",
       "      <td>0.000075</td>\n",
       "      <td>...</td>\n",
       "      <td>-0.011870</td>\n",
       "      <td>-0.009080</td>\n",
       "      <td>0.007875</td>\n",
       "      <td>-0.005035</td>\n",
       "      <td>-0.014419</td>\n",
       "      <td>0.004937</td>\n",
       "      <td>0.001475</td>\n",
       "      <td>0.008048</td>\n",
       "      <td>-0.001984</td>\n",
       "      <td>-0.012840</td>\n",
       "    </tr>\n",
       "    <tr>\n",
       "      <th>Soft_drink</th>\n",
       "      <td>0.011282</td>\n",
       "      <td>0.002432</td>\n",
       "      <td>0.007703</td>\n",
       "      <td>0.004172</td>\n",
       "      <td>1.000000</td>\n",
       "      <td>-0.006129</td>\n",
       "      <td>0.001604</td>\n",
       "      <td>0.001410</td>\n",
       "      <td>-0.004888</td>\n",
       "      <td>-0.007304</td>\n",
       "      <td>...</td>\n",
       "      <td>0.016791</td>\n",
       "      <td>0.017496</td>\n",
       "      <td>0.016226</td>\n",
       "      <td>-0.015354</td>\n",
       "      <td>-0.002676</td>\n",
       "      <td>0.010114</td>\n",
       "      <td>-0.004002</td>\n",
       "      <td>-0.006583</td>\n",
       "      <td>0.003958</td>\n",
       "      <td>0.012141</td>\n",
       "    </tr>\n",
       "    <tr>\n",
       "      <th>HighBlood</th>\n",
       "      <td>0.008967</td>\n",
       "      <td>-0.006333</td>\n",
       "      <td>0.002270</td>\n",
       "      <td>0.005660</td>\n",
       "      <td>-0.006129</td>\n",
       "      <td>1.000000</td>\n",
       "      <td>0.007568</td>\n",
       "      <td>0.021368</td>\n",
       "      <td>0.026231</td>\n",
       "      <td>0.007314</td>\n",
       "      <td>...</td>\n",
       "      <td>-0.009529</td>\n",
       "      <td>0.003048</td>\n",
       "      <td>0.008303</td>\n",
       "      <td>0.011709</td>\n",
       "      <td>0.001150</td>\n",
       "      <td>0.006174</td>\n",
       "      <td>-0.000564</td>\n",
       "      <td>0.011772</td>\n",
       "      <td>-0.008408</td>\n",
       "      <td>0.001681</td>\n",
       "    </tr>\n",
       "    <tr>\n",
       "      <th>Stroke</th>\n",
       "      <td>-0.002230</td>\n",
       "      <td>-0.002043</td>\n",
       "      <td>0.000918</td>\n",
       "      <td>0.006721</td>\n",
       "      <td>0.001604</td>\n",
       "      <td>0.007568</td>\n",
       "      <td>1.000000</td>\n",
       "      <td>0.001119</td>\n",
       "      <td>-0.001011</td>\n",
       "      <td>-0.018438</td>\n",
       "      <td>...</td>\n",
       "      <td>-0.014847</td>\n",
       "      <td>0.003602</td>\n",
       "      <td>-0.013801</td>\n",
       "      <td>-0.004837</td>\n",
       "      <td>-0.000054</td>\n",
       "      <td>0.002443</td>\n",
       "      <td>0.010872</td>\n",
       "      <td>0.013635</td>\n",
       "      <td>-0.019871</td>\n",
       "      <td>-0.003580</td>\n",
       "    </tr>\n",
       "    <tr>\n",
       "      <th>Complication_risk</th>\n",
       "      <td>0.012306</td>\n",
       "      <td>-0.014294</td>\n",
       "      <td>-0.003236</td>\n",
       "      <td>0.003787</td>\n",
       "      <td>0.001410</td>\n",
       "      <td>0.021368</td>\n",
       "      <td>0.001119</td>\n",
       "      <td>1.000000</td>\n",
       "      <td>-0.001716</td>\n",
       "      <td>-0.015054</td>\n",
       "      <td>...</td>\n",
       "      <td>-0.000802</td>\n",
       "      <td>-0.015379</td>\n",
       "      <td>-0.000707</td>\n",
       "      <td>-0.002782</td>\n",
       "      <td>0.003102</td>\n",
       "      <td>-0.008973</td>\n",
       "      <td>-0.005534</td>\n",
       "      <td>0.015021</td>\n",
       "      <td>0.000612</td>\n",
       "      <td>-0.012789</td>\n",
       "    </tr>\n",
       "    <tr>\n",
       "      <th>Overweight</th>\n",
       "      <td>0.011890</td>\n",
       "      <td>-0.011077</td>\n",
       "      <td>-0.008586</td>\n",
       "      <td>0.009689</td>\n",
       "      <td>-0.004888</td>\n",
       "      <td>0.026231</td>\n",
       "      <td>-0.001011</td>\n",
       "      <td>-0.001716</td>\n",
       "      <td>1.000000</td>\n",
       "      <td>0.003954</td>\n",
       "      <td>...</td>\n",
       "      <td>-0.006102</td>\n",
       "      <td>0.010083</td>\n",
       "      <td>-0.011186</td>\n",
       "      <td>0.002819</td>\n",
       "      <td>-0.012240</td>\n",
       "      <td>0.013943</td>\n",
       "      <td>-0.003966</td>\n",
       "      <td>0.002005</td>\n",
       "      <td>0.004074</td>\n",
       "      <td>-0.002963</td>\n",
       "    </tr>\n",
       "    <tr>\n",
       "      <th>Arthritis</th>\n",
       "      <td>-0.000719</td>\n",
       "      <td>0.018907</td>\n",
       "      <td>0.007663</td>\n",
       "      <td>0.000075</td>\n",
       "      <td>-0.007304</td>\n",
       "      <td>0.007314</td>\n",
       "      <td>-0.018438</td>\n",
       "      <td>-0.015054</td>\n",
       "      <td>0.003954</td>\n",
       "      <td>1.000000</td>\n",
       "      <td>...</td>\n",
       "      <td>-0.007130</td>\n",
       "      <td>-0.018804</td>\n",
       "      <td>0.012045</td>\n",
       "      <td>0.008748</td>\n",
       "      <td>0.014894</td>\n",
       "      <td>-0.006423</td>\n",
       "      <td>0.002210</td>\n",
       "      <td>0.000754</td>\n",
       "      <td>-0.001198</td>\n",
       "      <td>-0.004160</td>\n",
       "    </tr>\n",
       "    <tr>\n",
       "      <th>Diabetes</th>\n",
       "      <td>0.012781</td>\n",
       "      <td>-0.002411</td>\n",
       "      <td>-0.003058</td>\n",
       "      <td>-0.025834</td>\n",
       "      <td>0.016907</td>\n",
       "      <td>-0.005858</td>\n",
       "      <td>0.005792</td>\n",
       "      <td>-0.006633</td>\n",
       "      <td>-0.007575</td>\n",
       "      <td>0.009097</td>\n",
       "      <td>...</td>\n",
       "      <td>0.011739</td>\n",
       "      <td>-0.013405</td>\n",
       "      <td>-0.002529</td>\n",
       "      <td>0.005486</td>\n",
       "      <td>-0.007816</td>\n",
       "      <td>0.016765</td>\n",
       "      <td>-0.018216</td>\n",
       "      <td>0.014087</td>\n",
       "      <td>0.001937</td>\n",
       "      <td>0.018715</td>\n",
       "    </tr>\n",
       "    <tr>\n",
       "      <th>Hyperlipidemia</th>\n",
       "      <td>-0.026730</td>\n",
       "      <td>-0.003974</td>\n",
       "      <td>0.004307</td>\n",
       "      <td>-0.011870</td>\n",
       "      <td>0.016791</td>\n",
       "      <td>-0.009529</td>\n",
       "      <td>-0.014847</td>\n",
       "      <td>-0.000802</td>\n",
       "      <td>-0.006102</td>\n",
       "      <td>-0.007130</td>\n",
       "      <td>...</td>\n",
       "      <td>1.000000</td>\n",
       "      <td>-0.000963</td>\n",
       "      <td>-0.013178</td>\n",
       "      <td>-0.009049</td>\n",
       "      <td>0.001580</td>\n",
       "      <td>-0.009106</td>\n",
       "      <td>0.004085</td>\n",
       "      <td>0.000600</td>\n",
       "      <td>-0.003848</td>\n",
       "      <td>-0.002363</td>\n",
       "    </tr>\n",
       "    <tr>\n",
       "      <th>BackPain</th>\n",
       "      <td>0.008514</td>\n",
       "      <td>0.017344</td>\n",
       "      <td>0.013313</td>\n",
       "      <td>-0.009080</td>\n",
       "      <td>0.017496</td>\n",
       "      <td>0.003048</td>\n",
       "      <td>0.003602</td>\n",
       "      <td>-0.015379</td>\n",
       "      <td>0.010083</td>\n",
       "      <td>-0.018804</td>\n",
       "      <td>...</td>\n",
       "      <td>-0.000963</td>\n",
       "      <td>1.000000</td>\n",
       "      <td>0.009289</td>\n",
       "      <td>0.004023</td>\n",
       "      <td>0.016036</td>\n",
       "      <td>0.014261</td>\n",
       "      <td>0.001619</td>\n",
       "      <td>0.016757</td>\n",
       "      <td>-0.013446</td>\n",
       "      <td>-0.000353</td>\n",
       "    </tr>\n",
       "    <tr>\n",
       "      <th>Anxiety</th>\n",
       "      <td>-0.001684</td>\n",
       "      <td>0.011908</td>\n",
       "      <td>0.002406</td>\n",
       "      <td>0.007875</td>\n",
       "      <td>0.016226</td>\n",
       "      <td>0.008303</td>\n",
       "      <td>-0.013801</td>\n",
       "      <td>-0.000707</td>\n",
       "      <td>-0.011186</td>\n",
       "      <td>0.012045</td>\n",
       "      <td>...</td>\n",
       "      <td>-0.013178</td>\n",
       "      <td>0.009289</td>\n",
       "      <td>1.000000</td>\n",
       "      <td>0.004368</td>\n",
       "      <td>-0.007566</td>\n",
       "      <td>0.011758</td>\n",
       "      <td>-0.000299</td>\n",
       "      <td>-0.005771</td>\n",
       "      <td>0.007251</td>\n",
       "      <td>-0.006909</td>\n",
       "    </tr>\n",
       "    <tr>\n",
       "      <th>Allergic_rhinitis</th>\n",
       "      <td>0.002920</td>\n",
       "      <td>0.003635</td>\n",
       "      <td>-0.004651</td>\n",
       "      <td>-0.005035</td>\n",
       "      <td>-0.015354</td>\n",
       "      <td>0.011709</td>\n",
       "      <td>-0.004837</td>\n",
       "      <td>-0.002782</td>\n",
       "      <td>0.002819</td>\n",
       "      <td>0.008748</td>\n",
       "      <td>...</td>\n",
       "      <td>-0.009049</td>\n",
       "      <td>0.004023</td>\n",
       "      <td>0.004368</td>\n",
       "      <td>1.000000</td>\n",
       "      <td>-0.007731</td>\n",
       "      <td>0.004454</td>\n",
       "      <td>-0.001204</td>\n",
       "      <td>0.007008</td>\n",
       "      <td>-0.003766</td>\n",
       "      <td>0.000259</td>\n",
       "    </tr>\n",
       "    <tr>\n",
       "      <th>Reflux_esophagitis</th>\n",
       "      <td>-0.005330</td>\n",
       "      <td>0.012237</td>\n",
       "      <td>0.005422</td>\n",
       "      <td>-0.014419</td>\n",
       "      <td>-0.002676</td>\n",
       "      <td>0.001150</td>\n",
       "      <td>-0.000054</td>\n",
       "      <td>0.003102</td>\n",
       "      <td>-0.012240</td>\n",
       "      <td>0.014894</td>\n",
       "      <td>...</td>\n",
       "      <td>0.001580</td>\n",
       "      <td>0.016036</td>\n",
       "      <td>-0.007566</td>\n",
       "      <td>-0.007731</td>\n",
       "      <td>1.000000</td>\n",
       "      <td>-0.001458</td>\n",
       "      <td>0.008102</td>\n",
       "      <td>0.017628</td>\n",
       "      <td>-0.022007</td>\n",
       "      <td>0.001986</td>\n",
       "    </tr>\n",
       "    <tr>\n",
       "      <th>Asthma</th>\n",
       "      <td>-0.017989</td>\n",
       "      <td>-0.013496</td>\n",
       "      <td>-0.017133</td>\n",
       "      <td>0.004937</td>\n",
       "      <td>0.010114</td>\n",
       "      <td>0.006174</td>\n",
       "      <td>0.002443</td>\n",
       "      <td>-0.008973</td>\n",
       "      <td>0.013943</td>\n",
       "      <td>-0.006423</td>\n",
       "      <td>...</td>\n",
       "      <td>-0.009106</td>\n",
       "      <td>0.014261</td>\n",
       "      <td>0.011758</td>\n",
       "      <td>0.004454</td>\n",
       "      <td>-0.001458</td>\n",
       "      <td>1.000000</td>\n",
       "      <td>0.003903</td>\n",
       "      <td>0.013862</td>\n",
       "      <td>-0.013559</td>\n",
       "      <td>-0.001077</td>\n",
       "    </tr>\n",
       "    <tr>\n",
       "      <th>Services_Blood Work</th>\n",
       "      <td>0.003403</td>\n",
       "      <td>0.006272</td>\n",
       "      <td>-0.000718</td>\n",
       "      <td>0.001475</td>\n",
       "      <td>-0.004002</td>\n",
       "      <td>-0.000564</td>\n",
       "      <td>0.010872</td>\n",
       "      <td>-0.005534</td>\n",
       "      <td>-0.003966</td>\n",
       "      <td>0.002210</td>\n",
       "      <td>...</td>\n",
       "      <td>0.004085</td>\n",
       "      <td>0.001619</td>\n",
       "      <td>-0.000299</td>\n",
       "      <td>-0.001204</td>\n",
       "      <td>0.008102</td>\n",
       "      <td>0.003903</td>\n",
       "      <td>1.000000</td>\n",
       "      <td>-0.393989</td>\n",
       "      <td>-0.711759</td>\n",
       "      <td>-0.209577</td>\n",
       "    </tr>\n",
       "    <tr>\n",
       "      <th>Services_CT Scan</th>\n",
       "      <td>0.014600</td>\n",
       "      <td>0.007786</td>\n",
       "      <td>0.024395</td>\n",
       "      <td>0.008048</td>\n",
       "      <td>-0.006583</td>\n",
       "      <td>0.011772</td>\n",
       "      <td>0.013635</td>\n",
       "      <td>0.015021</td>\n",
       "      <td>0.002005</td>\n",
       "      <td>0.000754</td>\n",
       "      <td>...</td>\n",
       "      <td>0.000600</td>\n",
       "      <td>0.016757</td>\n",
       "      <td>-0.005771</td>\n",
       "      <td>0.007008</td>\n",
       "      <td>0.017628</td>\n",
       "      <td>0.013862</td>\n",
       "      <td>-0.393989</td>\n",
       "      <td>1.000000</td>\n",
       "      <td>-0.252196</td>\n",
       "      <td>-0.074259</td>\n",
       "    </tr>\n",
       "    <tr>\n",
       "      <th>Services_Intravenous</th>\n",
       "      <td>-0.008700</td>\n",
       "      <td>-0.015430</td>\n",
       "      <td>-0.020313</td>\n",
       "      <td>-0.001984</td>\n",
       "      <td>0.003958</td>\n",
       "      <td>-0.008408</td>\n",
       "      <td>-0.019871</td>\n",
       "      <td>0.000612</td>\n",
       "      <td>0.004074</td>\n",
       "      <td>-0.001198</td>\n",
       "      <td>...</td>\n",
       "      <td>-0.003848</td>\n",
       "      <td>-0.013446</td>\n",
       "      <td>0.007251</td>\n",
       "      <td>-0.003766</td>\n",
       "      <td>-0.022007</td>\n",
       "      <td>-0.013559</td>\n",
       "      <td>-0.711759</td>\n",
       "      <td>-0.252196</td>\n",
       "      <td>1.000000</td>\n",
       "      <td>-0.134152</td>\n",
       "    </tr>\n",
       "    <tr>\n",
       "      <th>Services_MRI</th>\n",
       "      <td>-0.012822</td>\n",
       "      <td>0.007692</td>\n",
       "      <td>0.009309</td>\n",
       "      <td>-0.012840</td>\n",
       "      <td>0.012141</td>\n",
       "      <td>0.001681</td>\n",
       "      <td>-0.003580</td>\n",
       "      <td>-0.012789</td>\n",
       "      <td>-0.002963</td>\n",
       "      <td>-0.004160</td>\n",
       "      <td>...</td>\n",
       "      <td>-0.002363</td>\n",
       "      <td>-0.000353</td>\n",
       "      <td>-0.006909</td>\n",
       "      <td>0.000259</td>\n",
       "      <td>0.001986</td>\n",
       "      <td>-0.001077</td>\n",
       "      <td>-0.209577</td>\n",
       "      <td>-0.074259</td>\n",
       "      <td>-0.134152</td>\n",
       "      <td>1.000000</td>\n",
       "    </tr>\n",
       "  </tbody>\n",
       "</table>\n",
       "<p>21 rows × 21 columns</p>\n",
       "</div>"
      ],
      "text/plain": [
       "                      Doc_visits  Initial_days   ReAdmis  VitD_levels  \\\n",
       "Doc_visits              1.000000     -0.006754  0.000246     0.010210   \n",
       "Initial_days           -0.006754      1.000000  0.850862    -0.003642   \n",
       "ReAdmis                 0.000246      0.850862  1.000000     0.004083   \n",
       "VitD_levels             0.010210     -0.003642  0.004083     1.000000   \n",
       "Soft_drink              0.011282      0.002432  0.007703     0.004172   \n",
       "HighBlood               0.008967     -0.006333  0.002270     0.005660   \n",
       "Stroke                 -0.002230     -0.002043  0.000918     0.006721   \n",
       "Complication_risk       0.012306     -0.014294 -0.003236     0.003787   \n",
       "Overweight              0.011890     -0.011077 -0.008586     0.009689   \n",
       "Arthritis              -0.000719      0.018907  0.007663     0.000075   \n",
       "Diabetes                0.012781     -0.002411 -0.003058    -0.025834   \n",
       "Hyperlipidemia         -0.026730     -0.003974  0.004307    -0.011870   \n",
       "BackPain                0.008514      0.017344  0.013313    -0.009080   \n",
       "Anxiety                -0.001684      0.011908  0.002406     0.007875   \n",
       "Allergic_rhinitis       0.002920      0.003635 -0.004651    -0.005035   \n",
       "Reflux_esophagitis     -0.005330      0.012237  0.005422    -0.014419   \n",
       "Asthma                 -0.017989     -0.013496 -0.017133     0.004937   \n",
       "Services_Blood Work     0.003403      0.006272 -0.000718     0.001475   \n",
       "Services_CT Scan        0.014600      0.007786  0.024395     0.008048   \n",
       "Services_Intravenous   -0.008700     -0.015430 -0.020313    -0.001984   \n",
       "Services_MRI           -0.012822      0.007692  0.009309    -0.012840   \n",
       "\n",
       "                      Soft_drink  HighBlood    Stroke  Complication_risk  \\\n",
       "Doc_visits              0.011282   0.008967 -0.002230           0.012306   \n",
       "Initial_days            0.002432  -0.006333 -0.002043          -0.014294   \n",
       "ReAdmis                 0.007703   0.002270  0.000918          -0.003236   \n",
       "VitD_levels             0.004172   0.005660  0.006721           0.003787   \n",
       "Soft_drink              1.000000  -0.006129  0.001604           0.001410   \n",
       "HighBlood              -0.006129   1.000000  0.007568           0.021368   \n",
       "Stroke                  0.001604   0.007568  1.000000           0.001119   \n",
       "Complication_risk       0.001410   0.021368  0.001119           1.000000   \n",
       "Overweight             -0.004888   0.026231 -0.001011          -0.001716   \n",
       "Arthritis              -0.007304   0.007314 -0.018438          -0.015054   \n",
       "Diabetes                0.016907  -0.005858  0.005792          -0.006633   \n",
       "Hyperlipidemia          0.016791  -0.009529 -0.014847          -0.000802   \n",
       "BackPain                0.017496   0.003048  0.003602          -0.015379   \n",
       "Anxiety                 0.016226   0.008303 -0.013801          -0.000707   \n",
       "Allergic_rhinitis      -0.015354   0.011709 -0.004837          -0.002782   \n",
       "Reflux_esophagitis     -0.002676   0.001150 -0.000054           0.003102   \n",
       "Asthma                  0.010114   0.006174  0.002443          -0.008973   \n",
       "Services_Blood Work    -0.004002  -0.000564  0.010872          -0.005534   \n",
       "Services_CT Scan       -0.006583   0.011772  0.013635           0.015021   \n",
       "Services_Intravenous    0.003958  -0.008408 -0.019871           0.000612   \n",
       "Services_MRI            0.012141   0.001681 -0.003580          -0.012789   \n",
       "\n",
       "                      Overweight  Arthritis  ...  Hyperlipidemia  BackPain  \\\n",
       "Doc_visits              0.011890  -0.000719  ...       -0.026730  0.008514   \n",
       "Initial_days           -0.011077   0.018907  ...       -0.003974  0.017344   \n",
       "ReAdmis                -0.008586   0.007663  ...        0.004307  0.013313   \n",
       "VitD_levels             0.009689   0.000075  ...       -0.011870 -0.009080   \n",
       "Soft_drink             -0.004888  -0.007304  ...        0.016791  0.017496   \n",
       "HighBlood               0.026231   0.007314  ...       -0.009529  0.003048   \n",
       "Stroke                 -0.001011  -0.018438  ...       -0.014847  0.003602   \n",
       "Complication_risk      -0.001716  -0.015054  ...       -0.000802 -0.015379   \n",
       "Overweight              1.000000   0.003954  ...       -0.006102  0.010083   \n",
       "Arthritis               0.003954   1.000000  ...       -0.007130 -0.018804   \n",
       "Diabetes               -0.007575   0.009097  ...        0.011739 -0.013405   \n",
       "Hyperlipidemia         -0.006102  -0.007130  ...        1.000000 -0.000963   \n",
       "BackPain                0.010083  -0.018804  ...       -0.000963  1.000000   \n",
       "Anxiety                -0.011186   0.012045  ...       -0.013178  0.009289   \n",
       "Allergic_rhinitis       0.002819   0.008748  ...       -0.009049  0.004023   \n",
       "Reflux_esophagitis     -0.012240   0.014894  ...        0.001580  0.016036   \n",
       "Asthma                  0.013943  -0.006423  ...       -0.009106  0.014261   \n",
       "Services_Blood Work    -0.003966   0.002210  ...        0.004085  0.001619   \n",
       "Services_CT Scan        0.002005   0.000754  ...        0.000600  0.016757   \n",
       "Services_Intravenous    0.004074  -0.001198  ...       -0.003848 -0.013446   \n",
       "Services_MRI           -0.002963  -0.004160  ...       -0.002363 -0.000353   \n",
       "\n",
       "                       Anxiety  Allergic_rhinitis  Reflux_esophagitis  \\\n",
       "Doc_visits           -0.001684           0.002920           -0.005330   \n",
       "Initial_days          0.011908           0.003635            0.012237   \n",
       "ReAdmis               0.002406          -0.004651            0.005422   \n",
       "VitD_levels           0.007875          -0.005035           -0.014419   \n",
       "Soft_drink            0.016226          -0.015354           -0.002676   \n",
       "HighBlood             0.008303           0.011709            0.001150   \n",
       "Stroke               -0.013801          -0.004837           -0.000054   \n",
       "Complication_risk    -0.000707          -0.002782            0.003102   \n",
       "Overweight           -0.011186           0.002819           -0.012240   \n",
       "Arthritis             0.012045           0.008748            0.014894   \n",
       "Diabetes             -0.002529           0.005486           -0.007816   \n",
       "Hyperlipidemia       -0.013178          -0.009049            0.001580   \n",
       "BackPain              0.009289           0.004023            0.016036   \n",
       "Anxiety               1.000000           0.004368           -0.007566   \n",
       "Allergic_rhinitis     0.004368           1.000000           -0.007731   \n",
       "Reflux_esophagitis   -0.007566          -0.007731            1.000000   \n",
       "Asthma                0.011758           0.004454           -0.001458   \n",
       "Services_Blood Work  -0.000299          -0.001204            0.008102   \n",
       "Services_CT Scan     -0.005771           0.007008            0.017628   \n",
       "Services_Intravenous  0.007251          -0.003766           -0.022007   \n",
       "Services_MRI         -0.006909           0.000259            0.001986   \n",
       "\n",
       "                        Asthma  Services_Blood Work  Services_CT Scan  \\\n",
       "Doc_visits           -0.017989             0.003403          0.014600   \n",
       "Initial_days         -0.013496             0.006272          0.007786   \n",
       "ReAdmis              -0.017133            -0.000718          0.024395   \n",
       "VitD_levels           0.004937             0.001475          0.008048   \n",
       "Soft_drink            0.010114            -0.004002         -0.006583   \n",
       "HighBlood             0.006174            -0.000564          0.011772   \n",
       "Stroke                0.002443             0.010872          0.013635   \n",
       "Complication_risk    -0.008973            -0.005534          0.015021   \n",
       "Overweight            0.013943            -0.003966          0.002005   \n",
       "Arthritis            -0.006423             0.002210          0.000754   \n",
       "Diabetes              0.016765            -0.018216          0.014087   \n",
       "Hyperlipidemia       -0.009106             0.004085          0.000600   \n",
       "BackPain              0.014261             0.001619          0.016757   \n",
       "Anxiety               0.011758            -0.000299         -0.005771   \n",
       "Allergic_rhinitis     0.004454            -0.001204          0.007008   \n",
       "Reflux_esophagitis   -0.001458             0.008102          0.017628   \n",
       "Asthma                1.000000             0.003903          0.013862   \n",
       "Services_Blood Work   0.003903             1.000000         -0.393989   \n",
       "Services_CT Scan      0.013862            -0.393989          1.000000   \n",
       "Services_Intravenous -0.013559            -0.711759         -0.252196   \n",
       "Services_MRI         -0.001077            -0.209577         -0.074259   \n",
       "\n",
       "                      Services_Intravenous  Services_MRI  \n",
       "Doc_visits                       -0.008700     -0.012822  \n",
       "Initial_days                     -0.015430      0.007692  \n",
       "ReAdmis                          -0.020313      0.009309  \n",
       "VitD_levels                      -0.001984     -0.012840  \n",
       "Soft_drink                        0.003958      0.012141  \n",
       "HighBlood                        -0.008408      0.001681  \n",
       "Stroke                           -0.019871     -0.003580  \n",
       "Complication_risk                 0.000612     -0.012789  \n",
       "Overweight                        0.004074     -0.002963  \n",
       "Arthritis                        -0.001198     -0.004160  \n",
       "Diabetes                          0.001937      0.018715  \n",
       "Hyperlipidemia                   -0.003848     -0.002363  \n",
       "BackPain                         -0.013446     -0.000353  \n",
       "Anxiety                           0.007251     -0.006909  \n",
       "Allergic_rhinitis                -0.003766      0.000259  \n",
       "Reflux_esophagitis               -0.022007      0.001986  \n",
       "Asthma                           -0.013559     -0.001077  \n",
       "Services_Blood Work              -0.711759     -0.209577  \n",
       "Services_CT Scan                 -0.252196     -0.074259  \n",
       "Services_Intravenous              1.000000     -0.134152  \n",
       "Services_MRI                     -0.134152      1.000000  \n",
       "\n",
       "[21 rows x 21 columns]"
      ]
     },
     "execution_count": 54,
     "metadata": {},
     "output_type": "execute_result"
    }
   ],
   "source": [
    "#Check Pearson correlation\n",
    "med_df.corr(method='pearson')"
   ]
  },
  {
   "cell_type": "code",
   "execution_count": 55,
   "id": "67c72320",
   "metadata": {
    "scrolled": true
   },
   "outputs": [
    {
     "data": {
      "text/plain": [
       "[('Initial_days', True, 1),\n",
       " ('VitD_levels', False, 15),\n",
       " ('Soft_drink', False, 9),\n",
       " ('HighBlood', False, 5),\n",
       " ('Stroke', True, 1),\n",
       " ('Complication_risk', False, 14),\n",
       " ('Overweight', False, 16),\n",
       " ('Arthritis', False, 10),\n",
       " ('Diabetes', False, 13),\n",
       " ('Hyperlipidemia', False, 8),\n",
       " ('BackPain', False, 17),\n",
       " ('Anxiety', False, 6),\n",
       " ('Allergic_rhinitis', False, 11),\n",
       " ('Reflux_esophagitis', False, 12),\n",
       " ('Asthma', False, 4),\n",
       " ('Services_Blood Work', False, 3),\n",
       " ('Services_CT Scan', False, 7),\n",
       " ('Services_Intravenous', False, 2),\n",
       " ('Services_MRI', True, 1)]"
      ]
     },
     "execution_count": 55,
     "metadata": {},
     "output_type": "execute_result"
    }
   ],
   "source": [
    "#perform RFE to pick top 3 explanatory variables\n",
    "logreg = LogisticRegression()\n",
    "rfe = RFE(logreg,3)\n",
    "rfe = rfe.fit(X_train,y_train)\n",
    "list(zip(X_train.columns, rfe.support_, rfe.ranking_))"
   ]
  },
  {
   "cell_type": "code",
   "execution_count": 56,
   "id": "04ea22fc",
   "metadata": {
    "scrolled": false
   },
   "outputs": [
    {
     "data": {
      "text/html": [
       "<table class=\"simpletable\">\n",
       "<caption>Generalized Linear Model Regression Results</caption>\n",
       "<tr>\n",
       "  <th>Dep. Variable:</th>        <td>ReAdmis</td>     <th>  No. Observations:  </th>  <td>  7000</td> \n",
       "</tr>\n",
       "<tr>\n",
       "  <th>Model:</th>                  <td>GLM</td>       <th>  Df Residuals:      </th>  <td>  6981</td> \n",
       "</tr>\n",
       "<tr>\n",
       "  <th>Model Family:</th>        <td>Binomial</td>     <th>  Df Model:          </th>  <td>    18</td> \n",
       "</tr>\n",
       "<tr>\n",
       "  <th>Link Function:</th>         <td>logit</td>      <th>  Scale:             </th> <td>  1.0000</td>\n",
       "</tr>\n",
       "<tr>\n",
       "  <th>Method:</th>                <td>IRLS</td>       <th>  Log-Likelihood:    </th> <td> -274.86</td>\n",
       "</tr>\n",
       "<tr>\n",
       "  <th>Date:</th>            <td>Mon, 28 Feb 2022</td> <th>  Deviance:          </th> <td>  549.71</td>\n",
       "</tr>\n",
       "<tr>\n",
       "  <th>Time:</th>                <td>22:07:21</td>     <th>  Pearson chi2:      </th> <td>1.07e+03</td>\n",
       "</tr>\n",
       "<tr>\n",
       "  <th>No. Iterations:</th>         <td>12</td>        <th>                     </th>     <td> </td>   \n",
       "</tr>\n",
       "<tr>\n",
       "  <th>Covariance Type:</th>     <td>nonrobust</td>    <th>                     </th>     <td> </td>   \n",
       "</tr>\n",
       "</table>\n",
       "<table class=\"simpletable\">\n",
       "<tr>\n",
       "            <td></td>              <th>coef</th>     <th>std err</th>      <th>z</th>      <th>P>|z|</th>  <th>[0.025</th>    <th>0.975]</th>  \n",
       "</tr>\n",
       "<tr>\n",
       "  <th>const</th>                <td>  -53.8911</td> <td>    3.395</td> <td>  -15.874</td> <td> 0.000</td> <td>  -60.545</td> <td>  -47.237</td>\n",
       "</tr>\n",
       "<tr>\n",
       "  <th>Initial_days</th>         <td>    1.2302</td> <td>    0.075</td> <td>   16.453</td> <td> 0.000</td> <td>    1.084</td> <td>    1.377</td>\n",
       "</tr>\n",
       "<tr>\n",
       "  <th>VitD_levels</th>          <td>    0.0216</td> <td>    0.053</td> <td>    0.412</td> <td> 0.681</td> <td>   -0.081</td> <td>    0.125</td>\n",
       "</tr>\n",
       "<tr>\n",
       "  <th>Soft_drink</th>           <td>    0.1133</td> <td>    0.263</td> <td>    0.430</td> <td> 0.667</td> <td>   -0.403</td> <td>    0.629</td>\n",
       "</tr>\n",
       "<tr>\n",
       "  <th>HighBlood</th>            <td>    0.9133</td> <td>    0.237</td> <td>    3.853</td> <td> 0.000</td> <td>    0.449</td> <td>    1.378</td>\n",
       "</tr>\n",
       "<tr>\n",
       "  <th>Stroke</th>               <td>    1.5671</td> <td>    0.296</td> <td>    5.292</td> <td> 0.000</td> <td>    0.987</td> <td>    2.147</td>\n",
       "</tr>\n",
       "<tr>\n",
       "  <th>Complication_risk</th>    <td>    0.6444</td> <td>    0.155</td> <td>    4.146</td> <td> 0.000</td> <td>    0.340</td> <td>    0.949</td>\n",
       "</tr>\n",
       "<tr>\n",
       "  <th>Overweight</th>           <td>   -0.1891</td> <td>    0.243</td> <td>   -0.778</td> <td> 0.437</td> <td>   -0.666</td> <td>    0.287</td>\n",
       "</tr>\n",
       "<tr>\n",
       "  <th>Arthritis</th>            <td>   -0.8672</td> <td>    0.240</td> <td>   -3.611</td> <td> 0.000</td> <td>   -1.338</td> <td>   -0.396</td>\n",
       "</tr>\n",
       "<tr>\n",
       "  <th>Diabetes</th>             <td>    0.4084</td> <td>    0.258</td> <td>    1.585</td> <td> 0.113</td> <td>   -0.097</td> <td>    0.914</td>\n",
       "</tr>\n",
       "<tr>\n",
       "  <th>Hyperlipidemia</th>       <td>    0.5886</td> <td>    0.241</td> <td>    2.442</td> <td> 0.015</td> <td>    0.116</td> <td>    1.061</td>\n",
       "</tr>\n",
       "<tr>\n",
       "  <th>BackPain</th>             <td>    0.3154</td> <td>    0.225</td> <td>    1.404</td> <td> 0.160</td> <td>   -0.125</td> <td>    0.756</td>\n",
       "</tr>\n",
       "<tr>\n",
       "  <th>Anxiety</th>              <td>   -0.7241</td> <td>    0.236</td> <td>   -3.069</td> <td> 0.002</td> <td>   -1.187</td> <td>   -0.262</td>\n",
       "</tr>\n",
       "<tr>\n",
       "  <th>Allergic_rhinitis</th>    <td>    0.0151</td> <td>    0.228</td> <td>    0.066</td> <td> 0.947</td> <td>   -0.432</td> <td>    0.462</td>\n",
       "</tr>\n",
       "<tr>\n",
       "  <th>Reflux_esophagitis</th>   <td>   -0.2237</td> <td>    0.227</td> <td>   -0.988</td> <td> 0.323</td> <td>   -0.668</td> <td>    0.220</td>\n",
       "</tr>\n",
       "<tr>\n",
       "  <th>Asthma</th>               <td>   -0.9704</td> <td>    0.245</td> <td>   -3.968</td> <td> 0.000</td> <td>   -1.450</td> <td>   -0.491</td>\n",
       "</tr>\n",
       "<tr>\n",
       "  <th>Services_Blood Work</th>  <td>  -14.3102</td> <td>    0.909</td> <td>  -15.739</td> <td> 0.000</td> <td>  -16.092</td> <td>  -12.528</td>\n",
       "</tr>\n",
       "<tr>\n",
       "  <th>Services_CT Scan</th>     <td>  -13.1485</td> <td>    0.890</td> <td>  -14.774</td> <td> 0.000</td> <td>  -14.893</td> <td>  -11.404</td>\n",
       "</tr>\n",
       "<tr>\n",
       "  <th>Services_Intravenous</th> <td>  -14.4227</td> <td>    0.924</td> <td>  -15.601</td> <td> 0.000</td> <td>  -16.235</td> <td>  -12.611</td>\n",
       "</tr>\n",
       "<tr>\n",
       "  <th>Services_MRI</th>         <td>  -12.0097</td> <td>    0.852</td> <td>  -14.103</td> <td> 0.000</td> <td>  -13.679</td> <td>  -10.341</td>\n",
       "</tr>\n",
       "</table>"
      ],
      "text/plain": [
       "<class 'statsmodels.iolib.summary.Summary'>\n",
       "\"\"\"\n",
       "                 Generalized Linear Model Regression Results                  \n",
       "==============================================================================\n",
       "Dep. Variable:                ReAdmis   No. Observations:                 7000\n",
       "Model:                            GLM   Df Residuals:                     6981\n",
       "Model Family:                Binomial   Df Model:                           18\n",
       "Link Function:                  logit   Scale:                          1.0000\n",
       "Method:                          IRLS   Log-Likelihood:                -274.86\n",
       "Date:                Mon, 28 Feb 2022   Deviance:                       549.71\n",
       "Time:                        22:07:21   Pearson chi2:                 1.07e+03\n",
       "No. Iterations:                    12                                         \n",
       "Covariance Type:            nonrobust                                         \n",
       "========================================================================================\n",
       "                           coef    std err          z      P>|z|      [0.025      0.975]\n",
       "----------------------------------------------------------------------------------------\n",
       "const                  -53.8911      3.395    -15.874      0.000     -60.545     -47.237\n",
       "Initial_days             1.2302      0.075     16.453      0.000       1.084       1.377\n",
       "VitD_levels              0.0216      0.053      0.412      0.681      -0.081       0.125\n",
       "Soft_drink               0.1133      0.263      0.430      0.667      -0.403       0.629\n",
       "HighBlood                0.9133      0.237      3.853      0.000       0.449       1.378\n",
       "Stroke                   1.5671      0.296      5.292      0.000       0.987       2.147\n",
       "Complication_risk        0.6444      0.155      4.146      0.000       0.340       0.949\n",
       "Overweight              -0.1891      0.243     -0.778      0.437      -0.666       0.287\n",
       "Arthritis               -0.8672      0.240     -3.611      0.000      -1.338      -0.396\n",
       "Diabetes                 0.4084      0.258      1.585      0.113      -0.097       0.914\n",
       "Hyperlipidemia           0.5886      0.241      2.442      0.015       0.116       1.061\n",
       "BackPain                 0.3154      0.225      1.404      0.160      -0.125       0.756\n",
       "Anxiety                 -0.7241      0.236     -3.069      0.002      -1.187      -0.262\n",
       "Allergic_rhinitis        0.0151      0.228      0.066      0.947      -0.432       0.462\n",
       "Reflux_esophagitis      -0.2237      0.227     -0.988      0.323      -0.668       0.220\n",
       "Asthma                  -0.9704      0.245     -3.968      0.000      -1.450      -0.491\n",
       "Services_Blood Work    -14.3102      0.909    -15.739      0.000     -16.092     -12.528\n",
       "Services_CT Scan       -13.1485      0.890    -14.774      0.000     -14.893     -11.404\n",
       "Services_Intravenous   -14.4227      0.924    -15.601      0.000     -16.235     -12.611\n",
       "Services_MRI           -12.0097      0.852    -14.103      0.000     -13.679     -10.341\n",
       "========================================================================================\n",
       "\"\"\""
      ]
     },
     "execution_count": 56,
     "metadata": {},
     "output_type": "execute_result"
    }
   ],
   "source": [
    "#1st Logostic Regression Model\n",
    "LogReg1 = sm.GLM(y_train,(sm.add_constant(X_train)), family = sm.families.Binomial())\n",
    "LogReg1.fit().summary()"
   ]
  },
  {
   "cell_type": "code",
   "execution_count": 57,
   "id": "c2155a3d",
   "metadata": {},
   "outputs": [
    {
     "data": {
      "text/html": [
       "<table class=\"simpletable\">\n",
       "<caption>Generalized Linear Model Regression Results</caption>\n",
       "<tr>\n",
       "  <th>Dep. Variable:</th>        <td>ReAdmis</td>     <th>  No. Observations:  </th>  <td>  7000</td> \n",
       "</tr>\n",
       "<tr>\n",
       "  <th>Model:</th>                  <td>GLM</td>       <th>  Df Residuals:      </th>  <td>  6996</td> \n",
       "</tr>\n",
       "<tr>\n",
       "  <th>Model Family:</th>        <td>Binomial</td>     <th>  Df Model:          </th>  <td>     3</td> \n",
       "</tr>\n",
       "<tr>\n",
       "  <th>Link Function:</th>         <td>logit</td>      <th>  Scale:             </th> <td>  1.0000</td>\n",
       "</tr>\n",
       "<tr>\n",
       "  <th>Method:</th>                <td>IRLS</td>       <th>  Log-Likelihood:    </th> <td> -318.73</td>\n",
       "</tr>\n",
       "<tr>\n",
       "  <th>Date:</th>            <td>Mon, 28 Feb 2022</td> <th>  Deviance:          </th> <td>  637.46</td>\n",
       "</tr>\n",
       "<tr>\n",
       "  <th>Time:</th>                <td>22:07:29</td>     <th>  Pearson chi2:      </th>  <td>  937.</td> \n",
       "</tr>\n",
       "<tr>\n",
       "  <th>No. Iterations:</th>         <td>12</td>        <th>                     </th>     <td> </td>   \n",
       "</tr>\n",
       "<tr>\n",
       "  <th>Covariance Type:</th>     <td>nonrobust</td>    <th>                     </th>     <td> </td>   \n",
       "</tr>\n",
       "</table>\n",
       "<table class=\"simpletable\">\n",
       "<tr>\n",
       "        <td></td>          <th>coef</th>     <th>std err</th>      <th>z</th>      <th>P>|z|</th>  <th>[0.025</th>    <th>0.975]</th>  \n",
       "</tr>\n",
       "<tr>\n",
       "  <th>const</th>        <td>  -57.2764</td> <td>    3.234</td> <td>  -17.711</td> <td> 0.000</td> <td>  -63.615</td> <td>  -50.938</td>\n",
       "</tr>\n",
       "<tr>\n",
       "  <th>Initial_days</th> <td>    1.0480</td> <td>    0.059</td> <td>   17.788</td> <td> 0.000</td> <td>    0.933</td> <td>    1.163</td>\n",
       "</tr>\n",
       "<tr>\n",
       "  <th>Stroke</th>       <td>    1.3342</td> <td>    0.271</td> <td>    4.930</td> <td> 0.000</td> <td>    0.804</td> <td>    1.865</td>\n",
       "</tr>\n",
       "<tr>\n",
       "  <th>Services_MRI</th> <td>    2.0310</td> <td>    0.449</td> <td>    4.519</td> <td> 0.000</td> <td>    1.150</td> <td>    2.912</td>\n",
       "</tr>\n",
       "</table>"
      ],
      "text/plain": [
       "<class 'statsmodels.iolib.summary.Summary'>\n",
       "\"\"\"\n",
       "                 Generalized Linear Model Regression Results                  \n",
       "==============================================================================\n",
       "Dep. Variable:                ReAdmis   No. Observations:                 7000\n",
       "Model:                            GLM   Df Residuals:                     6996\n",
       "Model Family:                Binomial   Df Model:                            3\n",
       "Link Function:                  logit   Scale:                          1.0000\n",
       "Method:                          IRLS   Log-Likelihood:                -318.73\n",
       "Date:                Mon, 28 Feb 2022   Deviance:                       637.46\n",
       "Time:                        22:07:29   Pearson chi2:                     937.\n",
       "No. Iterations:                    12                                         \n",
       "Covariance Type:            nonrobust                                         \n",
       "================================================================================\n",
       "                   coef    std err          z      P>|z|      [0.025      0.975]\n",
       "--------------------------------------------------------------------------------\n",
       "const          -57.2764      3.234    -17.711      0.000     -63.615     -50.938\n",
       "Initial_days     1.0480      0.059     17.788      0.000       0.933       1.163\n",
       "Stroke           1.3342      0.271      4.930      0.000       0.804       1.865\n",
       "Services_MRI     2.0310      0.449      4.519      0.000       1.150       2.912\n",
       "================================================================================\n",
       "\"\"\""
      ]
     },
     "execution_count": 57,
     "metadata": {},
     "output_type": "execute_result"
    }
   ],
   "source": [
    "#create reduced model\n",
    "col = X_train.columns[rfe.support_]\n",
    "\n",
    "X_train_sm = sm.add_constant(X_train[col])\n",
    "LogReg2 = sm.GLM(y_train,X_train_sm, family = sm.families.Binomial())\n",
    "res = LogReg2.fit()\n",
    "res.summary()"
   ]
  },
  {
   "cell_type": "code",
   "execution_count": 122,
   "id": "ce759be9",
   "metadata": {
    "scrolled": true
   },
   "outputs": [
    {
     "data": {
      "text/plain": [
       "<AxesSubplot:xlabel='Initial_days', ylabel='ReAdmis'>"
      ]
     },
     "execution_count": 122,
     "metadata": {},
     "output_type": "execute_result"
    },
    {
     "data": {
      "image/png": "[encoded data removed]",
      "text/plain": [
       "<Figure size 720x576 with 1 Axes>"
      ]
     },
     "metadata": {},
     "output_type": "display_data"
    }
   ],
   "source": [
    "#Visualize logistic regression with stroke and initial days\n",
    "sns.set(rc = {'figure.figsize':(10,8)})\n",
    "plt.xlim(-10,75)\n",
    "plt.ylim(-0.25,1.25)\n",
    "\n",
    "sns.regplot(x='Initial_days', y=\"ReAdmis\", data=med, color=\"lightblue\", logistic=True)\n",
    "sns.scatterplot(x='Initial_days', y=\"ReAdmis\", hue=\"Stroke\", color=\"black\",  data=med, ci=None)"
   ]
  },
  {
   "cell_type": "code",
   "execution_count": 123,
   "id": "e13ead3a",
   "metadata": {},
   "outputs": [
    {
     "data": {
      "text/plain": [
       "<AxesSubplot:xlabel='Initial_days', ylabel='ReAdmis'>"
      ]
     },
     "execution_count": 123,
     "metadata": {},
     "output_type": "execute_result"
    },
    {
     "data": {
      "image/png": "[encoded data removed]",
      "text/plain": [
       "<Figure size 720x576 with 1 Axes>"
      ]
     },
     "metadata": {},
     "output_type": "display_data"
    }
   ],
   "source": [
    "#Visualize logistic regression with MRI and initial days\n",
    "sns.set(rc = {'figure.figsize':(10,8)})\n",
    "plt.xlim(-10,80)\n",
    "plt.ylim(-0.2,1.2)\n",
    "\n",
    "sns.regplot(x='Initial_days', y=\"ReAdmis\", data=med, color=\"lightblue\", logistic=True)\n",
    "sns.scatterplot(x='Initial_days', y=\"ReAdmis\", hue=\"Services_MRI\", color=\"black\",  data=med, ci=None)"
   ]
  },
  {
   "cell_type": "code",
   "execution_count": 121,
   "id": "c827b005",
   "metadata": {
    "scrolled": true
   },
   "outputs": [
    {
     "name": "stdout",
     "output_type": "stream",
     "text": [
      "[[1892   46]\n",
      " [  36 1026]]\n"
     ]
    }
   ],
   "source": [
    "#Define Classifier\n",
    "from sklearn.neighbors import KNeighborsClassifier\n",
    "knn = KNeighborsClassifier(n_neighbors = 5, metric = 'minkowski', p = 2)\n",
    "knn.fit(X_train, y_train)\n",
    "\n",
    "# Predicting the Test set results\n",
    "y_pred = knn.predict(X_test)\n",
    "\n",
    "# Making the Confusion Matrix\n",
    "conf_matrix = confusion_matrix(y_test, y_pred) \n",
    "print(conf_matrix)"
   ]
  },
  {
   "cell_type": "code",
   "execution_count": 124,
   "id": "6bbb4b6e",
   "metadata": {},
   "outputs": [
    {
     "data": {
      "image/png": "[encoded data removed]",
      "text/plain": [
       "<Figure size 720x576 with 3 Axes>"
      ]
     },
     "metadata": {},
     "output_type": "display_data"
    }
   ],
   "source": [
    "#Visualize the confusion matrix\n",
    "from statsmodels.graphics.mosaicplot import mosaic\n",
    "mosaic(conf_matrix)\n",
    "plt.show()"
   ]
  },
  {
   "cell_type": "code",
   "execution_count": 125,
   "id": "e149f558",
   "metadata": {},
   "outputs": [],
   "source": [
    "#Export prepared data\n",
    "med_df.to_csv(r\"C:\\Users\\mlaws\\OneDrive - Western Governors University\\Documents\\WGU\\D208\\medical_prepared_D208P_A2.csv\")"
   ]
  }
 ],
 "metadata": {
  "kernelspec": {
   "display_name": "Python 3",
   "language": "python",
   "name": "python3"
  },
  "language_info": {
   "codemirror_mode": {
    "name": "ipython",
    "version": 3
   },
   "file_extension": ".py",
   "mimetype": "text/x-python",
   "name": "python",
   "nbconvert_exporter": "python",
   "pygments_lexer": "ipython3",
   "version": "3.8.8"
  }
 },
 "nbformat": 4,
 "nbformat_minor": 5
}
